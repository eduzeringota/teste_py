{
 "cells": [
  {
   "cell_type": "code",
   "execution_count": 2,
   "metadata": {},
   "outputs": [
    {
     "data": {
      "text/plain": [
       "{'p1': 1, 'p2': 2}"
      ]
     },
     "execution_count": 2,
     "metadata": {},
     "output_type": "execute_result"
    }
   ],
   "source": [
    "a = {'p1': 1, 'p2': 2}\n",
    "a"
   ]
  },
  {
   "cell_type": "code",
   "execution_count": 7,
   "metadata": {},
   "outputs": [
    {
     "name": "stdout",
     "output_type": "stream",
     "text": [
      "p1\n",
      "p2\n"
     ]
    }
   ],
   "source": [
    "for i in a:\n",
    "    print(i)"
   ]
  },
  {
   "cell_type": "code",
   "execution_count": 9,
   "metadata": {},
   "outputs": [
    {
     "data": {
      "text/plain": [
       "2"
      ]
     },
     "execution_count": 9,
     "metadata": {},
     "output_type": "execute_result"
    }
   ],
   "source": [
    "a['p2']"
   ]
  },
  {
   "cell_type": "code",
   "execution_count": 10,
   "metadata": {},
   "outputs": [
    {
     "data": {
      "text/plain": [
       "2"
      ]
     },
     "execution_count": 10,
     "metadata": {},
     "output_type": "execute_result"
    }
   ],
   "source": [
    "len(a)"
   ]
  },
  {
   "cell_type": "code",
   "execution_count": 15,
   "metadata": {},
   "outputs": [
    {
     "data": {
      "text/plain": [
       "dict_keys(['p1', 'p2'])"
      ]
     },
     "execution_count": 15,
     "metadata": {},
     "output_type": "execute_result"
    }
   ],
   "source": [
    "a.keys()"
   ]
  },
  {
   "cell_type": "code",
   "execution_count": 16,
   "metadata": {},
   "outputs": [],
   "source": [
    "script_tb_recomenda = (\n",
    "\"CREATE TABLE `tb_recomenda` (\"\n",
    "  \"`sg_acao`               int NOT NULL AUTO_INCREMENT,\"\n",
    "  \"`nu_seq`                smallint NOT NULL,\"\n",
    "  \"`fk_protocolo`          varchar(21) NOT NULL,\"\n",
    "  \"`nm_acao`               varchar(128) NOT NULL,\"\n",
    "  \"`nm_encaminhado`        varchar(128) NOT NULL,\"\n",
    "  \"`fg_proximo`            tinyint NOT NULL,\"\n",
    "  \"PRIMARY KEY (`sg_acao`),\"\n",
    "  \"KEY `fk_protocolo_idx` (`fk_protocolo`),\"\n",
    "  \"CONSTRAINT `fk_protocolo` FOREIGN KEY (`fk_protocolo`) REFERENCES `tb_protocolo` (`pk_protocolo`)\"\n",
    "\")\"\n",
    ")\n",
    "script_tb_protocolo = (\n",
    "\"CREATE TABLE `tb_protocolo` (\"\n",
    "  \"`pk_protocolo`          varchar(21) NOT NULL,\"\n",
    "  \"`tp_medio`              decimal(18,6) DEFAULT NULL,\"\n",
    "  \"`nm_prox_acao`          varchar(128) DEFAULT NULL,\"\n",
    "  \"`nm_prox_enc`           varchar(128) DEFAULT NULL,\"\n",
    "  \"`dt_timestamp`          timestamp NOT NULL DEFAULT CURRENT_TIMESTAMP,\"\n",
    "  \"`nu_qtd_casos`          int NOT NULL,\"\n",
    "  \"`cd_tipo_reco`          smallint NOT NULL,\"\n",
    "  \"PRIMARY KEY (`pk_protocolo`)\"\n",
    "\")\"\n",
    ")\n",
    "tabelas = (('tb_protocolo', script_tb_protocolo), ('tb_recomenda', script_tb_recomenda))"
   ]
  },
  {
   "cell_type": "code",
   "execution_count": 26,
   "metadata": {},
   "outputs": [
    {
     "name": "stdout",
     "output_type": "stream",
     "text": [
      "tb_protocolo\n",
      "tb_recomenda\n"
     ]
    }
   ],
   "source": [
    "for i in tabelas:\n",
    "    print(i[0])"
   ]
  },
  {
   "cell_type": "code",
   "execution_count": 27,
   "metadata": {},
   "outputs": [
    {
     "name": "stdout",
     "output_type": "stream",
     "text": [
      "tb_recomenda\n",
      "tb_protocolo\n"
     ]
    }
   ],
   "source": [
    "for i in reversed(tabelas):\n",
    "    print(i[0])"
   ]
  },
  {
   "cell_type": "code",
   "execution_count": null,
   "metadata": {},
   "outputs": [],
   "source": []
  }
 ],
 "metadata": {
  "kernelspec": {
   "display_name": "Python 3",
   "language": "python",
   "name": "python3"
  },
  "language_info": {
   "codemirror_mode": {
    "name": "ipython",
    "version": 3
   },
   "file_extension": ".py",
   "mimetype": "text/x-python",
   "name": "python",
   "nbconvert_exporter": "python",
   "pygments_lexer": "ipython3",
   "version": "3.7.7"
  }
 },
 "nbformat": 4,
 "nbformat_minor": 4
}
