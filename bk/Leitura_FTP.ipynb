{
 "cells": [
  {
   "cell_type": "code",
   "execution_count": null,
   "metadata": {},
   "outputs": [],
   "source": [
    "# declaração de pacotes\n",
    "import io\n",
    "import ftplib\n",
    "import pandas as pd"
   ]
  },
  {
   "cell_type": "code",
   "execution_count": null,
   "metadata": {},
   "outputs": [],
   "source": [
    "# parâmetros de conexão\n",
    "servidor = \"digitalgov.com.br\"\n",
    "usuario = \"digitalgov1\"\n",
    "pw = \"Alpar$639DigitalGov\"\n",
    "pasta = \"teste_bi\""
   ]
  },
  {
   "cell_type": "code",
   "execution_count": null,
   "metadata": {},
   "outputs": [],
   "source": [
    "# abre conexão com o servidor\n",
    "ftp = ftplib.FTP(servidor, usuario, pw)\n",
    "ftp.cwd(pasta)"
   ]
  },
  {
   "cell_type": "code",
   "execution_count": null,
   "metadata": {},
   "outputs": [],
   "source": [
    "ftp.dir()"
   ]
  },
  {
   "cell_type": "code",
   "execution_count": null,
   "metadata": {},
   "outputs": [],
   "source": [
    "arq_in = 'form.csv'"
   ]
  },
  {
   "cell_type": "code",
   "execution_count": null,
   "metadata": {},
   "outputs": [],
   "source": [
    "download_file = io.BytesIO()\n",
    "ftp.retrbinary('RETR ' + arq_in, download_file.write)\n",
    "download_file.seek(0)\n",
    "contents = download_file.read()\n",
    "download_file.seek(0)\n",
    "df_form = pd.read_csv(download_file)"
   ]
  },
  {
   "cell_type": "code",
   "execution_count": null,
   "metadata": {},
   "outputs": [],
   "source": [
    "df_form"
   ]
  },
  {
   "cell_type": "code",
   "execution_count": null,
   "metadata": {},
   "outputs": [],
   "source": [
    "arq_in = 'rating.csv'"
   ]
  },
  {
   "cell_type": "code",
   "execution_count": null,
   "metadata": {},
   "outputs": [],
   "source": [
    "download_file = io.BytesIO()\n",
    "ftp.retrbinary('RETR ' + arq_in, download_file.write)\n",
    "download_file.seek(0)\n",
    "contents = download_file.read()\n",
    "download_file.seek(0)\n",
    "df_rating = pd.read_csv(download_file)"
   ]
  },
  {
   "cell_type": "code",
   "execution_count": null,
   "metadata": {},
   "outputs": [],
   "source": [
    "df_rating"
   ]
  },
  {
   "cell_type": "code",
   "execution_count": null,
   "metadata": {},
   "outputs": [],
   "source": [
    "arq_in = 'sla.csv'"
   ]
  },
  {
   "cell_type": "code",
   "execution_count": null,
   "metadata": {},
   "outputs": [],
   "source": [
    "download_file = io.BytesIO()\n",
    "ftp.retrbinary('RETR ' + arq_in, download_file.write)\n",
    "download_file.seek(0)\n",
    "contents = download_file.read()\n",
    "download_file.seek(0)\n",
    "df_sla = pd.read_csv(download_file, dtype = str)"
   ]
  },
  {
   "cell_type": "code",
   "execution_count": null,
   "metadata": {},
   "outputs": [],
   "source": [
    "df_sla"
   ]
  },
  {
   "cell_type": "code",
   "execution_count": null,
   "metadata": {},
   "outputs": [],
   "source": [
    "arq_in = 'tasks2.xlsx'"
   ]
  },
  {
   "cell_type": "code",
   "execution_count": null,
   "metadata": {},
   "outputs": [],
   "source": [
    "download_file = io.BytesIO()\n",
    "ftp.retrbinary('RETR ' + arq_in, download_file.write)\n",
    "download_file.seek(0)\n",
    "contents = download_file.read()\n",
    "download_file.seek(0)\n",
    "df_tasks = pd.read_excel(download_file, sheet_name = None, dtype = str)"
   ]
  },
  {
   "cell_type": "code",
   "execution_count": null,
   "metadata": {},
   "outputs": [],
   "source": [
    "df_tasks"
   ]
  },
  {
   "cell_type": "code",
   "execution_count": null,
   "metadata": {},
   "outputs": [],
   "source": []
  }
 ],
 "metadata": {
  "kernelspec": {
   "display_name": "Python 3",
   "language": "python",
   "name": "python3"
  },
  "language_info": {
   "codemirror_mode": {
    "name": "ipython",
    "version": 3
   },
   "file_extension": ".py",
   "mimetype": "text/x-python",
   "name": "python",
   "nbconvert_exporter": "python",
   "pygments_lexer": "ipython3",
   "version": "3.7.6"
  }
 },
 "nbformat": 4,
 "nbformat_minor": 4
}
