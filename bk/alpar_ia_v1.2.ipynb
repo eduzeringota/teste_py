{
 "cells": [
  {
   "cell_type": "markdown",
   "metadata": {},
   "source": [
    "# <font color='blue'>ALPAR - Governo Digital - Processo Inteligente</font>"
   ]
  },
  {
   "cell_type": "markdown",
   "metadata": {},
   "source": [
    "# <font color='red'>recomendação de ações - gravando em MySQL</font>"
   ]
  },
  {
   "cell_type": "code",
   "execution_count": 1,
   "metadata": {},
   "outputs": [],
   "source": [
    "# !pip install mysql-connector-python"
   ]
  },
  {
   "cell_type": "code",
   "execution_count": 2,
   "metadata": {},
   "outputs": [
    {
     "name": "stdout",
     "output_type": "stream",
     "text": [
      "pandas versão 1.1.5\n",
      "numpy versão 1.19.4\n",
      "csv versão 1.0\n"
     ]
    }
   ],
   "source": [
    "import pandas as pd\n",
    "import numpy as np\n",
    "import copy\n",
    "import csv\n",
    "import codecs\n",
    "from os.path import expanduser\n",
    "\n",
    "print(\"pandas versão\", pd.__version__)\n",
    "print(\"numpy versão\", np.__version__)\n",
    "print(\"csv versão\", csv.__version__)\n",
    "\n",
    "pd.options.display.max_rows = 2000"
   ]
  },
  {
   "cell_type": "markdown",
   "metadata": {},
   "source": [
    "# <font color='black'>trata o dataset total</font>"
   ]
  },
  {
   "cell_type": "code",
   "execution_count": 3,
   "metadata": {},
   "outputs": [],
   "source": [
    "# caminho dos arquivos...\n",
    "home = expanduser(\"~\")\n",
    "caminho_in = home + '/Downloads/GDR/'"
   ]
  },
  {
   "cell_type": "code",
   "execution_count": 4,
   "metadata": {},
   "outputs": [
    {
     "name": "stdout",
     "output_type": "stream",
     "text": [
      "linhas = 518 , colunas = 23 \n"
     ]
    }
   ],
   "source": [
    "# abrindo os arquivos...\n",
    "arq_tasks = caminho_in + \"tasks.csv\"\n",
    "\n",
    "df_tasks = pd.read_csv(arq_tasks, sep = ',', dtype = str)\n",
    "print(\"linhas = %s , colunas = %s \" % df_tasks.shape)\n",
    "\n",
    "# df_tasks"
   ]
  },
  {
   "cell_type": "code",
   "execution_count": 5,
   "metadata": {},
   "outputs": [],
   "source": [
    "# exclui colunas não utilizáveis\n",
    "lst_del = ['Entidade', 'Usuário', 'Grupo', \n",
    "           'Motivo de cancelamento', 'Notificação',\n",
    "           'Comentário', 'Apoio', 'Data e Hora de atendimento',\n",
    "           'Status externo', 'Data de agendamento', 'Agendamento',\n",
    "           'Categoria', 'Grupo responsável', 'Prazo (em segundos)']\n",
    "df_tasks.drop(lst_del, axis = 1, inplace = True)\n",
    "lst_nomes = ['entidade', 'servico', 'protocolo', 'dt_conclusao', 'dt_criacao',\n",
    "             'acao', 'encaminhado_para', 'encerrado', 'cancelado']\n",
    "df_tasks.columns = lst_nomes"
   ]
  },
  {
   "cell_type": "code",
   "execution_count": 6,
   "metadata": {},
   "outputs": [],
   "source": [
    "# transforma datas do tipo string para tipo data\n",
    "df_tasks['dt_conclusao']= pd.to_datetime(df_tasks['dt_conclusao'])\n",
    "df_tasks['dt_criacao']= pd.to_datetime(df_tasks['dt_criacao'])"
   ]
  },
  {
   "cell_type": "code",
   "execution_count": 7,
   "metadata": {},
   "outputs": [],
   "source": [
    "# verifica a situação de cada protocolo\n",
    "df = df_tasks[['protocolo', 'encerrado', 'cancelado']].copy()\n",
    "\n",
    "df.loc[df['encerrado'] == 'false', 'encerrado'] = 0\n",
    "df.loc[df['encerrado'] == 'true', 'encerrado'] = 1\n",
    "df.loc[df['cancelado'] == 'false', 'cancelado'] = 0\n",
    "df.loc[df['cancelado'] == 'true', 'cancelado'] = 1\n",
    "\n",
    "df['encerrado'] = pd.to_numeric(df['encerrado'])\n",
    "df['cancelado'] = pd.to_numeric(df['cancelado'])\n",
    "\n",
    "# df"
   ]
  },
  {
   "cell_type": "code",
   "execution_count": 8,
   "metadata": {},
   "outputs": [],
   "source": [
    "# agrupa por protocolo, obtem o máximo de encerrado e cancelado\n",
    "df = df.groupby('protocolo').agg({'encerrado': 'max', 'cancelado': 'max'})"
   ]
  },
  {
   "cell_type": "code",
   "execution_count": 9,
   "metadata": {},
   "outputs": [],
   "source": [
    "# filtra os protocolos cancelados\n",
    "df.drop(df[df['cancelado'] == 1].index, inplace=True)\n",
    "\n",
    "# exclui a coluna de protocolos cancelados\n",
    "df.drop('cancelado', axis=1, inplace=True)\n",
    "\n",
    "# cria um dataframe de processos encerrados\n",
    "df_ence = df[(df['encerrado'] == 1)].copy()\n",
    "\n",
    "# cria um dataframe de processos em andamento\n",
    "df_anda = df[(df['encerrado'] == 0)].copy()\n",
    "\n",
    "# exclui a coluna encerrado dos 2 dataframes\n",
    "df_ence.drop('encerrado', axis=1, inplace=True)\n",
    "df_anda.drop('encerrado', axis=1, inplace=True)"
   ]
  },
  {
   "cell_type": "code",
   "execution_count": 10,
   "metadata": {},
   "outputs": [
    {
     "name": "stdout",
     "output_type": "stream",
     "text": [
      "(35, 0)\n",
      "(120, 0)\n"
     ]
    }
   ],
   "source": [
    "print(df_ence.shape)\n",
    "print(df_anda.shape)"
   ]
  },
  {
   "cell_type": "code",
   "execution_count": 11,
   "metadata": {},
   "outputs": [],
   "source": [
    "# cria o dataframe de encerrados e dataframe de em andamento\n",
    "lst_ence = df_ence.index.tolist()\n",
    "lst_anda = df_anda.index.tolist()"
   ]
  },
  {
   "cell_type": "markdown",
   "metadata": {},
   "source": [
    "# <font color='black'>cria e trata o dataset de protocolos encerrados</font>"
   ]
  },
  {
   "cell_type": "code",
   "execution_count": 12,
   "metadata": {},
   "outputs": [],
   "source": [
    "# cria dataset de tasks encerradas\n",
    "df_ence = df_tasks[df_tasks['protocolo'].isin(lst_ence)].copy()"
   ]
  },
  {
   "cell_type": "code",
   "execution_count": 13,
   "metadata": {},
   "outputs": [],
   "source": [
    "# verifica dados nulos\n",
    "# df_ence.isnull().sum()"
   ]
  },
  {
   "cell_type": "code",
   "execution_count": 14,
   "metadata": {},
   "outputs": [],
   "source": [
    "# coloca a string <vazio> nos valores NULL\n",
    "lst_mod = list(df_ence[df_ence['encaminhado_para'].isnull()].index)\n",
    "df_ence.loc[lst_mod, 'encaminhado_para'] = '<Vazio>'"
   ]
  },
  {
   "cell_type": "code",
   "execution_count": 15,
   "metadata": {},
   "outputs": [],
   "source": [
    "# ordena por entidade, serviço, protocolo, dt_criação\n",
    "df_ence.sort_values(by = ['entidade', 'servico', 'protocolo', 'dt_criacao'], inplace = True)\n",
    "\n",
    "# refaz o índice para a nova ordenação\n",
    "df_ence.reset_index(drop = True, inplace = True)"
   ]
  },
  {
   "cell_type": "code",
   "execution_count": 16,
   "metadata": {},
   "outputs": [],
   "source": [
    "# calcula a quantidade de dias da ação e exclui as datas de criação e de conclusão\n",
    "df_ence['dias'] = (df_ence['dt_conclusao'] - df_ence['dt_criacao']) / np.timedelta64(1, 'D')\n",
    "df_ence.drop(['dt_conclusao', 'dt_criacao'], axis=1, inplace=True)"
   ]
  },
  {
   "cell_type": "code",
   "execution_count": 17,
   "metadata": {},
   "outputs": [],
   "source": [
    "# exclui colunas não utilizáveis\n",
    "df_ence.drop(['encerrado', 'cancelado'], axis=1, inplace=True)\n",
    "\n",
    "# df_ence"
   ]
  },
  {
   "cell_type": "code",
   "execution_count": 18,
   "metadata": {},
   "outputs": [],
   "source": [
    "# agrupa o dataframe por protocolo, entidade e serviço e cria uma tupla de ações como informação de coluna\n",
    "df_ence = (df_ence.groupby(['protocolo', 'entidade', 'servico'])\n",
    "      .agg(\n",
    "        lst_acao=('acao', lambda x: tuple(x)),\n",
    "        lst_encaminhado=('encaminhado_para', lambda x: tuple(x)),\n",
    "        sum_dias=('dias', sum)).reset_index())"
   ]
  },
  {
   "cell_type": "code",
   "execution_count": 19,
   "metadata": {},
   "outputs": [],
   "source": [
    "# agrupa o dataframe por protocolo, entidade e serviço e cria uma tupla de ações como informação de coluna\n",
    "df_ence = (df_ence.groupby(['entidade', 'servico', 'lst_acao', 'lst_encaminhado'])\n",
    "      .agg(\n",
    "        media_dias=('sum_dias', 'mean')).reset_index())"
   ]
  },
  {
   "cell_type": "markdown",
   "metadata": {},
   "source": [
    "# <font color='black'>cria o dataset de protocolos em andamento</font>"
   ]
  },
  {
   "cell_type": "code",
   "execution_count": 20,
   "metadata": {},
   "outputs": [],
   "source": [
    "# cria dataset de tasks em andamento\n",
    "df_anda = df_tasks[df_tasks['protocolo'].isin(lst_anda)].copy()"
   ]
  },
  {
   "cell_type": "code",
   "execution_count": 21,
   "metadata": {},
   "outputs": [],
   "source": [
    "# exclui colunas não utilizáveis\n",
    "df_anda.drop(['encerrado', 'cancelado', 'dt_conclusao'], axis=1, inplace=True)\n",
    "\n",
    "# exclui as linhas com a coluna ação NULL\n",
    "df_anda = df_anda[~df_anda['acao'].isnull()].copy()\n",
    "\n",
    "# df_anda"
   ]
  },
  {
   "cell_type": "code",
   "execution_count": 22,
   "metadata": {},
   "outputs": [],
   "source": [
    "# ordena por entidade, serviço, protocolo, dt_criação\n",
    "df_anda.sort_values(by = ['entidade', 'servico', 'protocolo', 'dt_criacao'], inplace = True)\n",
    "\n",
    "# refaz o índice para a nova ordenação\n",
    "df_anda.reset_index(drop = True, inplace = True)"
   ]
  },
  {
   "cell_type": "code",
   "execution_count": 23,
   "metadata": {
    "scrolled": false
   },
   "outputs": [],
   "source": [
    "# agrupa o dataframe por protocolo, entidade e serviço e cria uma tupla de ações como informação de coluna\n",
    "df_anda = (df_anda.groupby(['protocolo', 'entidade', 'servico'])\n",
    "      .agg(lst_acao=('acao', lambda x: tuple(x)))\n",
    "      .reset_index()).copy()\n",
    "# df_anda"
   ]
  },
  {
   "cell_type": "markdown",
   "metadata": {},
   "source": [
    "# <font color='black'>cria um arquivo com recomendações</font>"
   ]
  },
  {
   "cell_type": "code",
   "execution_count": 24,
   "metadata": {},
   "outputs": [
    {
     "name": "stdout",
     "output_type": "stream",
     "text": [
      "total de protocolos a processar = range(0, 120)\n",
      "0\n",
      "100\n"
     ]
    }
   ],
   "source": [
    "# analisa cada protocolo em andamento\n",
    "# procura a sequência do protocolo em andamento para sugerir o restante da sequência\n",
    "\n",
    "# zera a lista de recomendações\n",
    "lst_reco = []\n",
    "const_max_tempo = 999999999.9\n",
    "tot_anda = range(len(df_anda))\n",
    "print('total de protocolos a processar =', tot_anda)\n",
    "\n",
    "# para cada protocolo em andamento procura uma coleção de sequências dos protocolos encerrados\n",
    "for i in tot_anda:\n",
    "    n_acoes = len(df_anda.loc[i, 'lst_acao'])\n",
    "    df_aux = df_ence[(df_ence['entidade'] == df_anda.loc[i, 'entidade']) & \n",
    "                     (df_ence['servico'] == df_anda.loc[i, 'servico']) &\n",
    "                     (df_ence['lst_acao'].apply(lambda x: x[:n_acoes]) == df_anda.loc[i, 'lst_acao'])]\n",
    "    df_aux.reset_index(inplace = True)\n",
    "    \n",
    "    # zera a variável que vai achar o registro \"entidade/serviço\" com o menor tempo de conclusão\n",
    "    # para quando for achado mais de 1 possibilidade\n",
    "    min_tempo = const_max_tempo\n",
    "    dt = {'sequencia': [], 'encaminhamento': []}\n",
    "\n",
    "    qtd_casos = len(df_aux)\n",
    "    for k in range(qtd_casos):\n",
    "        valor = np.float64(df_aux.loc[k, 'media_dias'])\n",
    "        if valor < min_tempo or min_tempo == None:\n",
    "            min_tempo = valor\n",
    "            dt = {'sequencia': list(df_aux.loc[k, 'lst_acao']), 'encaminhamento': list(df_aux.loc[k, 'lst_encaminhado'])}\n",
    "            \n",
    "    indice = len(list(df_anda.loc[i, 'lst_acao'])) if dt else -1\n",
    "    if qtd_casos == 1:\n",
    "        tipo_recomendacao = 2\n",
    "    elif qtd_casos > 1:\n",
    "        tipo_recomendacao = 3\n",
    "    else:\n",
    "        tipo_recomendacao = 1\n",
    "        \n",
    "    it = {'protocolo': df_anda.loc[i, 'protocolo'],\n",
    "            'seq_atual': list(df_anda.loc[i, 'lst_acao']),\n",
    "            'recomendacao': dt,\n",
    "            'tempo_medio': None if min_tempo == const_max_tempo > 5 else min_tempo,\n",
    "            'reco_acao_idx': indice,\n",
    "            'qtd_casos' : qtd_casos,\n",
    "            'tipo_recomendacao' : tipo_recomendacao}\n",
    "    lst_reco.append(it)\n",
    "    if i % 100 == 0:\n",
    "        print(i)"
   ]
  },
  {
   "cell_type": "code",
   "execution_count": 25,
   "metadata": {},
   "outputs": [],
   "source": [
    "# prepara uma lista de tuplas para gravação da tabela \"tb_protocolo\" no MySQL\n",
    "lst_protocolo = []\n",
    "lst_recomenda = []\n",
    "for k in lst_reco:\n",
    "    prx_acao = None\n",
    "    prx_encaminhamento = None\n",
    "    \n",
    "    n_acoes_ence = len(k['recomendacao']['sequencia'])\n",
    "    for j in range(n_acoes_ence):\n",
    "        if j == k['reco_acao_idx']:\n",
    "            proximo = 1\n",
    "            prx_acao = k['recomendacao']['sequencia'][j]\n",
    "            prx_encaminhamento = k['recomendacao']['encaminhamento'][j]\n",
    "        else:\n",
    "            proximo = 0\n",
    "        \n",
    "        lst_recomenda.append((j, \n",
    "                              k['protocolo'], \n",
    "                              k['recomendacao']['sequencia'][j], \n",
    "                              k['recomendacao']['encaminhamento'][j], \n",
    "                              proximo\n",
    "                             )\n",
    "        )\n",
    "\n",
    "    lst_protocolo.append((k['protocolo'], \n",
    "                          k['tempo_medio'], \n",
    "                          prx_acao, \n",
    "                          prx_encaminhamento,\n",
    "                          k['qtd_casos'],\n",
    "                          k['tipo_recomendacao']\n",
    "                         )\n",
    "    )"
   ]
  },
  {
   "cell_type": "code",
   "execution_count": 26,
   "metadata": {
    "scrolled": true
   },
   "outputs": [
    {
     "name": "stdout",
     "output_type": "stream",
     "text": [
      "252 Record inserted successfully into tb_protocolo table\n",
      "MySQL connection is closed\n"
     ]
    }
   ],
   "source": [
    "import mysql.connector\n",
    "from mysql.connector import Error\n",
    "\n",
    "try:\n",
    "    connection = mysql.connector.connect(host='localhost',\n",
    "                                         database='bd_reco',\n",
    "                                         user='gd',\n",
    "                                         password='Alpar@123')\n",
    "    \n",
    "    insert_protocolo = \"\"\"INSERT INTO tb_protocolo \n",
    "                        (pk_protocolo, tp_medio, nm_prox_acao, nm_prox_enc, nu_qtd_casos, cd_tipo_reco) \n",
    "                        VALUES (%s, %s, %s, %s, %s, %s)\"\"\"\n",
    "    insert_recomenda = \"\"\"INSERT INTO tb_recomenda \n",
    "                        (nu_seq, fk_protocolo, nm_acao, nm_encaminhado, fg_proximo) \n",
    "                        VALUES (%s, %s, %s, %s, %s)\"\"\"\n",
    "\n",
    "\n",
    "    cursor = connection.cursor()\n",
    "\n",
    "    cursor.execute(\"TRUNCATE TABLE bd_reco.tb_recomenda\")\n",
    "\n",
    "    cursor.execute(\"SET SQL_SAFE_UPDATES = 0\")\n",
    "    cursor.execute(\"DELETE FROM bd_reco.tb_protocolo\")\n",
    "    cursor.execute(\"SET SQL_SAFE_UPDATES = 1\")\n",
    "\n",
    "    cursor.executemany (insert_protocolo, lst_protocolo)\n",
    "    cursor.executemany (insert_recomenda, lst_recomenda)\n",
    "\n",
    "    connection.commit()\n",
    "\n",
    "    print(cursor.rowcount, \"Record inserted successfully into tb_protocolo table\")\n",
    "\n",
    "except mysql.connector.Error as error:\n",
    "    print(\"Failed to insert record into MySQL table {}\".format(error))\n",
    "\n",
    "finally:\n",
    "    if (connection.is_connected()):\n",
    "        cursor.close()\n",
    "        connection.close()\n",
    "        print(\"MySQL connection is closed\")"
   ]
  },
  {
   "cell_type": "code",
   "execution_count": null,
   "metadata": {},
   "outputs": [],
   "source": []
  }
 ],
 "metadata": {
  "kernelspec": {
   "display_name": "Python 3",
   "language": "python",
   "name": "python3"
  },
  "language_info": {
   "codemirror_mode": {
    "name": "ipython",
    "version": 3
   },
   "file_extension": ".py",
   "mimetype": "text/x-python",
   "name": "python",
   "nbconvert_exporter": "python",
   "pygments_lexer": "ipython3",
   "version": "3.7.7"
  }
 },
 "nbformat": 4,
 "nbformat_minor": 4
}
