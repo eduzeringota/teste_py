{
 "cells": [
  {
   "cell_type": "code",
   "execution_count": null,
   "metadata": {
    "ExecuteTime": {
     "end_time": "2021-01-29T21:00:14.188228Z",
     "start_time": "2021-01-29T21:00:13.375818Z"
    }
   },
   "outputs": [],
   "source": [
    "# importa bibliotecas necessárias\n",
    "import pandas as pd\n",
    "from mysql.connector import Error\n",
    "from mysql.connector import errorcode\n",
    "import mysql.connector"
   ]
  },
  {
   "cell_type": "code",
   "execution_count": null,
   "metadata": {
    "ExecuteTime": {
     "end_time": "2021-01-29T21:03:48.985893Z",
     "start_time": "2021-01-29T21:03:48.982919Z"
    }
   },
   "outputs": [],
   "source": [
    "# define componentes de autenticação\n",
    "My_host = 'localhost'\n",
    "My_db = 'bd_teste_fontes'\n",
    "My_user = 'gd'\n",
    "My_pw = 'Alpar@123'"
   ]
  },
  {
   "cell_type": "code",
   "execution_count": null,
   "metadata": {
    "ExecuteTime": {
     "end_time": "2021-01-29T21:03:50.697536Z",
     "start_time": "2021-01-29T21:03:50.694984Z"
    }
   },
   "outputs": [],
   "source": [
    "# define script de consulta\n",
    "sql_tasks = (\n",
    "\"SELECT * \"\n",
    "\"FROM tb_nx_tasks\"\n",
    ")"
   ]
  },
  {
   "cell_type": "code",
   "execution_count": null,
   "metadata": {
    "ExecuteTime": {
     "end_time": "2021-01-29T21:04:31.079485Z",
     "start_time": "2021-01-29T21:03:51.578780Z"
    }
   },
   "outputs": [],
   "source": [
    "# conecta no BD, executa a pesquisa\n",
    "try:\n",
    "    connection = mysql.connector.connect(host = My_host, database = My_db, user = My_user, password = My_pw)\n",
    "    \n",
    "    df_tasks = pd.read_sql(sql_tasks, con=connection)\n",
    "    \n",
    "except mysql.connector.Error as error:\n",
    "    print(\"Failed to read record from MySQL table {}\".format(error))\n",
    "\n",
    "finally:\n",
    "    if (connection.is_connected()):\n",
    "        connection.close()\n",
    "        print(f'{df_tasks.shape[0]} registros lidos em {df_tasks.shape[1]} colunas')\n",
    "        print(\"MySQL connection is closed\")"
   ]
  },
  {
   "cell_type": "code",
   "execution_count": null,
   "metadata": {
    "ExecuteTime": {
     "end_time": "2021-01-29T21:04:35.658796Z",
     "start_time": "2021-01-29T21:04:35.655205Z"
    }
   },
   "outputs": [],
   "source": [
    "# Altera os nomes das colunas\n",
    "lst_novo_nome = ['Protocolo', 'Entidade', 'EntidadeCodigo', 'Servico', 'Usuario',\n",
    "       'Grupo', 'DataHora_Conclusao', 'DataHora_Atendimento',\n",
    "       'DataHora_Criacao', 'Acao', 'EncaminhadoPara', 'Comentario',\n",
    "       'Apoio', 'ProcessoEncerrado', 'ProcessoCancelado',\n",
    "       'MotivoCancelamento', 'Notificacao', 'StatusExterno',\n",
    "       'Agendamento', 'DataHora_Agendamento', 'Categoria', 'GrupoResponsavel',\n",
    "       'Prazo']\n",
    "df_tasks.columns = lst_novo_nome"
   ]
  },
  {
   "cell_type": "code",
   "execution_count": null,
   "metadata": {
    "ExecuteTime": {
     "end_time": "2021-01-29T21:04:55.499666Z",
     "start_time": "2021-01-29T21:04:48.646078Z"
    }
   },
   "outputs": [],
   "source": [
    "# define as colunas que irão propagar dimensões e as transforma em tipo categoria\n",
    "cat_lst = ['Entidade', 'Servico']\n",
    "df_tasks[cat_lst] = df_tasks[cat_lst].apply(lambda x: x.astype('category'))\n",
    "\n",
    "# cria os nomes das colunas que serão chave da categoria e cria as próprias \n",
    "ad_cat_lst = ['cat_' + x for x in cat_lst]\n",
    "df_tasks[ad_cat_lst] = df_tasks[cat_lst].apply(lambda x: x.cat.codes)"
   ]
  },
  {
   "cell_type": "code",
   "execution_count": null,
   "metadata": {},
   "outputs": [],
   "source": []
  },
  {
   "cell_type": "code",
   "execution_count": null,
   "metadata": {},
   "outputs": [],
   "source": []
  },
  {
   "cell_type": "code",
   "execution_count": null,
   "metadata": {},
   "outputs": [],
   "source": []
  },
  {
   "cell_type": "code",
   "execution_count": null,
   "metadata": {},
   "outputs": [],
   "source": []
  },
  {
   "cell_type": "code",
   "execution_count": null,
   "metadata": {},
   "outputs": [],
   "source": []
  },
  {
   "cell_type": "code",
   "execution_count": null,
   "metadata": {},
   "outputs": [],
   "source": []
  },
  {
   "cell_type": "code",
   "execution_count": null,
   "metadata": {},
   "outputs": [],
   "source": []
  },
  {
   "cell_type": "code",
   "execution_count": null,
   "metadata": {},
   "outputs": [],
   "source": []
  },
  {
   "cell_type": "code",
   "execution_count": null,
   "metadata": {
    "ExecuteTime": {
     "end_time": "2021-01-29T21:19:49.160425Z",
     "start_time": "2021-01-29T21:19:12.403673Z"
    }
   },
   "outputs": [],
   "source": [
    "# faz as transformações necessárias\n",
    "df_tasks = df_tasks.drop_duplicates().reset_index(drop=True).reset_index()\n",
    "df_tasks.columns = ['PK_dim_Entidade', 'Entidade']"
   ]
  },
  {
   "cell_type": "code",
   "execution_count": null,
   "metadata": {},
   "outputs": [],
   "source": []
  },
  {
   "cell_type": "code",
   "execution_count": null,
   "metadata": {},
   "outputs": [],
   "source": []
  },
  {
   "cell_type": "code",
   "execution_count": null,
   "metadata": {
    "ExecuteTime": {
     "end_time": "2021-01-29T21:00:19.581022Z",
     "start_time": "2021-01-29T21:00:19.565745Z"
    }
   },
   "outputs": [],
   "source": [
    "df = pd.DataFrame({'col1':[1,2,3,4,5], 'col2':list('abcab'),  'col3':list('ababb')})\n",
    "print(df.dtypes)\n",
    "\n",
    "lst = ['col2', 'col3']\n",
    "df[lst] = df[lst].apply(lambda x: x.astype('category'))\n",
    "\n",
    "print(df.dtypes)"
   ]
  },
  {
   "cell_type": "code",
   "execution_count": null,
   "metadata": {
    "ExecuteTime": {
     "end_time": "2021-01-29T21:01:07.850206Z",
     "start_time": "2021-01-29T21:01:07.828528Z"
    }
   },
   "outputs": [],
   "source": [
    "df"
   ]
  },
  {
   "cell_type": "code",
   "execution_count": null,
   "metadata": {
    "ExecuteTime": {
     "end_time": "2021-01-29T21:01:32.667750Z",
     "start_time": "2021-01-29T21:01:32.651666Z"
    }
   },
   "outputs": [],
   "source": [
    "cat_columns = df.select_dtypes(['category']).columns\n",
    "print(cat_columns)\n",
    "ad_cat_columns = ['cat_' + x for x in cat_columns]\n",
    "print(ad_cat_columns)\n",
    "\n",
    "df[ad_cat_columns] = df[cat_columns].apply(lambda x: x.cat.codes)\n",
    "df"
   ]
  },
  {
   "cell_type": "code",
   "execution_count": null,
   "metadata": {},
   "outputs": [],
   "source": []
  },
  {
   "cell_type": "code",
   "execution_count": null,
   "metadata": {},
   "outputs": [],
   "source": []
  },
  {
   "cell_type": "code",
   "execution_count": null,
   "metadata": {},
   "outputs": [],
   "source": []
  },
  {
   "cell_type": "code",
   "execution_count": null,
   "metadata": {},
   "outputs": [],
   "source": []
  },
  {
   "cell_type": "code",
   "execution_count": null,
   "metadata": {},
   "outputs": [],
   "source": []
  },
  {
   "cell_type": "code",
   "execution_count": null,
   "metadata": {},
   "outputs": [],
   "source": []
  }
 ],
 "metadata": {
  "kernelspec": {
   "display_name": "Python 3",
   "language": "python",
   "name": "python3"
  },
  "language_info": {
   "codemirror_mode": {
    "name": "ipython",
    "version": 3
   },
   "file_extension": ".py",
   "mimetype": "text/x-python",
   "name": "python",
   "nbconvert_exporter": "python",
   "pygments_lexer": "ipython3",
   "version": "3.8.5"
  }
 },
 "nbformat": 4,
 "nbformat_minor": 4
}
