{
 "cells": [
  {
   "cell_type": "markdown",
   "metadata": {},
   "source": [
    "# <font color='blue'>ALPAR - Governo Digital - Processo Inteligente</font>"
   ]
  },
  {
   "cell_type": "markdown",
   "metadata": {},
   "source": [
    "# <font color='red'>recomendação de ações - gravando em MySQL</font>"
   ]
  },
  {
   "cell_type": "code",
   "execution_count": null,
   "metadata": {},
   "outputs": [],
   "source": [
    "# !pip install mysql-connector-python"
   ]
  },
  {
   "cell_type": "code",
   "execution_count": null,
   "metadata": {},
   "outputs": [],
   "source": [
    "import pandas as pd\n",
    "import numpy as np\n",
    "import copy\n",
    "import csv\n",
    "import codecs\n",
    "import time\n",
    "from os.path import expanduser\n",
    "import mysql.connector\n",
    "from mysql.connector import Error\n",
    "from mysql.connector import errorcode\n",
    "\n",
    "print(\"pandas versão\", pd.__version__)\n",
    "print(\"numpy versão\", np.__version__)\n",
    "print(\"csv versão\", csv.__version__)\n",
    "\n",
    "pd.options.display.max_rows = 2000\n",
    "pd.options.display.width = 120\n",
    "pd.options.display.max_colwidth = 100"
   ]
  },
  {
   "cell_type": "markdown",
   "metadata": {},
   "source": [
    "# <font color='black'>trata o dataset total</font>"
   ]
  },
  {
   "cell_type": "code",
   "execution_count": null,
   "metadata": {},
   "outputs": [],
   "source": [
    "Simulacao = True                            # alterna True ou False para tratar de dados reias ou simulados\n",
    "\n",
    "# caminho dos arquivos...\n",
    "home = expanduser(\"~\")\n",
    "caminho_in = './dados_gd/'\n",
    "arq_tasks = caminho_in + ('n_tasks.csv' if Simulacao else 'tasks.csv')\n",
    "\n",
    "df_tasks = pd.read_csv(arq_tasks, sep = ',', dtype = str)\n",
    "print(\"linhas = %s , colunas = %s \" % df_tasks.shape)\n",
    "\n",
    "# df_tasks"
   ]
  },
  {
   "cell_type": "code",
   "execution_count": null,
   "metadata": {},
   "outputs": [],
   "source": [
    "# exclui colunas não utilizáveis\n",
    "lst_del = ['Entidade', 'Usuário', 'Grupo', \n",
    "           'Motivo de cancelamento', 'Notificação',\n",
    "           'Comentário', 'Apoio', 'Data e Hora de atendimento',\n",
    "           'Status externo', 'Data de agendamento', 'Agendamento',\n",
    "           'Categoria', 'Grupo responsável', 'Prazo (em segundos)']\n",
    "df_tasks.drop(lst_del, axis = 1, inplace = True)\n",
    "lst_nomes = ['entidade', 'servico', 'protocolo', 'dt_conclusao', 'dt_criacao',\n",
    "             'acao', 'encaminhado_para', 'encerrado', 'cancelado']\n",
    "df_tasks.columns = lst_nomes"
   ]
  },
  {
   "cell_type": "code",
   "execution_count": null,
   "metadata": {},
   "outputs": [],
   "source": [
    "# transforma datas do tipo string para tipo data\n",
    "df_tasks['dt_conclusao']= pd.to_datetime(df_tasks['dt_conclusao'])\n",
    "df_tasks['dt_criacao']= pd.to_datetime(df_tasks['dt_criacao'])"
   ]
  },
  {
   "cell_type": "code",
   "execution_count": null,
   "metadata": {},
   "outputs": [],
   "source": [
    "# verifica a situação de cada protocolo\n",
    "df = df_tasks[['protocolo', 'encerrado', 'cancelado']].copy()\n",
    "\n",
    "df.loc[df['encerrado'] == 'false', 'encerrado'] = 0\n",
    "df.loc[df['encerrado'] == 'true', 'encerrado'] = 1\n",
    "df.loc[df['cancelado'] == 'false', 'cancelado'] = 0\n",
    "df.loc[df['cancelado'] == 'true', 'cancelado'] = 1\n",
    "\n",
    "df['encerrado'] = pd.to_numeric(df['encerrado'])\n",
    "df['cancelado'] = pd.to_numeric(df['cancelado'])\n",
    "\n",
    "# df"
   ]
  },
  {
   "cell_type": "code",
   "execution_count": null,
   "metadata": {},
   "outputs": [],
   "source": [
    "# agrupa por protocolo, obtem o máximo de encerrado e cancelado\n",
    "df = df.groupby('protocolo').agg({'encerrado': 'max', 'cancelado': 'max'})"
   ]
  },
  {
   "cell_type": "code",
   "execution_count": null,
   "metadata": {},
   "outputs": [],
   "source": [
    "# filtra os protocolos cancelados\n",
    "df.drop(df[df['cancelado'] == 1].index, inplace=True)\n",
    "\n",
    "# exclui a coluna de protocolos cancelados\n",
    "df.drop('cancelado', axis=1, inplace=True)\n",
    "\n",
    "# cria um dataframe de processos encerrados\n",
    "df_ence = df[(df['encerrado'] == 1)].copy()\n",
    "\n",
    "# cria um dataframe de processos em andamento\n",
    "df_anda = df[(df['encerrado'] == 0)].copy()\n",
    "\n",
    "# exclui a coluna encerrado dos 2 dataframes\n",
    "df_ence.drop('encerrado', axis=1, inplace=True)\n",
    "df_anda.drop('encerrado', axis=1, inplace=True)"
   ]
  },
  {
   "cell_type": "code",
   "execution_count": null,
   "metadata": {},
   "outputs": [],
   "source": [
    "print(df_ence.shape)\n",
    "print(df_anda.shape)"
   ]
  },
  {
   "cell_type": "code",
   "execution_count": null,
   "metadata": {},
   "outputs": [],
   "source": [
    "# cria o dataframe de encerrados e dataframe de em andamento\n",
    "lst_ence = df_ence.index.tolist()\n",
    "lst_anda = df_anda.index.tolist()"
   ]
  },
  {
   "cell_type": "markdown",
   "metadata": {},
   "source": [
    "# <font color='black'>cria e trata o dataset de protocolos encerrados</font>"
   ]
  },
  {
   "cell_type": "code",
   "execution_count": null,
   "metadata": {},
   "outputs": [],
   "source": [
    "# cria dataset de tasks encerradas\n",
    "df_ence = df_tasks[df_tasks['protocolo'].isin(lst_ence)].copy()"
   ]
  },
  {
   "cell_type": "code",
   "execution_count": null,
   "metadata": {},
   "outputs": [],
   "source": [
    "# coloca a string <vazio> nos valores NULL\n",
    "lst_mod = list(df_ence[df_ence['encaminhado_para'].isnull()].index)\n",
    "df_ence.loc[lst_mod, 'encaminhado_para'] = '<Vazio>'"
   ]
  },
  {
   "cell_type": "code",
   "execution_count": null,
   "metadata": {},
   "outputs": [],
   "source": [
    "# ordena por entidade, serviço, protocolo, dt_criação\n",
    "df_ence.sort_values(by = ['entidade', 'servico', 'protocolo', 'dt_criacao'], inplace = True)\n",
    "\n",
    "# refaz o índice para a nova ordenação\n",
    "df_ence.reset_index(drop = True, inplace = True)"
   ]
  },
  {
   "cell_type": "code",
   "execution_count": null,
   "metadata": {},
   "outputs": [],
   "source": [
    "# calcula a quantidade de dias da ação e exclui as datas de criação e de conclusão\n",
    "df_ence['dias'] = (df_ence['dt_conclusao'] - df_ence['dt_criacao']) / np.timedelta64(1, 'D')\n",
    "df_ence.drop(['dt_conclusao', 'dt_criacao'], axis=1, inplace=True)"
   ]
  },
  {
   "cell_type": "code",
   "execution_count": null,
   "metadata": {},
   "outputs": [],
   "source": [
    "# exclui colunas não utilizáveis\n",
    "df_ence.drop(['encerrado', 'cancelado'], axis=1, inplace=True)\n",
    "\n",
    "# df_ence"
   ]
  },
  {
   "cell_type": "code",
   "execution_count": null,
   "metadata": {},
   "outputs": [],
   "source": [
    "# agrupa o dataframe por protocolo, entidade e serviço e cria uma tupla de ações como informação de coluna\n",
    "df_ence = (df_ence.groupby(['protocolo', 'entidade', 'servico'])\n",
    "      .agg(\n",
    "        lst_acao=('acao', lambda x: tuple(x)),\n",
    "        lst_encaminhado=('encaminhado_para', lambda x: tuple(x)),\n",
    "        sum_dias=('dias', sum)).reset_index())"
   ]
  },
  {
   "cell_type": "code",
   "execution_count": null,
   "metadata": {},
   "outputs": [],
   "source": [
    "# agrupa o dataframe por protocolo, entidade e serviço e cria uma tupla de ações como informação de coluna\n",
    "df_ence = (df_ence.groupby(['entidade', 'servico', 'lst_acao', 'lst_encaminhado'])\n",
    "      .agg(\n",
    "        media_dias=('sum_dias', 'mean')).reset_index())"
   ]
  },
  {
   "cell_type": "markdown",
   "metadata": {},
   "source": [
    "# <font color='black'>cria o dataset de protocolos em andamento</font>"
   ]
  },
  {
   "cell_type": "code",
   "execution_count": null,
   "metadata": {},
   "outputs": [],
   "source": [
    "# cria dataset de tasks em andamento\n",
    "df_anda = df_tasks[df_tasks['protocolo'].isin(lst_anda)].copy()"
   ]
  },
  {
   "cell_type": "code",
   "execution_count": null,
   "metadata": {},
   "outputs": [],
   "source": [
    "# exclui colunas não utilizáveis\n",
    "df_anda.drop(['encerrado', 'cancelado', 'dt_conclusao'], axis=1, inplace=True)\n",
    "\n",
    "# exclui as linhas com a coluna ação NULL\n",
    "df_anda = df_anda[~df_anda['acao'].isnull()].copy()\n",
    "\n",
    "# df_anda"
   ]
  },
  {
   "cell_type": "code",
   "execution_count": null,
   "metadata": {},
   "outputs": [],
   "source": [
    "# ordena por entidade, serviço, protocolo, dt_criação\n",
    "df_anda.sort_values(by = ['entidade', 'servico', 'protocolo', 'dt_criacao'], inplace = True)\n",
    "\n",
    "# refaz o índice para a nova ordenação\n",
    "df_anda.reset_index(drop = True, inplace = True)"
   ]
  },
  {
   "cell_type": "code",
   "execution_count": null,
   "metadata": {
    "scrolled": false
   },
   "outputs": [],
   "source": [
    "# agrupa o dataframe por protocolo, entidade e serviço e cria uma tupla de ações como informação de coluna\n",
    "df_anda = (df_anda.groupby(['protocolo', 'entidade', 'servico'])\n",
    "      .agg(lst_acao=('acao', lambda x: tuple(x)))\n",
    "      .reset_index()).copy()\n",
    "df_anda.sort_values(['entidade', 'servico'], inplace = True)\n",
    "# df_anda"
   ]
  },
  {
   "cell_type": "markdown",
   "metadata": {},
   "source": [
    "# <font color='black'>gera estrutura de recomendações</font>"
   ]
  },
  {
   "cell_type": "code",
   "execution_count": null,
   "metadata": {},
   "outputs": [],
   "source": [
    "start = time.process_time()\n",
    "tot = 0\n",
    "\n",
    "# analisa cada protocolo em andamento\n",
    "# procura a sequência do protocolo em andamento para sugerir o restante da sequência\n",
    "\n",
    "# zera a lista de recomendações\n",
    "lst_reco = []\n",
    "const_max_tempo = 999999999.9\n",
    "tot_anda = range(len(df_anda))\n",
    "# tot_anda = range(1000)\n",
    "print('total de protocolos a processar =', tot_anda)\n",
    "\n",
    "# para cada protocolo em andamento procura uma coleção de sequências dos protocolos encerrados\n",
    "anda_quebra = [None, None]\n",
    "for i in tot_anda:\n",
    "    if anda_quebra != [df_anda.loc[i, 'entidade'], df_anda.loc[i, 'servico']]:\n",
    "        anda_quebra = [df_anda.loc[i, 'entidade'], df_anda.loc[i, 'servico']]\n",
    "        df_aux1 = df_ence[(df_ence['entidade'] == df_anda.loc[i, 'entidade']) & \n",
    "                          (df_ence['servico'] == df_anda.loc[i, 'servico'])]\n",
    "    \n",
    "    n_acoes = len(df_anda.loc[i, 'lst_acao'])\n",
    "    df_aux = df_aux1[(df_aux1['lst_acao'].apply(lambda x: x[:n_acoes]) == df_anda.loc[i, 'lst_acao'])]\n",
    "    \n",
    "    df_aux.reset_index(inplace = True)\n",
    "    \n",
    "    # zera a variável que vai achar o registro \"entidade/serviço\" com o menor tempo de conclusão\n",
    "    # para quando for achado mais de 1 possibilidade\n",
    "    min_tempo = const_max_tempo\n",
    "    dt = {'sequencia': [], 'encaminhamento': []}\n",
    "\n",
    "    qtd_casos = len(df_aux)\n",
    "    tot += qtd_casos\n",
    "    \n",
    "    for k in range(qtd_casos):\n",
    "        valor = round(np.float(df_aux.loc[k, 'media_dias']), 6)\n",
    "        if (valor < min_tempo) or (min_tempo == None):\n",
    "            min_tempo = valor\n",
    "            dt = {'sequencia': list(df_aux.loc[k, 'lst_acao']),\n",
    "                  'encaminhamento': list(df_aux.loc[k, 'lst_encaminhado'])}\n",
    "            \n",
    "    indice = len(list(df_anda.loc[i, 'lst_acao'])) if dt else -1\n",
    "    if qtd_casos == 1:\n",
    "        tipo_recomendacao = 2\n",
    "    elif qtd_casos > 1:\n",
    "        tipo_recomendacao = 3\n",
    "    else:\n",
    "        tipo_recomendacao = 1\n",
    "        \n",
    "    it = {'protocolo': df_anda.loc[i, 'protocolo'],\n",
    "            'seq_atual': list(df_anda.loc[i, 'lst_acao']),\n",
    "            'recomendacao': dt,\n",
    "            'tempo_medio': None if min_tempo == const_max_tempo else min_tempo,\n",
    "            'reco_acao_idx': indice,\n",
    "            'qtd_casos' : qtd_casos,\n",
    "            'tipo_recomendacao' : tipo_recomendacao}\n",
    "    lst_reco.append(it)\n",
    "    if i % 100 == 0:\n",
    "        print(i, tot)\n",
    "\n",
    "print(i, tot)\n",
    "print('tempo =', time.process_time() - start)"
   ]
  },
  {
   "cell_type": "markdown",
   "metadata": {},
   "source": [
    "# <font color='black'>cria um arquivo com recomendações</font>"
   ]
  },
  {
   "cell_type": "markdown",
   "metadata": {},
   "source": [
    "## <font color='green'>define os SCRIPTS das tabelas de recomendações para o MySQL</font>"
   ]
  },
  {
   "cell_type": "code",
   "execution_count": null,
   "metadata": {},
   "outputs": [],
   "source": [
    "script_tb_recomenda = (\n",
    "\"CREATE TABLE `tb_recomenda` (\"\n",
    "  \"`sg_acao`               int NOT NULL AUTO_INCREMENT,\"\n",
    "  \"`nu_seq`                smallint NOT NULL,\"\n",
    "  \"`fk_protocolo`          varchar(21) NOT NULL,\"\n",
    "  \"`nm_acao`               varchar(128) NOT NULL,\"\n",
    "  \"`nm_encaminhado`        varchar(128) NOT NULL,\"\n",
    "  \"`fg_proximo`            tinyint NOT NULL,\"\n",
    "  \"PRIMARY KEY (`sg_acao`),\"\n",
    "  \"KEY `fk_protocolo_idx` (`fk_protocolo`),\"\n",
    "  \"CONSTRAINT `fk_protocolo` FOREIGN KEY (`fk_protocolo`) REFERENCES `tb_protocolo` (`pk_protocolo`)\"\n",
    "\")\"\n",
    ")\n",
    "script_tb_protocolo = (\n",
    "\"CREATE TABLE `tb_protocolo` (\"\n",
    "  \"`pk_protocolo`          varchar(21) NOT NULL,\"\n",
    "  \"`tp_medio`              decimal(18,6) DEFAULT NULL,\"\n",
    "  \"`nm_prox_acao`          varchar(128) DEFAULT NULL,\"\n",
    "  \"`nm_prox_enc`           varchar(128) DEFAULT NULL,\"\n",
    "  \"`dt_timestamp`          timestamp NOT NULL DEFAULT CURRENT_TIMESTAMP,\"\n",
    "  \"`nu_qtd_casos`          int NOT NULL,\"\n",
    "  \"`cd_tipo_reco`          smallint NOT NULL,\"\n",
    "  \"PRIMARY KEY (`pk_protocolo`)\"\n",
    "\")\"\n",
    ")\n",
    "tabelas = (('tb_protocolo', script_tb_protocolo), ('tb_recomenda', script_tb_recomenda))"
   ]
  },
  {
   "cell_type": "markdown",
   "metadata": {},
   "source": [
    "## <font color='green'>CRIA as LISTAS de gravação de protocolos e recomendações no MySQL</font>"
   ]
  },
  {
   "cell_type": "code",
   "execution_count": null,
   "metadata": {},
   "outputs": [],
   "source": [
    "# prepara uma lista de tuplas para gravação da tabela \"tb_protocolo\" no MySQL\n",
    "lst_protocolo = []\n",
    "lst_recomenda = []\n",
    "for k in lst_reco:\n",
    "    prx_acao = None\n",
    "    prx_encaminhamento = None\n",
    "    \n",
    "    n_acoes_ence = len(k['recomendacao']['sequencia'])\n",
    "    for j in range(n_acoes_ence):\n",
    "        if j == k['reco_acao_idx']:\n",
    "            proximo = 1\n",
    "            prx_acao = k['recomendacao']['sequencia'][j]\n",
    "            prx_encaminhamento = k['recomendacao']['encaminhamento'][j]\n",
    "        else:\n",
    "            proximo = 0\n",
    "        \n",
    "        lst_recomenda.append((j, \n",
    "                              k['protocolo'], \n",
    "                              k['recomendacao']['sequencia'][j], \n",
    "                              k['recomendacao']['encaminhamento'][j], \n",
    "                              proximo\n",
    "                             )\n",
    "        )\n",
    "\n",
    "    lst_protocolo.append((k['protocolo'], \n",
    "                          k['tempo_medio'], \n",
    "                          prx_acao, \n",
    "                          prx_encaminhamento,\n",
    "                          k['qtd_casos'],\n",
    "                          k['tipo_recomendacao']\n",
    "                         )\n",
    "    )"
   ]
  },
  {
   "cell_type": "markdown",
   "metadata": {},
   "source": [
    "## <font color='green'>LIMPA as tabelas de protocolos e recomendações no MySQL</font>"
   ]
  },
  {
   "cell_type": "code",
   "execution_count": null,
   "metadata": {
    "scrolled": true
   },
   "outputs": [],
   "source": [
    "My_host = 'localhost'\n",
    "My_db = 'bd_testes'\n",
    "My_user = 'gd'\n",
    "My_pw = 'Alpar@123'\n",
    "\n",
    "try:\n",
    "    connection = mysql.connector.connect(host = My_host, database = My_db, user = My_user, password = My_pw)\n",
    "    cursor = connection.cursor()\n",
    "    \n",
    "    # excluir tabelas\n",
    "    for tb in reversed(tabelas):\n",
    "        table_name = tb[0]\n",
    "        table_script = tb[1]\n",
    "        try:\n",
    "            print(\"dropando tabela {}: \\n\".format(table_name), end='')\n",
    "            apaga = xx = 'DROP TABLE IF EXISTS `' + My_db + '`.`' + table_name + '`;'\n",
    "            cursor.execute(apaga)\n",
    "        except mysql.connector.Error as err:\n",
    "            msg = 'já existe' if err.errno == errorcode.ER_TABLE_EXISTS_ERROR else err.msg\n",
    "        else:\n",
    "            print(\"OK\")\n",
    "\n",
    "    # incluir tabelas\n",
    "    for tb in tabelas:\n",
    "        table_name = tb[0]\n",
    "        table_script = tb[1]\n",
    "        try:\n",
    "            print(\"criando tabela {}: \\n\".format(table_name), end='')\n",
    "            cursor.execute(table_script)\n",
    "        except mysql.connector.Error as err:\n",
    "            print(err.errno, err.msg)\n",
    "        else:\n",
    "            print(\"OK\")\n",
    "\n",
    "except mysql.connector.Error as error:\n",
    "    print(\"Failed to insert record into MySQL table {}\".format(error))\n",
    "\n",
    "finally:\n",
    "    if (connection.is_connected()):\n",
    "        cursor.close()\n",
    "        connection.close()\n",
    "        print(\"MySQL connection is closed\")"
   ]
  },
  {
   "cell_type": "markdown",
   "metadata": {},
   "source": [
    "## <font color='green'>GRAVA as tabelas de protocolos e recomendações no MySQL</font>"
   ]
  },
  {
   "cell_type": "code",
   "execution_count": null,
   "metadata": {},
   "outputs": [],
   "source": [
    "try:\n",
    "    connection = mysql.connector.connect(host = My_host, database = My_db, user = My_user, password = My_pw)\n",
    "\n",
    "    insert_protocolo = (\n",
    "        \"INSERT INTO tb_protocolo \"\n",
    "        \"(pk_protocolo, tp_medio, nm_prox_acao, nm_prox_enc, nu_qtd_casos, cd_tipo_reco)\"\n",
    "        \"VALUES (%s, %s, %s, %s, %s, %s)\"\n",
    "    )\n",
    "    insert_recomenda = (\n",
    "        \"INSERT INTO tb_recomenda \"\n",
    "        \"(nu_seq, fk_protocolo, nm_acao, nm_encaminhado, fg_proximo)\"\n",
    "        \"VALUES (%s, %s, %s, %s, %s)\"\n",
    "    )\n",
    "    \n",
    "    cursor_p = connection.cursor()\n",
    "    cursor_r = connection.cursor()\n",
    "\n",
    "\n",
    "    cursor_p.executemany (insert_protocolo, lst_protocolo)\n",
    "    cursor_r.executemany (insert_recomenda, lst_recomenda)\n",
    "\n",
    "    connection.commit()\n",
    "\n",
    "    print(cursor_p.rowcount, \"Record inserted successfully into tb_protocolo table\")\n",
    "    print(cursor_r.rowcount, \"Record inserted successfully into tb_recomenda table\")\n",
    "\n",
    "\n",
    "except mysql.connector.Error as error:\n",
    "    print(\"Failed to insert record into MySQL table {}\".format(error))\n",
    "\n",
    "finally:\n",
    "    if (connection.is_connected()):\n",
    "        cursor_p.close()\n",
    "        cursor_r.close()\n",
    "        connection.close()\n",
    "        print(\"MySQL connection is closed\")"
   ]
  },
  {
   "cell_type": "markdown",
   "metadata": {},
   "source": [
    "# <font color='black'>TESTES</font>"
   ]
  },
  {
   "cell_type": "code",
   "execution_count": null,
   "metadata": {},
   "outputs": [],
   "source": []
  }
 ],
 "metadata": {
  "kernelspec": {
   "display_name": "Python 3",
   "language": "python",
   "name": "python3"
  },
  "language_info": {
   "codemirror_mode": {
    "name": "ipython",
    "version": 3
   },
   "file_extension": ".py",
   "mimetype": "text/x-python",
   "name": "python",
   "nbconvert_exporter": "python",
   "pygments_lexer": "ipython3",
   "version": "3.7.7"
  }
 },
 "nbformat": 4,
 "nbformat_minor": 4
}
