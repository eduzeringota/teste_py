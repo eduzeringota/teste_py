{
 "cells": [
  {
   "cell_type": "markdown",
   "metadata": {},
   "source": [
    "# <font color='blue'>ALPAR - Governo Digital - Gerador de Dados</font>"
   ]
  },
  {
   "cell_type": "code",
   "execution_count": null,
   "metadata": {},
   "outputs": [],
   "source": [
    "# install conector MySQL\n",
    "# !pip install mysql-connector-python\n",
    "\n",
    "#install pyDF2\n",
    "# !pip install PyPDF2\n",
    "\n",
    "#install timestring\n",
    "# !pip install timestring\n"
   ]
  },
  {
   "cell_type": "code",
   "execution_count": null,
   "metadata": {},
   "outputs": [],
   "source": [
    "import pandas as pd\n",
    "import numpy as np\n",
    "import copy\n",
    "import csv\n",
    "import codecs\n",
    "import random as rd\n",
    "import string\n",
    "import timestring as ts\n",
    "import datetime as dt\n",
    "import csv\n",
    "\n",
    "print(\"pandas versão\", pd.__version__)\n",
    "\n",
    "pd.options.display.max_rows = 2000"
   ]
  },
  {
   "cell_type": "markdown",
   "metadata": {},
   "source": [
    "# <font color='black'>parâmetros gerais</font>"
   ]
  },
  {
   "cell_type": "code",
   "execution_count": null,
   "metadata": {},
   "outputs": [],
   "source": [
    "# parâmetros cadastrais\n",
    "pr = {\n",
    "    'entidade': {\n",
    "        'min' : 30, \n",
    "        'max': 50\n",
    "    },\n",
    "    'servico': {\n",
    "        'tot': 200,                # lista total de serviços (de 1 a n)\n",
    "        'min': 60,                 # número mínimo de serviços que fará parte da simulação\n",
    "        'max': 100,                # número máximo de serviços que fará parte da simulação\n",
    "        'prazo': (7000, 60000),    # intervalo de prazo para SLA\n",
    "        'faixa_amarela': 0.85      # porcentagem da faixa amarela em relação a faixa vermelha\n",
    "    },\n",
    "    'categoria_servico': {\n",
    "        'tot': 100,                # lista total de categoria de serviços (de 1 a n)\n",
    "        'min': 4,                  # número mínimo de categoria de serviços que fará parte da simulação\n",
    "        'max': 7                   # número máximo de categoria de serviços que fará parte da simulação\n",
    "    },\n",
    "    'grupo_responsavel': {\n",
    "        'tot': 100,                # lista total de grupos responsáveis (de 1 a n)\n",
    "        'min': 2,                  # número mínimo de grupo responsável que fará parte da simulação\n",
    "        'max': 6                   # número máximo de grupo responsável que fará parte da simulação\n",
    "    },\n",
    "    'usuario': {\n",
    "        'tot': 100,                # lista total de usuários (de 1 a n)\n",
    "        'min': 30,                 # número mínimo de usuários que fará parte da simulação\n",
    "        'max': 40                  # número máximo de usuários que fará parte da simulação\n",
    "    },\n",
    "    'grupo_usuario': {\n",
    "        'tot': 50,                 # lista total de grupos de usuários (de 1 a n)\n",
    "        'min': 10,                 # número mínimo de grupos de usuários que fará parte da simulação\n",
    "        'max': 14                  # número máximo de grupos de usuários que fará parte da simulação\n",
    "    },\n",
    "    'departamento': {\n",
    "        'tot': 100,                # lista total de departamentos de encaminhamento (de 1 a n)\n",
    "        'min': 10,                 # número mínimo de departamentos de encaminhamento que fará parte da simulação\n",
    "        'max': 14                  # número máximo de departamentos de encaminhamento que fará parte da simulação\n",
    "    },\n",
    "    'motivo_cancelamento': {       \n",
    "        'tot': 20,                 # lista total de motivos de cancelamento (de 1 a n)\n",
    "        'min': 5,                  # número mínimo de motivos de cancelamento que fará parte da simulação\n",
    "        'max': 8                   # número máximo de motivos de cancelamento que fará parte da simulação\n",
    "    },\n",
    "    'status_ext': {\n",
    "        'tot': 100,                # lista total de status externo (de 1 a n)\n",
    "        'min': 10,                 # número mínimo de status externo que fará parte da simulação \n",
    "        'max': 20                  # número máximo de status externo que fará parte da simulação\n",
    "    },\n",
    "    'motivo_rating': {\n",
    "        'tot': 100,                # lista total motivos de rating (de 1 a n)\n",
    "        'min': 5,                  # número mínimo de motivos de rating que fará parte da simulação \n",
    "        'max': 8                   # número máximo de motivos de rating que fará parte da simulação\n",
    "    },\n",
    "    'servicos_por_entidade': {\n",
    "        'min': 10,                 # número mínimo de serviços por entidade\n",
    "        'max': 20                  # número máximo de serviços por entidade\n",
    "    },\n",
    "    'acao': {\n",
    "        'tot': 100,                # lista total de ações (de 1 a n)\n",
    "        'min': 10,                 # número mínimo de ações por entidade\n",
    "        'max': 20,                 # número máximo de ações por entidade\n",
    "        'prop_notificacao': (7, 3) # proporção média de ações com notificações - (com notificação, sem notificação)\n",
    "    },\n",
    "    'categorias_servico_por_entidade': {\n",
    "        'min': 5,                  # número mínimo de categorias de serviço por entidade\n",
    "        'max': 7                   # número máximo de categorias de serviço por entidade\n",
    "    },\n",
    "    'usuários_por_entidade': {\n",
    "        'min': 10,                 # número mínimo de usuários por entidade\n",
    "        'max': 20                  # número máximo de usuários por entidade\n",
    "    },\n",
    "    'grupos_usuários_por_entidade': {\n",
    "        'min': 10,                 # número mínimo de grupos de usuários por entidade\n",
    "        'max': 20                  # número máximo de grupos de usuários por entidade\n",
    "    },\n",
    "    'tasks_por_protocolo': {\n",
    "        'cancelado': {\n",
    "            'cod': 3,                              # código numérico para protocolos cancelados\n",
    "            'min': 2,                              # número mínimo de grupos de usuários por entidade\n",
    "            'max': 8,                              # número máximo de grupos de usuários por entidade\n",
    "            'nome': 'Cancelado',                   # nome da situação\n",
    "            'nome_task': 'Protocolo Cancelado',    # nome da última task da coleção\n",
    "            'peso_prop': 20                        # peso para proporção na craição aleatória\n",
    "        },\n",
    "        'concluido': {\n",
    "            'cod': 2,                              # código numérico para protocolos concluídos\n",
    "            'min': 5,                              # número mínimo de grupos de usuários por entidade\n",
    "            'max': 12,                             # número máximo de grupos de usuários por entidade\n",
    "            'nome': 'Concluído',                   # nome da situação\n",
    "            'nome_task': 'Protocolo Concluído',    # nome da última task da coleção\n",
    "            'peso_prop': 70                        # peso para proporção na craição aleatória\n",
    "        },\n",
    "        'andamento': {\n",
    "            'cod': 1,                              # código numérico para protocolos em andamento\n",
    "            'min': 2,                              # número mínimo de grupos de usuários por entidade\n",
    "            'max': 11,                             # número máximo de grupos de usuários por entidade\n",
    "            'nome': 'Em Andamento',                # nome da situação\n",
    "            'nome_task': '<Sem Ação>',             # nome da última task da coleção\n",
    "            'peso_prop': 10                        # peso para proporção na craição aleatória\n",
    "        },\n",
    "        'tempos': {                                # tempos mínimos e máximos a serem estipulados (em dias)\n",
    "            'min': 0.5,\n",
    "            'max': 10\n",
    "        },\n",
    "        'gap_entre_tasks': {\n",
    "            'min': 0.05,\n",
    "            'max': 1.0\n",
    "        },\n",
    "        'gap_atendimento': {\n",
    "            'min': 0.05,\n",
    "            'max': 0.1,\n",
    "            'prop_anda_atend': (3, 7)       # (x, y) proporção média de com recebimento (a cada x, y é recebido)\n",
    "        }\n",
    "    }\n",
    "}"
   ]
  },
  {
   "cell_type": "code",
   "execution_count": null,
   "metadata": {},
   "outputs": [],
   "source": [
    "# parâmetros transacionais\n",
    "pr_trans = {\n",
    "    'protocolo': {\n",
    "        'min' : 300,                           # quantidade mínima de protocolos por entidade entidade\n",
    "        'max': 3000,                           # quantidade máxima de protocolos por entidade entidade\n",
    "        'data_inicial': (2020, 1, 1),          # data inicial da massa de dados\n",
    "        'dias_ant_ult_task': {                 # qtd de dias antes de hoje\n",
    "            'min': 3,\n",
    "            'max': 10\n",
    "        },\n",
    "        'dias_av_apos_ult_task': {             # qtd de dias de avaliação após última task\n",
    "            'min': 3,\n",
    "            'max': 10\n",
    "        },\n",
    "        'ult_dia': 3,                          # qtd de dias antes de hoje\n",
    "        'prop_rating': (15, 25, 20, 30, 10),   # proporção de notas (1, 2, 3, 4, 5)\n",
    "        'prop_tem_rating': (7, 3),             # proporção média de ações com ratings - (com rating, sem rating)\n",
    "        'prop_tem_motivo_rating': (7, 3)\n",
    "    }\n",
    "}"
   ]
  },
  {
   "cell_type": "markdown",
   "metadata": {},
   "source": [
    "# <font color='black'>lê arquivos externos</font>"
   ]
  },
  {
   "cell_type": "code",
   "execution_count": null,
   "metadata": {},
   "outputs": [],
   "source": [
    "# abrindo os arquivos...\n",
    "caminho = \"./dados_externos/\"\n",
    "arq_cidades = caminho + \"brazil_cities_coordinates.csv\"\n",
    "\n",
    "df_cidades = pd.read_csv(arq_cidades, sep = ',', dtype = str)\n",
    "print(\"linhas = %s , colunas = %s \" % df_cidades.shape)\n",
    "\n",
    "lst_cidades = list(df_cidades['city_name'])"
   ]
  },
  {
   "cell_type": "markdown",
   "metadata": {},
   "source": [
    "# <font color='black'>gera Entidades</font>"
   ]
  },
  {
   "cell_type": "code",
   "execution_count": null,
   "metadata": {},
   "outputs": [],
   "source": [
    "# estipula a quantidade de entidades fará parte do dataset\n",
    "qtd_entidades = rd.randint(pr['entidade']['min'],pr['entidade']['max'])\n",
    "\n",
    "# gera a lista de cidades\n",
    "lst_tmp_entidades = rd.sample(lst_cidades, k = qtd_entidades)\n",
    "# lst_tmp_entidades"
   ]
  },
  {
   "cell_type": "code",
   "execution_count": null,
   "metadata": {},
   "outputs": [],
   "source": [
    "# define orgãos de governo\n",
    "lst_tmp_orgao = ['Prefeitura de ', 'Secretaria de ']\n",
    "\n",
    "# gera a lista de entidades\n",
    "lst_entidades = [rd.choices(lst_tmp_orgao, [4, 1], k =1)[0] + sub for sub in lst_tmp_entidades]\n",
    "# lst_entidades"
   ]
  },
  {
   "cell_type": "markdown",
   "metadata": {},
   "source": [
    "# <font color='black'>gera Serviços</font>"
   ]
  },
  {
   "cell_type": "markdown",
   "metadata": {},
   "source": [
    "## <font color='green'>gera Grupos Responsável</font>"
   ]
  },
  {
   "cell_type": "code",
   "execution_count": null,
   "metadata": {},
   "outputs": [],
   "source": [
    "# gera a lista total de grupos responsáveis que será usada\n",
    "lst_tmp_grupo_responsavel = []\n",
    "for i in range(pr['grupo_responsavel']['tot']):\n",
    "    lst_tmp_grupo_responsavel.append('Grupo Responsável ' + str(i + 1))\n",
    "# lst_tmp_grupo_responsavel"
   ]
  },
  {
   "cell_type": "markdown",
   "metadata": {},
   "source": [
    "## <font color='green'>gera Categoria de Serviços</font>"
   ]
  },
  {
   "cell_type": "code",
   "execution_count": null,
   "metadata": {
    "scrolled": true
   },
   "outputs": [],
   "source": [
    "# gera a lista total de grupos de serviços que será usada\n",
    "lst_tmp_categoria_servico = []\n",
    "for i in range(pr['categoria_servico']['tot']):\n",
    "    lst_tmp_categoria_servico.append('Categoria de Servico ' + str(i + 1))\n",
    "# lst_tmp_categoria_servico"
   ]
  },
  {
   "cell_type": "markdown",
   "metadata": {},
   "source": [
    "## <font color='green'>gera Serviços</font>"
   ]
  },
  {
   "cell_type": "code",
   "execution_count": null,
   "metadata": {},
   "outputs": [],
   "source": [
    "# gera a lista total de serviços que será usada\n",
    "lst_tmp_servico = []\n",
    "for i in range(pr['servico']['tot']):\n",
    "    lst_tmp_servico.append('Servico ' + str(i + 1))\n",
    "# lst_tmp_servico"
   ]
  },
  {
   "cell_type": "markdown",
   "metadata": {},
   "source": [
    "# <font color='black'>gera Usuários</font>"
   ]
  },
  {
   "cell_type": "markdown",
   "metadata": {},
   "source": [
    "## <font color='green'>gera Grupos de Usuários</font>"
   ]
  },
  {
   "cell_type": "code",
   "execution_count": null,
   "metadata": {},
   "outputs": [],
   "source": [
    "# gera a lista total de grupos de usuários que será usada\n",
    "lst_tmp_grupo_usuario = []\n",
    "for i in range(pr['grupo_usuario']['tot']):\n",
    "    lst_tmp_grupo_usuario.append('Grupo de Usuário ' + str(i + 1))\n",
    "# lst_tmp_grupo_usuario"
   ]
  },
  {
   "cell_type": "markdown",
   "metadata": {},
   "source": [
    "## <font color='green'>gera Usuários</font>"
   ]
  },
  {
   "cell_type": "code",
   "execution_count": null,
   "metadata": {},
   "outputs": [],
   "source": [
    "# gera a lista total de usuários que será usada\n",
    "lst_tmp_usuario = []\n",
    "for i in range(pr['usuario']['tot']):\n",
    "    lst_tmp_usuario.append('Usuário ' + str(i + 1))\n",
    "# lst_tmp_usuario"
   ]
  },
  {
   "cell_type": "markdown",
   "metadata": {},
   "source": [
    "# <font color='black'>gera Departamentos (encaminhado para)</font>"
   ]
  },
  {
   "cell_type": "markdown",
   "metadata": {},
   "source": [
    "## <font color='green'>gera Departamentos</font>"
   ]
  },
  {
   "cell_type": "code",
   "execution_count": null,
   "metadata": {},
   "outputs": [],
   "source": [
    "# gera a lista total de departamentos que será usada na coluna \"encaminhado para\"\n",
    "lst_tmp_departamento = []\n",
    "for i in range(pr['departamento']['tot']):\n",
    "    lst_tmp_departamento.append('Departamento ' + str(i + 1))\n",
    "# lst_tmp_departamento"
   ]
  },
  {
   "cell_type": "markdown",
   "metadata": {},
   "source": [
    "# <font color='black'>Motivos de Cancelamento</font>"
   ]
  },
  {
   "cell_type": "markdown",
   "metadata": {},
   "source": [
    "## <font color='green'>gera Motivos de Cancelamento</font>"
   ]
  },
  {
   "cell_type": "code",
   "execution_count": null,
   "metadata": {},
   "outputs": [],
   "source": [
    "# gera a lista total de motivos de cancelamento\"\n",
    "lst_tmp_motivos_canc = []\n",
    "for i in range(pr['motivo_cancelamento']['tot']):\n",
    "    lst_tmp_motivos_canc.append('Motivo Cancelamento ' + str(i + 1))\n",
    "# lst_tmp_motivos_canc"
   ]
  },
  {
   "cell_type": "markdown",
   "metadata": {},
   "source": [
    "# <font color='black'>Motivos de Rating</font>"
   ]
  },
  {
   "cell_type": "markdown",
   "metadata": {},
   "source": [
    "## <font color='green'>gera Motivos de Rating</font>"
   ]
  },
  {
   "cell_type": "code",
   "execution_count": null,
   "metadata": {},
   "outputs": [],
   "source": [
    "# gera a lista total de motivos de rating\"\n",
    "lst_tmp_motivos_rating = []\n",
    "for i in range(pr['motivo_rating']['tot']):\n",
    "    lst_tmp_motivos_rating.append('Motivo de Rating ' + str(i + 1))\n",
    "# lst_tmp_motivos_rating"
   ]
  },
  {
   "cell_type": "markdown",
   "metadata": {},
   "source": [
    "# <font color='black'>gera Ações</font>"
   ]
  },
  {
   "cell_type": "markdown",
   "metadata": {},
   "source": [
    "## <font color='green'>gera acões</font>"
   ]
  },
  {
   "cell_type": "code",
   "execution_count": null,
   "metadata": {},
   "outputs": [],
   "source": [
    "# gera a lista total de ações que será usada\n",
    "lst_tmp_acao = []\n",
    "for i in range(pr['acao']['tot']):\n",
    "    notif = rd.choices((1, 0), pr['acao']['prop_notificacao'])[0]\n",
    "    lst_tmp_acao.append(('Ação ' + str(i + 1), notif))\n",
    "# lst_tmp_acao"
   ]
  },
  {
   "cell_type": "markdown",
   "metadata": {},
   "source": [
    "## <font color='green'>gera status externo</font>"
   ]
  },
  {
   "cell_type": "code",
   "execution_count": null,
   "metadata": {},
   "outputs": [],
   "source": [
    "# gera a lista total de status externo que será usada\n",
    "lst_tmp_status_ext = []\n",
    "for i in range(pr['status_ext']['tot']):\n",
    "    lst_tmp_status_ext.append('Status Externo ' + str(i + 1))\n",
    "# lst_tmp_status_ext"
   ]
  },
  {
   "cell_type": "markdown",
   "metadata": {},
   "source": [
    "# <font color='black'>Cria estrutura Entidade --> serviços, usuários, departamentos, motivos cancelamento </font>"
   ]
  },
  {
   "cell_type": "code",
   "execution_count": null,
   "metadata": {},
   "outputs": [],
   "source": [
    "lst = []\n",
    "\n",
    "# para cada entidade gera uma coleção de serviços e de usuários\n",
    "for i in lst_entidades:\n",
    "\n",
    "##########################################################################################################\n",
    "# serviços\n",
    "# estipula a quantidade de serviços será cadastrado para esta entidade\n",
    "    qtd = rd.randint(pr['servicos_por_entidade']['min'], pr['servicos_por_entidade']['max'])\n",
    "# define a coleção de serviços para esta entidade\n",
    "    lst_servicos_da_entidade = rd.sample(lst_tmp_servico, k = qtd)\n",
    "    \n",
    "# estipula a quantidade de grupos responsáveis será cadastrado para esta entidade\n",
    "    qtd = rd.randint(pr['grupo_responsavel']['min'], pr['grupo_responsavel']['max'])\n",
    "# define a coleção de grupos responsáveis para esta entidade\n",
    "    lst_grupos_responsaveis_da_entidade = rd.sample(lst_tmp_grupo_responsavel, k = qtd)\n",
    "\n",
    "    # estipula a quantidade de categorias de serviços será cadastrado para esta entidade\n",
    "    qtd = rd.randint(pr['categoria_servico']['min'], pr['categoria_servico']['max'])\n",
    "# define a coleção de categorias de serviços para esta entidade\n",
    "    lst_categoria_servicos_da_entidade = rd.sample(lst_tmp_categoria_servico, k = qtd)\n",
    "\n",
    "# escolhe o grupo de responsavel e a categoria de servicos por cada serviço\n",
    "    lst_serv = []\n",
    "    for j in lst_servicos_da_entidade:\n",
    "        # define as faixas de SLA do serviço\n",
    "        # ((verde_min, verde_máx), (amarelo_min, amarelo_max), (vermelho_min, vermelho_max))\n",
    "        t2 = rd.randint(pr['servico']['prazo'][0], pr['servico']['prazo'][1])\n",
    "        t1 = int(t2 * pr['servico']['faixa_amarela'])\n",
    "        faixas_SLA = ((None, t1), (t1, t2), (t2, None))\n",
    "        \n",
    "        dic_serv = {\n",
    "            'servico': j,\n",
    "            'grupo_resp': rd.sample(lst_grupos_responsaveis_da_entidade, k = 1)[0],\n",
    "            'categoria_serv': rd.sample(lst_categoria_servicos_da_entidade, k = 1)[0],\n",
    "            'prazo_SLA': t2,\n",
    "            'faixas_SLA': faixas_SLA\n",
    "        }\n",
    "        lst_serv.append(dic_serv)\n",
    "\n",
    "##########################################################################################################\n",
    "# usuários\n",
    "# estipula a quantidade de usuários será cadastrado para esta entidade\n",
    "    qtd = rd.randint(pr['usuários_por_entidade']['min'], pr['usuários_por_entidade']['max'])\n",
    "# define a coleção de serviços para esta entidade\n",
    "    lst_usuarios_da_entidade = rd.sample(lst_tmp_usuario, k = qtd)\n",
    "\n",
    "# estipula a quantidade de grupos de usuários será cadastrado para esta entidade\n",
    "    qtd = rd.randint(pr['grupos_usuários_por_entidade']['min'], pr['grupos_usuários_por_entidade']['max'])\n",
    "# define a coleção de grupos de usuários para esta entidade\n",
    "    lst_grupos_usuario_da_entidade = rd.sample(lst_tmp_grupo_usuario, k = qtd)\n",
    "    \n",
    "# escolhe o grupo de usuários por cada usuário\n",
    "    lst_user = []\n",
    "    for j in lst_usuarios_da_entidade:\n",
    "        dic_user = {\n",
    "            'usuario': j,\n",
    "            'grupo_usuario': rd.sample(lst_grupos_usuario_da_entidade, k = 1)[0]\n",
    "        }\n",
    "        lst_user.append(dic_user)  \n",
    "\n",
    "##########################################################################################################\n",
    "# departamentos\n",
    "# estipula a quantidade de departamentos será cadastrado para esta entidade\n",
    "    qtd = rd.randint(pr['departamento']['min'], pr['departamento']['max'])\n",
    "# define a coleção de serviços para esta entidade\n",
    "    lst_departamentos = rd.sample(lst_tmp_departamento, k = qtd)\n",
    "\n",
    "##########################################################################################################\n",
    "# motivos de cancelamento\n",
    "# estipula a quantidade de motivos de cancelamento será cadastrado para esta entidade\n",
    "    qtd = rd.randint(pr['motivo_cancelamento']['min'], pr['motivo_cancelamento']['max'])\n",
    "# define a coleção de motivos de cancelamento para esta entidade\n",
    "    lst_motivos_canc = rd.sample(lst_tmp_motivos_canc, k = qtd)\n",
    "\n",
    "##########################################################################################################\n",
    "# motivos de rating\n",
    "# estipula a quantidade de motivos de rating será cadastrado para esta entidade\n",
    "    qtd = rd.randint(pr['motivo_rating']['min'], pr['motivo_rating']['max'])\n",
    "# define a coleção de motivos de rating para esta entidade\n",
    "    lst_motivos_rating = rd.sample(lst_tmp_motivos_rating, k = qtd)\n",
    "\n",
    "##########################################################################################################\n",
    "# status externo\n",
    "# estipula a quantidade de motivos de cancelamento será cadastrado para esta entidade\n",
    "    qtd = rd.randint(pr['status_ext']['min'], pr['status_ext']['max'])\n",
    "# define a coleção de serviços para esta entidade\n",
    "    lst_status_ext = rd.sample(lst_tmp_status_ext, k = qtd)\n",
    "\n",
    "##########################################################################################################\n",
    "# ações\n",
    "# estipula a quantidade de ações que será cadastrado para esta entidade\n",
    "    qtd = rd.randint(pr['acao']['min'], pr['acao']['max'])\n",
    "# define a coleção de ações para esta entidade\n",
    "    lst_acoes = rd.sample(lst_tmp_acao, k = qtd)\n",
    "# define qual será a ação que terá solicitação de apoio\n",
    "    acao_apoio = rd.sample(lst_acoes, k = 1)[0]\n",
    "# define qual será a ação que solicitará agendamento\n",
    "    acao_agenda = rd.sample(lst_acoes, k = 1)[0]\n",
    "\n",
    "# lista de ações - [ação, 0=não tem apoio ou 1=tem apoio, 0=não tem notificação ou 1=tem notificação]\n",
    "# refaz a lista de serviço para uma lista de tuplas: (serviço, 0 = não tem apoio ou 1 = tem apoio)\n",
    "    lst_acoes = [(i[0], 1 if i == acao_apoio else 0, i[1], 1 if i == acao_agenda else 0) for i in lst_acoes]\n",
    "    \n",
    "# monta estrutura cadastral de 1 entidade para n serviços e n usuários\n",
    "    dic = {'entidade': i,\n",
    "           'servicos': lst_serv,\n",
    "           'usuarios': lst_user,\n",
    "           'acoes': lst_acoes,\n",
    "           'departamentos': lst_departamentos,\n",
    "           'motivos_canc': lst_motivos_canc,\n",
    "           'status_externo': lst_status_ext,\n",
    "           'motivos_rating': lst_motivos_rating\n",
    "          }\n",
    "    lst.append(dic)\n",
    "# lst[0]"
   ]
  },
  {
   "cell_type": "markdown",
   "metadata": {},
   "source": [
    "# <font color='black'>gera Protocolos</font>"
   ]
  },
  {
   "cell_type": "code",
   "execution_count": null,
   "metadata": {},
   "outputs": [],
   "source": [
    "# calcula a quantidade de dias entre a data inicial e hoje\n",
    "dt_ini = dt.date(pr_trans['protocolo']['data_inicial'][0],\n",
    "                  pr_trans['protocolo']['data_inicial'][1],\n",
    "                  pr_trans['protocolo']['data_inicial'][2])\n",
    "hoje = dt.datetime.now().date()\n",
    "dias = (hoje - dt_ini).days - pr_trans['protocolo']['ult_dia']"
   ]
  },
  {
   "cell_type": "code",
   "execution_count": null,
   "metadata": {},
   "outputs": [],
   "source": [
    "# estipula a data do protocolo\n",
    "dt_protocolo = dt_ini + dt.timedelta(days = rd.randint(0, dias))"
   ]
  },
  {
   "cell_type": "markdown",
   "metadata": {},
   "source": [
    "## <font color='green'>gera tasks</font>"
   ]
  },
  {
   "cell_type": "code",
   "execution_count": null,
   "metadata": {},
   "outputs": [],
   "source": [
    "# parâmetros da função:\n",
    "# p = registro do protocolo\n",
    "# ac = lista de ações a serem soreteadas\n",
    "# t_min_max = tupla com o tempo mínimo e tempo máximo para sorteio\n",
    "\n",
    "def Gera_Task(p, deps, ac, tempos, gaps, gap_atend, sta_ext):\n",
    "    lst_task = []\n",
    "    cont_task = 0\n",
    "    tot_task = p['qtd_tasks']\n",
    "    \n",
    "##########################################################################################################\n",
    "# PRIMEIRA AÇÃO - acrescenta uma primeira ação em todos os protocolos\n",
    "    dic = {'seq_task': 1,\n",
    "           'acao': ('Abertura de Processo Administrativo', 0, 0, 0),\n",
    "           'processo_encerrado': 0,\n",
    "           'processo_cancelado': 0\n",
    "          }\n",
    "    lst_task.append(dic)\n",
    "    cont_task += 1\n",
    "    \n",
    "##########################################################################################################\n",
    "#  AÇÕES INTERMEDIÁRIAS - gera tasks intermediárias (sem a possibilidade de ações iguais consecutivas)\n",
    "\n",
    "    acao_anterior = None\n",
    "    for i in range(2, tot_task):\n",
    "        \n",
    "        while 1:  # loop para evitar que sorteie acões iguais consecutivas\n",
    "            ac_e = rd.sample(ac, k = 1)\n",
    "            if ac_e[0] != acao_anterior:\n",
    "                break\n",
    "        acao_anterior = ac_e[0]\n",
    "        \n",
    "        dic = {'seq_task': i,\n",
    "               'acao': ac_e[0],\n",
    "               'processo_encerrado': 0,\n",
    "               'processo_cancelado': 0\n",
    "              }\n",
    "        lst_task.append(dic)\n",
    "\n",
    "##########################################################################################################\n",
    "# ÚLTIMA AÇÃO - se for um protocolo concluído ou cancelado coloca task de conclusão ou cancelamento\n",
    "\n",
    "    \n",
    "    dic = {'seq_task': tot_task,\n",
    "           'acao': (p['situacao']['nome_task'], 0, 0, 0),\n",
    "           'processo_encerrado': 1 if (p['situacao']['cod'] != 1) else 0,\n",
    "           'processo_cancelado': 1 if (p['situacao']['cod'] == 3) else 0\n",
    "          }\n",
    "    lst_task.append(dic)\n",
    "    cont_task += 1\n",
    "    \n",
    "##########################################################################################################\n",
    "# COMPLEMENTA A COLEÇÃO DE AÇÕES\n",
    "    \n",
    "    # define a data da última task\n",
    "    total_tasks = len(lst_task)                                             # total de tasks\n",
    "\n",
    "    # calcula as datas de todas as tasks\n",
    "    andamento = 1 if p['situacao']['cod'] == 1 else 0                       # flag de task em andamento\n",
    "\n",
    "    # determina se a task mais recente de um protocolo em andamento tem data de recebimento\n",
    "    tem_dt_recebimento = rd.choices([0, 1], [gap_atend[2][0], gap_atend[2][1]], k =1)[0]\n",
    "    \n",
    "    ult_dt_conclusão = p['dt_ult_task']\n",
    "\n",
    "    for k in range(total_tasks - 1, -1, -1):\n",
    "\n",
    "        # sorteia o tempo da task\n",
    "        tp = rd.uniform(tempos[0], tempos[1])                           \n",
    "        ult_dt_inicio = ult_dt_conclusão + dt.timedelta(days = -tp)\n",
    "        \n",
    "        # sorteia o gap entra uma task e outra task\n",
    "        gap = rd.uniform(gaps[0], gaps[1])                                      \n",
    "\n",
    "        # sorteia o gap entre criação da task e o atendimento\n",
    "        gap_atendimento = rd.uniform(gap_atend[0], gap_atend[1])\n",
    "        dt_atendimento = ult_dt_inicio + dt.timedelta(days = gap_atendimento)\n",
    "        \n",
    "        lst_task[k]['DT_INICIO'] = ult_dt_inicio\n",
    "        lst_task[k]['TEMPO_ACAO'] = tp\n",
    "        \n",
    "        # determina o status externo da ação\n",
    "        if lst_task[k]['seq_task'] == 1:\n",
    "            lst_task[k]['status_ext'] = 'Solicitação recebida'\n",
    "        elif lst_task[k]['seq_task'] == total_tasks:\n",
    "            if p['situacao']['cod'] == 1:\n",
    "                lst_task[k]['status_ext'] = rd.sample(sta_ext, k = 1)[0]\n",
    "            else:\n",
    "                lst_task[k]['status_ext'] = 'Solicitação Finalizada'\n",
    "        else:\n",
    "            lst_task[k]['status_ext'] = rd.sample(sta_ext, k = 1)[0]\n",
    "        \n",
    "        # determina data de atendimento e data de fim da ação\n",
    "        if (lst_task[k]['seq_task'] == total_tasks and andamento == 1):\n",
    "            \n",
    "            lst_task[k]['DT_ATENDIMENTO'] = dt_atendimento if tem_dt_recebimento == 1 else ''\n",
    "            lst_task[k]['DT_FIM'] = ''\n",
    "\n",
    "        else:\n",
    "            lst_task[k]['DT_ATENDIMENTO'] = dt_atendimento\n",
    "            lst_task[k]['DT_FIM'] = ult_dt_conclusão\n",
    "                \n",
    "        lst_task[k]['GAP'] = gap    \n",
    "        lst_task[k]['ENCAMINHADO'] = gap\n",
    "        lst_task[k]['ENCAMINHADO'] = rd.sample(deps, k = 1)[0]\n",
    "        \n",
    "        ult_dt_conclusão = ult_dt_inicio + dt.timedelta(days = -gap)\n",
    "        \n",
    "    return lst_task"
   ]
  },
  {
   "cell_type": "markdown",
   "metadata": {},
   "source": [
    "## <font color='green'>gera protocolos para cada entidade</font>"
   ]
  },
  {
   "cell_type": "code",
   "execution_count": null,
   "metadata": {
    "scrolled": true
   },
   "outputs": [],
   "source": [
    "lstent_all_protocolo = []\n",
    "hoje = dt.datetime.now()\n",
    "\n",
    "# para cada entidade gera uma coleção de serviços e de usuários\n",
    "for idx, i in enumerate(lst):\n",
    "    \n",
    "# protocolos\n",
    "    lstent_protocolo = []\n",
    "# estipula a quantidade de protocolos será simulado para esta entidade\n",
    "    qtd = rd.randint(pr_trans['protocolo']['min'], pr_trans['protocolo']['max'])\n",
    "\n",
    "    # define a coleção de protocolos para esta entidade\n",
    "    for k in range(qtd):\n",
    "        # define o código do protocolo\n",
    "        codigo_protocolo = str(idx + 1) + '.pr-' + str(k + 1)\n",
    "        \n",
    "        # determina por sorteio o status do protocolo (\"Concluído\", \"Em Andamento\", \"Cancelado\") \n",
    "        ret_status = (pr['tasks_por_protocolo']['concluido'],\n",
    "                      pr['tasks_por_protocolo']['andamento'],\n",
    "                      pr['tasks_por_protocolo']['cancelado'])\n",
    "        ret_peso = (pr['tasks_por_protocolo']['concluido']['peso_prop'],\n",
    "                    pr['tasks_por_protocolo']['andamento']['peso_prop'],\n",
    "                    pr['tasks_por_protocolo']['cancelado']['peso_prop'])\n",
    "        sit = rd.choices(ret_status, ret_peso, k = 1)[0]\n",
    "                \n",
    "        # determina o serviço, a categoria de serviços e o grupo responsável do protocolo\n",
    "        serv_protocolo = rd.sample(i['servicos'], k = 1)[0]\n",
    "        \n",
    "        # determina o usuário e grupo de usuário do protocolo\n",
    "        user_protocolo = rd.sample(i['usuarios'], k = 1)[0]        \n",
    "        \n",
    "        # determina por sorteio a quantidade de tasks do protocolo\n",
    "        qtd_tasks = rd.randint(sit['min'], sit['max'])\n",
    "        \n",
    "        # determina o motivo do cancelamento\n",
    "        motivo_canc = rd.sample(i['motivos_canc'], k = 1)[0] if sit['cod'] == 3 else ''\n",
    "        \n",
    "        # determina a data e hora da última task e a data da avaliação                \n",
    "        dias = rd.uniform(pr_trans['protocolo']['dias_ant_ult_task']['min'],    # total de dias para tirar de hoje\n",
    "                          pr_trans['protocolo']['dias_ant_ult_task']['max'])\n",
    "        dt_ult_task = hoje + dt.timedelta(days = -dias)                         # data de conclusão da última task\n",
    "\n",
    "##########################################################################################################\n",
    "# rating\n",
    "# determina o rating para protocolos com status \"concluído e se terá rating\n",
    "        n_rating = None; motivo_rating = None; dt_rating = None\n",
    "        if (sit['cod'] == 2) and (rd.choices((1, 0), pr_trans['protocolo']['prop_tem_rating'], k = 1)[0] == 1):\n",
    "            n_rating = rd.choices((1, 2, 3, 4, 5), pr_trans['protocolo']['prop_rating'], k = 1)[0]\n",
    "\n",
    "            # sorteia se vai ter ou não motivo de avaliação\n",
    "            tem_motivo_rating = rd.choices((1, 0), pr_trans['protocolo']['prop_tem_motivo_rating'], k = 1)[0]\n",
    "            if tem_motivo_rating == 1:\n",
    "                motivo_rating = rd.sample(i['motivos_rating'], k = 1)[0]\n",
    "\n",
    "            # calcula a data de avaliação\n",
    "            dias = rd.uniform(pr_trans['protocolo']['dias_av_apos_ult_task']['min'],\n",
    "                              pr_trans['protocolo']['dias_av_apos_ult_task']['max'])\n",
    "            dt_rating = hoje + dt.timedelta(days = -dias)\n",
    "\n",
    "        rating = [n_rating, motivo_rating, dt_rating]\n",
    "        \n",
    "        # monta a estrutura da task\n",
    "        dic = {'cod_protocolo': codigo_protocolo,\n",
    "               'situacao': sit,\n",
    "               'qtd_tasks': qtd_tasks,\n",
    "               'dt_ult_task': dt_ult_task,\n",
    "               'servico': serv_protocolo,\n",
    "               'usuario': user_protocolo,\n",
    "               'motivo_canc': motivo_canc,\n",
    "               'rating': rating\n",
    "              }\n",
    "        \n",
    "        # tasks\n",
    "        dic['tasks'] = Gera_Task(\n",
    "                                 dic,\n",
    "                                 i['departamentos'],\n",
    "                                 i['acoes'], \n",
    "                                 (pr['tasks_por_protocolo']['tempos']['min'], \n",
    "                                  pr['tasks_por_protocolo']['tempos']['max']),\n",
    "                                 (pr['tasks_por_protocolo']['gap_entre_tasks']['min'], \n",
    "                                  pr['tasks_por_protocolo']['gap_entre_tasks']['max']),\n",
    "                                 (pr['tasks_por_protocolo']['gap_atendimento']['min'], \n",
    "                                  pr['tasks_por_protocolo']['gap_atendimento']['max'],\n",
    "                                  pr['tasks_por_protocolo']['gap_atendimento']['prop_anda_atend']),\n",
    "                                  i['status_externo']\n",
    "                        )\n",
    "        \n",
    "        lstent_all_protocolo.append(dic)\n",
    "        lstent_protocolo.append(dic)\n",
    "        \n",
    "    lst[idx]['protocolos'] = lstent_protocolo\n",
    "# lstent_all_protocolo"
   ]
  },
  {
   "cell_type": "markdown",
   "metadata": {},
   "source": [
    "# <font color='black'>gera Arquivo Externo</font>"
   ]
  },
  {
   "cell_type": "code",
   "execution_count": null,
   "metadata": {},
   "outputs": [],
   "source": [
    "def RetDt(d):\n",
    "    if d == '':\n",
    "        return ''\n",
    "    else:\n",
    "        return d.strftime(\"%Y-%m-%dT%H:%M:%S.%f\")[:-3] + 'Z'"
   ]
  },
  {
   "cell_type": "markdown",
   "metadata": {},
   "source": [
    "## <font color='green'>gera dataset para tasks.csv</font>"
   ]
  },
  {
   "cell_type": "code",
   "execution_count": null,
   "metadata": {},
   "outputs": [],
   "source": [
    "lst_tasks = []\n",
    "for i in lst:\n",
    "    for k in i['protocolos']:\n",
    "        for m in k['tasks']:\n",
    "            lst_tasks.append(\n",
    "                [i['entidade'],                            # Entidade\n",
    "                 'GD_' + i['entidade'].replace(' ', '_'),  # Entidade - código\n",
    "                 k['servico']['servico'],                  # Serviço\n",
    "                 k['cod_protocolo'],                       # Protocolo\n",
    "                 k['usuario']['usuario'],                  # Usuário\n",
    "                 k['usuario']['grupo_usuario'],            # Grupo\n",
    "                 RetDt(m['DT_FIM']),                       # Data e Hora da conclusão\n",
    "                 RetDt(m['DT_ATENDIMENTO']),               # Data e Hora de atendimento\n",
    "                 RetDt(m['DT_INICIO']),                    # Data e Hora de criação\n",
    "                 m['acao'][0],                             # Ação\n",
    "                 m['ENCAMINHADO'],                         # Encaminhado para\n",
    "                 '',                                       # Comentário\n",
    "                 m['acao'][1],                             # Apoio\n",
    "                 m['processo_encerrado'],                  # Processo encerrado\n",
    "                 m['processo_cancelado'],                  # Processo cancelado\n",
    "                 k['motivo_canc'],                         # Motivo de cancelamento\n",
    "                 m['acao'][2],                             # Notificação\n",
    "                 m['status_ext'],                          # Status externo\n",
    "                 m['acao'][3],                             # Agendamento\n",
    "                 '',                                       # Data de agendamento\n",
    "                 k['servico']['categoria_serv'],           # Categoria\n",
    "                 k['servico']['grupo_resp'],               # Grupo responsável\n",
    "                 k['servico']['prazo_SLA']                 # Prazo (em segundos)\n",
    "                ]                                \n",
    "            )\n",
    "# lst_tasks"
   ]
  },
  {
   "cell_type": "code",
   "execution_count": null,
   "metadata": {},
   "outputs": [],
   "source": [
    "len(lst_tasks)"
   ]
  },
  {
   "cell_type": "markdown",
   "metadata": {},
   "source": [
    "## <font color='green'>gera dataset para sla.csv</font>"
   ]
  },
  {
   "cell_type": "code",
   "execution_count": null,
   "metadata": {},
   "outputs": [],
   "source": [
    "tup_faixas = ('Dentro do Prazo', 'Perto do Prazo', 'Fora do Prazo')\n",
    "lst_sla = []\n",
    "for i in lst:\n",
    "    for s in i['servicos']:\n",
    "        for f in range(3):\n",
    "            \n",
    "            lst_sla.append(\n",
    "                [\n",
    "                    i['entidade'],\n",
    "                    s['servico'],\n",
    "                    tup_faixas[f],\n",
    "                    'null' if s['faixas_SLA'][f][0] == None else s['faixas_SLA'][f][0],\n",
    "                    'null' if s['faixas_SLA'][f][1] == None else s['faixas_SLA'][f][1],\n",
    "                ]\n",
    "            )\n",
    "# lst_sla"
   ]
  },
  {
   "cell_type": "markdown",
   "metadata": {},
   "source": [
    "## <font color='green'>gera dataset para rating.csv</font>"
   ]
  },
  {
   "cell_type": "code",
   "execution_count": null,
   "metadata": {},
   "outputs": [],
   "source": [
    "lst_rating = []\n",
    "for i in lst:\n",
    "    for p in i['protocolos']:\n",
    "        if p['rating'][0] != None:\n",
    "            lst_rating.append(\n",
    "                [\n",
    "                    p['cod_protocolo'],\n",
    "                    p['rating'][0],\n",
    "                    '' if p['rating'][1] == None else p['rating'][1],\n",
    "                    '' if p['rating'][2] == None else RetDt(p['rating'][2])\n",
    "                ]\n",
    "            )"
   ]
  },
  {
   "cell_type": "markdown",
   "metadata": {},
   "source": [
    "# <font color='black'>Grava Arquivo Externo CSV</font>"
   ]
  },
  {
   "cell_type": "markdown",
   "metadata": {},
   "source": [
    "## <font color='green'>gera arquivo tasks.csv</font>"
   ]
  },
  {
   "cell_type": "code",
   "execution_count": null,
   "metadata": {},
   "outputs": [],
   "source": [
    "colunas = [['Entidade',\n",
    "           'Entidade - código',\n",
    "           'Serviço',\n",
    "           'Protocolo',\n",
    "           'Usuário',\n",
    "           'Grupo',\n",
    "           'Data e Hora de conclusão',\n",
    "           'Data e Hora de atendimento',\n",
    "           'Data e Hora de criação',\n",
    "           'Ação',\n",
    "           'Encaminhado para',\n",
    "           'Comentário',\n",
    "           'Apoio',\n",
    "           'Processo encerrado',\n",
    "           'Processo cancelado',\n",
    "           'Motivo de cancelamento',\n",
    "           'Notificação',\n",
    "           'Status externo',\n",
    "           'Agendamento',\n",
    "           'Data de agendamento',\n",
    "           'Categoria',\n",
    "           'Grupo responsável',\n",
    "           'Prazo (em segundos)']]\n",
    "\n",
    "with open(caminho + 'n_tasks.csv', 'w',newline = '') as f:\n",
    "    \n",
    "    writer = csv.writer(f, delimiter=',', quotechar = '\"')\n",
    "    writer.writerows(colunas)\n",
    "    writer.writerows(lst_tasks)"
   ]
  },
  {
   "cell_type": "markdown",
   "metadata": {},
   "source": [
    "## <font color='green'>gera arquivo sla.csv</font>"
   ]
  },
  {
   "cell_type": "code",
   "execution_count": null,
   "metadata": {},
   "outputs": [],
   "source": [
    "colunas = [['entityCode',\n",
    "            'service',\n",
    "            'status',\n",
    "            'limiteMinimo',\n",
    "            'limiteMaximo']]\n",
    "\n",
    "with open(caminho + 'n_sla.csv', 'w',newline = '') as f:\n",
    "    \n",
    "    writer = csv.writer(f, delimiter=',', quotechar = '\"')\n",
    "    writer.writerows(colunas)\n",
    "    writer.writerows(lst_sla)"
   ]
  },
  {
   "cell_type": "markdown",
   "metadata": {},
   "source": [
    "## <font color='green'>gera arquivo rating.csv</font>"
   ]
  },
  {
   "cell_type": "code",
   "execution_count": null,
   "metadata": {},
   "outputs": [],
   "source": [
    "colunas = [['Solicitação',\n",
    "            'Nota',\n",
    "            'Motivo',\n",
    "            'Data da avaliação']]\n",
    "\n",
    "with open(caminho + 'n_rating.csv', 'w',newline = '') as f:\n",
    "    \n",
    "    writer = csv.writer(f, delimiter=',', quotechar = '\"')\n",
    "    writer.writerows(colunas)\n",
    "    writer.writerows(lst_rating)"
   ]
  },
  {
   "cell_type": "markdown",
   "metadata": {},
   "source": [
    "# <font color='black'>TESTE</font>"
   ]
  },
  {
   "cell_type": "code",
   "execution_count": null,
   "metadata": {},
   "outputs": [],
   "source": []
  }
 ],
 "metadata": {
  "kernelspec": {
   "display_name": "Python 3",
   "language": "python",
   "name": "python3"
  },
  "language_info": {
   "codemirror_mode": {
    "name": "ipython",
    "version": 3
   },
   "file_extension": ".py",
   "mimetype": "text/x-python",
   "name": "python",
   "nbconvert_exporter": "python",
   "pygments_lexer": "ipython3",
   "version": "3.7.4"
  }
 },
 "nbformat": 4,
 "nbformat_minor": 4
}
