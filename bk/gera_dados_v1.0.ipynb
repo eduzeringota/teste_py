{
 "cells": [
  {
   "cell_type": "markdown",
   "metadata": {},
   "source": [
    "# <font color='blue'>ALPAR - Governo Digital - Gerador de Dados</font>"
   ]
  },
  {
   "cell_type": "code",
   "execution_count": null,
   "metadata": {},
   "outputs": [],
   "source": [
    "# install conector MySQL\n",
    "# !pip install mysql-connector-python\n",
    "\n",
    "#install pyDF2\n",
    "# !pip install PyPDF2\n",
    "\n",
    "#install timestring\n",
    "#!pip install timestring\n"
   ]
  },
  {
   "cell_type": "code",
   "execution_count": null,
   "metadata": {},
   "outputs": [],
   "source": [
    "import pandas as pd\n",
    "import numpy as np\n",
    "import copy\n",
    "import csv\n",
    "import codecs\n",
    "import random as rd\n",
    "import string\n",
    "import timestring as ts\n",
    "import datetime as dt\n",
    "\n",
    "print(\"pandas versão\", pd.__version__)\n",
    "\n",
    "pd.options.display.max_rows = 2000"
   ]
  },
  {
   "cell_type": "markdown",
   "metadata": {},
   "source": [
    "# <font color='black'>parâmetros gerais</font>"
   ]
  },
  {
   "cell_type": "code",
   "execution_count": null,
   "metadata": {},
   "outputs": [],
   "source": [
    "# parâmetros cadastrais\n",
    "pr = {\n",
    "    'entidade': {\n",
    "        'min' : 30, \n",
    "        'max': 50\n",
    "    },\n",
    "    'servico': {\n",
    "        'tot': 200,                # lista total de serviços (de 1 a n)\n",
    "        'min': 60,                 # número mínimo de serviços que fará parte da simulação\n",
    "        'max': 100                 # número máximo de serviços que fará parte da simulação\n",
    "    },\n",
    "    'categoria_servico': {\n",
    "        'tot': 100,                # lista total de categoria de serviços (de 1 a n)\n",
    "        'min': 4,                  # número mínimo de categoria de serviços que fará parte da simulação\n",
    "        'max': 7                   # número máximo de categoria de serviços que fará parte da simulação\n",
    "    },\n",
    "    'grupo_responsavel': {\n",
    "        'tot': 100,                # lista total de grupos responsáveis (de 1 a n)\n",
    "        'min': 2,                  # número mínimo de grupo responsável que fará parte da simulação\n",
    "        'max': 6                   # número máximo de grupo responsável que fará parte da simulação\n",
    "    },\n",
    "    'usuario': {\n",
    "        'tot': 100,                # lista total de usuários (de 1 a n)\n",
    "        'min': 30,                 # número mínimo de usuários que fará parte da simulação\n",
    "        'max': 40                  # número máximo de usuários que fará parte da simulação\n",
    "    },\n",
    "    'grupo_usuario': {\n",
    "        'tot': 50,                 # lista total de grupos de usuários (de 1 a n)\n",
    "        'min': 10,                 # número mínimo de grupos de usuários que fará parte da simulação\n",
    "        'max': 14                  # número máximo de grupos de usuários que fará parte da simulação\n",
    "    },\n",
    "    'departamento': {\n",
    "        'tot': 100,                # lista total de departamentos de encaminhamento (de 1 a n)\n",
    "        'min': 10,                 # número mínimo de departamentos de encaminhamento que fará parte da simulação\n",
    "        'max': 14                  # número máximo de departamentos de encaminhamento que fará parte da simulação\n",
    "    },    \n",
    "    'servicos_por_entidade': {\n",
    "        'min': 10,                 # número mínimo de serviços por entidade\n",
    "        'max': 20                  # número máximo de serviços por entidade\n",
    "    },\n",
    "    'acao': {\n",
    "        'tot': 100,                # lista total de ações (de 1 a n)\n",
    "        'min': 10,                 # número mínimo de ações por entidade\n",
    "        'max': 20                  # número máximo de ações por entidade\n",
    "    },\n",
    "    'categorias_servico_por_entidade': {\n",
    "        'min': 5,                  # número mínimo de categorias de serviço por entidade\n",
    "        'max': 7                   # número máximo de categorias de serviço por entidade\n",
    "    },\n",
    "    'usuários_por_entidade': {\n",
    "        'min': 10,                 # número mínimo de usuários por entidade\n",
    "        'max': 20                  # número máximo de usuários por entidade\n",
    "    },\n",
    "    'grupos_usuários_por_entidade': {\n",
    "        'min': 10,                 # número mínimo de grupos de usuários por entidade\n",
    "        'max': 20                  # número máximo de grupos de usuários por entidade\n",
    "    },\n",
    "    'tasks_por_protocolo': {\n",
    "        'cancelado': {\n",
    "            'min': 2,                              # número mínimo de grupos de usuários por entidade\n",
    "            'max': 8,                              # número máximo de grupos de usuários por entidade\n",
    "            'nome': 'Cancelado',                   # nome da situação\n",
    "            'nome_task': 'Protocolo Cancelado'     # nome da última task da coleção\n",
    "        },\n",
    "        'concluido': {\n",
    "            'min': 5,                              # número mínimo de grupos de usuários por entidade\n",
    "            'max': 12,                             # número máximo de grupos de usuários por entidade\n",
    "            'nome': 'Concluído',                   # nome da situação\n",
    "            'nome_task': 'Protocolo Concluído'     # nome da última task da coleção\n",
    "        },\n",
    "        'andamento': {\n",
    "            'min': 2,                              # número mínimo de grupos de usuários por entidade\n",
    "            'max': 11,                             # número máximo de grupos de usuários por entidade\n",
    "            'nome': 'Em Andamento',                # nome da situação\n",
    "            'nome_task': '<Sem Ação>'              # nome da última task da coleção\n",
    "        },\n",
    "        'tempos': {                                # tempos mínimos e máximos a serem estipulados (em dias)\n",
    "            'min': 0.5,\n",
    "            'max': 10\n",
    "        },\n",
    "        'gap_entre_tasks': {\n",
    "            'min': 0.05,\n",
    "            'max': 1.0\n",
    "        },\n",
    "        'gap_atendimento': {\n",
    "            'min': 0.05,\n",
    "            'max': 0.1,\n",
    "            'prop_anda_atend': (3, 7)       # (x, y) proporção média de com recebimento (a cada x, y é recebido)\n",
    "        }\n",
    "    }\n",
    "}"
   ]
  },
  {
   "cell_type": "code",
   "execution_count": null,
   "metadata": {},
   "outputs": [],
   "source": [
    "# parâmetros transacionais\n",
    "pr_trans = {\n",
    "    'protocolo': {\n",
    "        'min' : 300,                  # quantidade mínima de protocolos por entidade entidade\n",
    "        'max': 3000,                  # quantidade máxima de protocolos por entidade entidade\n",
    "        'prop_status': (20, 5, 5),     # proporção de status de protocolo - (em andamento, cancelado, concluído)\n",
    "        'prop_desc_status': ('Em Andamento', 'Cancelado', 'Concluido'),\n",
    "#         'prop_cancelados': (20, 1),   # (x, y) proporção média de protocolos cancelados (a cada x, y é cancelado)\n",
    "#         'prop_encerrados': (10, 1),   # (x, y) proporção média de protocolos encerrados (a cada x, y é encerrado)\n",
    "        'data_inicial': (2020, 1, 1), # data inicial da massa de dados\n",
    "        'dias_ant_ult_task': {        # qtd de dias antes de hoje\n",
    "            'min': 3,\n",
    "            'max': 6\n",
    "        },\n",
    "        'ult_dia': 3                  # qtd de dias antes de hoje \n",
    "    }\n",
    "}"
   ]
  },
  {
   "cell_type": "markdown",
   "metadata": {},
   "source": [
    "# <font color='black'>funções usadas</font>"
   ]
  },
  {
   "cell_type": "code",
   "execution_count": null,
   "metadata": {},
   "outputs": [],
   "source": [
    "def Ret_Situacao(a_concluido, a_cancelado):\n",
    "    if a_concluido == 1:\n",
    "        sit = (pr['tasks_por_protocolo']['concluido']['nome'],\n",
    "               pr['tasks_por_protocolo']['concluido']['nome_task'],\n",
    "               pr['tasks_por_protocolo']['concluido']['min'],\n",
    "               pr['tasks_por_protocolo']['concluido']['max']\n",
    "              )\n",
    "    elif a_cancelado == 1:\n",
    "        sit = (pr['tasks_por_protocolo']['cancelado']['nome'],\n",
    "               pr['tasks_por_protocolo']['cancelado']['nome_task'],\n",
    "               pr['tasks_por_protocolo']['cancelado']['min'],\n",
    "               pr['tasks_por_protocolo']['cancelado']['max']\n",
    "              )\n",
    "    else:\n",
    "        sit = (pr['tasks_por_protocolo']['andamento']['nome'],\n",
    "               pr['tasks_por_protocolo']['andamento']['nome_task'],\n",
    "               pr['tasks_por_protocolo']['andamento']['min'],\n",
    "               pr['tasks_por_protocolo']['andamento']['max']\n",
    "              )\n",
    "    return sit"
   ]
  },
  {
   "cell_type": "markdown",
   "metadata": {},
   "source": [
    "# <font color='black'>lê arquivos externos</font>"
   ]
  },
  {
   "cell_type": "code",
   "execution_count": null,
   "metadata": {},
   "outputs": [],
   "source": [
    "# abrindo os arquivos...\n",
    "caminho = \"./dados_externos/\"\n",
    "arq_cidades = caminho + \"brazil_cities_coordinates.csv\"\n",
    "\n",
    "df_cidades = pd.read_csv(arq_cidades, sep = ',', dtype = str)\n",
    "print(\"linhas = %s , colunas = %s \" % df_cidades.shape)\n",
    "\n",
    "lst_cidades = list(df_cidades['city_name'])"
   ]
  },
  {
   "cell_type": "markdown",
   "metadata": {},
   "source": [
    "# <font color='black'>gera Entidades</font>"
   ]
  },
  {
   "cell_type": "code",
   "execution_count": null,
   "metadata": {},
   "outputs": [],
   "source": [
    "# estipula a quantidade de entidades fará parte do dataset\n",
    "qtd_entidades = rd.randint(pr['entidade']['min'],pr['entidade']['max'])\n",
    "\n",
    "# gera a lista de cidades\n",
    "lst_tmp_entidades = rd.sample(lst_cidades, k = qtd_entidades)\n",
    "# lst_tmp_entidades"
   ]
  },
  {
   "cell_type": "code",
   "execution_count": null,
   "metadata": {},
   "outputs": [],
   "source": [
    "# define orgãos de governo\n",
    "lst_tmp_orgao = ['Prefeitura de ', 'Secretaria de ']\n",
    "\n",
    "# gera a lista de entidades\n",
    "lst_entidades = [rd.choices(lst_tmp_orgao, [4, 1], k =1)[0] + sub for sub in lst_tmp_entidades]\n",
    "# lst_entidades"
   ]
  },
  {
   "cell_type": "markdown",
   "metadata": {},
   "source": [
    "# <font color='black'>gera Serviços</font>"
   ]
  },
  {
   "cell_type": "markdown",
   "metadata": {},
   "source": [
    "## <font color='green'>gera Grupos Responsável</font>"
   ]
  },
  {
   "cell_type": "code",
   "execution_count": null,
   "metadata": {},
   "outputs": [],
   "source": [
    "# gera a lista total de grupos responsáveis que será usada\n",
    "lst_tmp_grupo_responsavel = []\n",
    "for i in range(pr['grupo_responsavel']['tot']):\n",
    "    lst_tmp_grupo_responsavel.append('Grupo Responsável ' + str(i + 1))\n",
    "# lst_tmp_grupo_responsavel"
   ]
  },
  {
   "cell_type": "markdown",
   "metadata": {},
   "source": [
    "## <font color='green'>gera Categoria de Serviços</font>"
   ]
  },
  {
   "cell_type": "code",
   "execution_count": null,
   "metadata": {
    "scrolled": true
   },
   "outputs": [],
   "source": [
    "# gera a lista total de grupos de serviços que será usada\n",
    "lst_tmp_categoria_servico = []\n",
    "for i in range(pr['categoria_servico']['tot']):\n",
    "    lst_tmp_categoria_servico.append('Categoria de Servico ' + str(i + 1))\n",
    "# lst_tmp_categoria_servico"
   ]
  },
  {
   "cell_type": "markdown",
   "metadata": {},
   "source": [
    "## <font color='green'>gera Serviços</font>"
   ]
  },
  {
   "cell_type": "code",
   "execution_count": null,
   "metadata": {},
   "outputs": [],
   "source": [
    "# gera a lista total de serviços que será usada\n",
    "lst_tmp_servico = []\n",
    "for i in range(pr['servico']['tot']):\n",
    "    lst_tmp_servico.append('Servico ' + str(i + 1))\n",
    "# lst_tmp_servico"
   ]
  },
  {
   "cell_type": "markdown",
   "metadata": {},
   "source": [
    "# <font color='black'>gera Usuários</font>"
   ]
  },
  {
   "cell_type": "markdown",
   "metadata": {},
   "source": [
    "## <font color='green'>gera Grupos de Usuários</font>"
   ]
  },
  {
   "cell_type": "code",
   "execution_count": null,
   "metadata": {},
   "outputs": [],
   "source": [
    "# gera a lista total de grupos de usuários que será usada\n",
    "lst_tmp_grupo_usuario = []\n",
    "for i in range(pr['grupo_usuario']['tot']):\n",
    "    lst_tmp_grupo_usuario.append('Grupo de Usuário ' + str(i + 1))\n",
    "# lst_tmp_grupo_usuario"
   ]
  },
  {
   "cell_type": "markdown",
   "metadata": {},
   "source": [
    "## <font color='green'>gera Usuários</font>"
   ]
  },
  {
   "cell_type": "code",
   "execution_count": null,
   "metadata": {},
   "outputs": [],
   "source": [
    "# gera a lista total de usuários que será usada\n",
    "lst_tmp_usuario = []\n",
    "for i in range(pr['usuario']['tot']):\n",
    "    lst_tmp_usuario.append('Usuário ' + str(i + 1))\n",
    "# lst_tmp_usuario"
   ]
  },
  {
   "cell_type": "markdown",
   "metadata": {},
   "source": [
    "# <font color='black'>gera Departamentos (encaminhado para)</font>"
   ]
  },
  {
   "cell_type": "markdown",
   "metadata": {},
   "source": [
    "## <font color='green'>gera Departamentos</font>"
   ]
  },
  {
   "cell_type": "code",
   "execution_count": null,
   "metadata": {},
   "outputs": [],
   "source": [
    "# gera a lista total de departamentos que será usada na coluna \"encaminhado para\"\n",
    "lst_tmp_departamento = []\n",
    "for i in range(pr['departamento']['tot']):\n",
    "    lst_tmp_departamento.append('Departamento ' + str(i + 1))\n",
    "# lst_tmp_departamento"
   ]
  },
  {
   "cell_type": "markdown",
   "metadata": {},
   "source": [
    "# <font color='black'>gera Ações</font>"
   ]
  },
  {
   "cell_type": "markdown",
   "metadata": {},
   "source": [
    "## <font color='green'>gera acões</font>"
   ]
  },
  {
   "cell_type": "code",
   "execution_count": null,
   "metadata": {},
   "outputs": [],
   "source": [
    "# gera a lista total de ações que será usada\n",
    "lst_tmp_acao = []\n",
    "for i in range(pr['acao']['tot']):\n",
    "    lst_tmp_acao.append('Ação ' + str(i + 1))\n",
    "# lst_tmp_acao"
   ]
  },
  {
   "cell_type": "markdown",
   "metadata": {},
   "source": [
    "# <font color='black'>Cria estrutura Entidade --> serviços, usuários, departamentos </font>"
   ]
  },
  {
   "cell_type": "code",
   "execution_count": null,
   "metadata": {},
   "outputs": [],
   "source": [
    "lst = []\n",
    "\n",
    "# para cada entidade gera uma coleção de serviços e de usuários\n",
    "for i in lst_entidades:\n",
    "    \n",
    "# serviços\n",
    "# estipula a quantidade de serviços será cadastrado para esta entidade\n",
    "    qtd = rd.randint(pr['servicos_por_entidade']['min'], pr['servicos_por_entidade']['max'])\n",
    "# define a coleção de serviços para esta entidade\n",
    "    lst_servicos_da_entidade = rd.sample(lst_tmp_servico, k = qtd)\n",
    "    \n",
    "# estipula a quantidade de grupos responsáveis será cadastrado para esta entidade\n",
    "    qtd = rd.randint(pr['grupo_responsavel']['min'], pr['grupo_responsavel']['max'])\n",
    "# define a coleção de grupos responsáveis para esta entidade\n",
    "    lst_grupos_responsaveis_da_entidade = rd.sample(lst_tmp_grupo_responsavel, k = qtd)\n",
    "\n",
    "    # estipula a quantidade de categorias de serviços será cadastrado para esta entidade\n",
    "    qtd = rd.randint(pr['categoria_servico']['min'], pr['categoria_servico']['max'])\n",
    "# define a coleção de categorias de serviços para esta entidade\n",
    "    lst_categoria_servicos_da_entidade = rd.sample(lst_tmp_categoria_servico, k = qtd)\n",
    "\n",
    "# escolhe o grupo de responsavel e a categoria de servicos por cada serviço\n",
    "    lst_serv = []\n",
    "    for j in lst_servicos_da_entidade:\n",
    "        dic_serv = {\n",
    "            'servico': j,\n",
    "            'grupo_resp': rd.sample(lst_grupos_responsaveis_da_entidade, k = 1)[0],\n",
    "            'categoria_serv': rd.sample(lst_categoria_servicos_da_entidade, k = 1)[0]\n",
    "        }\n",
    "        lst_serv.append(dic_serv)\n",
    "\n",
    "# usuários\n",
    "# estipula a quantidade de usuários será cadastrado para esta entidade\n",
    "    qtd = rd.randint(pr['usuários_por_entidade']['min'], pr['usuários_por_entidade']['max'])\n",
    "# define a coleção de serviços para esta entidade\n",
    "    lst_usuarios_da_entidade = rd.sample(lst_tmp_usuario, k = qtd)\n",
    "\n",
    "# estipula a quantidade de grupos de usuários será cadastrado para esta entidade\n",
    "    qtd = rd.randint(pr['grupos_usuários_por_entidade']['min'], pr['grupos_usuários_por_entidade']['max'])\n",
    "# define a coleção de grupos de usuários para esta entidade\n",
    "    lst_grupos_usuario_da_entidade = rd.sample(lst_tmp_grupo_usuario, k = qtd)\n",
    "    \n",
    "# escolhe o grupo de usuários por cada usuário\n",
    "    lst_user = []\n",
    "    for j in lst_usuarios_da_entidade:\n",
    "        dic_user = {\n",
    "            'usuario': j,\n",
    "            'grupo_usuario': rd.sample(lst_grupos_usuario_da_entidade, k = 1)[0]\n",
    "        }\n",
    "        lst_user.append(dic_user)  \n",
    "        \n",
    "# departamentos\n",
    "# estipula a quantidade de departamentos será cadastrado para esta entidade\n",
    "    qtd = rd.randint(pr['departamento']['min'], pr['departamento']['max'])\n",
    "# define a coleção de serviços para esta entidade\n",
    "    lst_departamentos = rd.sample(lst_tmp_departamento, k = qtd)\n",
    "\n",
    "# ações\n",
    "# estipula a quantidade de ações que será cadastrado para esta entidade\n",
    "    qtd = rd.randint(pr['acao']['min'], pr['acao']['max'])\n",
    "# define a coleção de serviços para esta entidade\n",
    "    lst_acoes = rd.sample(lst_tmp_acao, k = qtd)\n",
    "# define qual será a ação que terá solicitação de apoio\n",
    "    acao_apoio = rd.sample(lst_acoes, k = 1)[0]\n",
    "# refaz a lista de serviço para uma lista de tuplas: (serviço, 0 = não tem apoio ou 1 = tem apoio)\n",
    "    lst_acoes = [(i, 1 if i == acao_apoio else 0) for i in lst_acoes]\n",
    "\n",
    "\n",
    "# monta estrutura cadastral de 1 entidade para n serviços e n usuários\n",
    "    dic = {'entidade': i,\n",
    "           'servicos': lst_serv,\n",
    "           'usuarios': lst_user,\n",
    "           'acoes': lst_acoes,\n",
    "           'departamentos': lst_departamentos\n",
    "          }\n",
    "    lst.append(dic)\n",
    "# lst"
   ]
  },
  {
   "cell_type": "markdown",
   "metadata": {},
   "source": [
    "# <font color='black'>gera Protocolos</font>"
   ]
  },
  {
   "cell_type": "code",
   "execution_count": null,
   "metadata": {},
   "outputs": [],
   "source": [
    "# calcula a quantidade de dias entre a data inicial e hoje\n",
    "dt_ini = dt.date(pr_trans['protocolo']['data_inicial'][0],\n",
    "                  pr_trans['protocolo']['data_inicial'][1],\n",
    "                  pr_trans['protocolo']['data_inicial'][2])\n",
    "hoje = dt.datetime.now().date()\n",
    "dias = (hoje - dt_ini).days - pr_trans['protocolo']['ult_dia']"
   ]
  },
  {
   "cell_type": "code",
   "execution_count": null,
   "metadata": {},
   "outputs": [],
   "source": [
    "# estipula a data do protocolo\n",
    "dt_protocolo = dt_ini + dt.timedelta(days = rd.randint(0, dias))"
   ]
  },
  {
   "cell_type": "code",
   "execution_count": null,
   "metadata": {},
   "outputs": [],
   "source": [
    "# parâmetros da função:\n",
    "# p = registro do protocolo\n",
    "# ac = lista de ações a serem soreteadas\n",
    "# t_min_max = tupla com o tempo mínimo e tempo máximo para sorteio\n",
    "\n",
    "def Gera_Task(p, deps, ac, tempos, gaps, gap_atend):\n",
    "    lst_task = []\n",
    "    cont_task = 0\n",
    "    tot_task = p['qtd_tasks']\n",
    "    hoje = dt.datetime.now()\n",
    "    \n",
    "##########################################################################################################\n",
    "# PRIMEIRA AÇÃO - acrescenta uma primeira ação em todos os protocolos\n",
    "    dic = {'seq_task': 1,\n",
    "           'acao': ('Abertura de Processo Administrativo', 0),\n",
    "           'processo_encerrado': 0,\n",
    "           'processo_cancelado': 0\n",
    "          }\n",
    "    lst_task.append(dic)\n",
    "    cont_task += 1\n",
    "    \n",
    "##########################################################################################################\n",
    "#  AÇÕES INTERMEDIÁRIAS - gera tasks intermediárias (sem a possibilidade de ações iguais consecutivas)\n",
    "\n",
    "    acao_anterior = None\n",
    "    for i in range(2, tot_task):\n",
    "        \n",
    "        while 1:  # loop para evitar que sorteie acões iguais consecutivas\n",
    "            ac_e = rd.sample(ac, k = 1)\n",
    "            if ac_e[0] != acao_anterior:\n",
    "                break\n",
    "        acao_anterior = ac_e[0]\n",
    "        \n",
    "        dic = {'seq_task': i,\n",
    "               'acao': ac_e[0],\n",
    "               'processo_encerrado': 0,\n",
    "               'processo_cancelado': 0\n",
    "              }\n",
    "        lst_task.append(dic)\n",
    "\n",
    "##########################################################################################################\n",
    "# ÚLTIMA AÇÃO - se for um protocolo concluído ou cancelado coloca task de conclusão ou cancelamento\n",
    "\n",
    "    \n",
    "    dic = {'seq_task': tot_task,\n",
    "           'acao': (p['situacao'][1], 0),\n",
    "           'processo_encerrado': 1 if (p['encerrado'] == 1 or p['cancelado'] == 1) else 0,\n",
    "           'processo_cancelado': p['cancelado']\n",
    "          }\n",
    "    lst_task.append(dic)\n",
    "    cont_task += 1\n",
    "    \n",
    "##########################################################################################################\n",
    "# COMPLEMENTA A COLEÇÃO DE AÇÕES\n",
    "    \n",
    "    # define a data da última task\n",
    "    total_tasks = len(lst_task)                                             # total de tasks\n",
    "    dias = rd.randint(pr_trans['protocolo']['dias_ant_ult_task']['min'],    # total de dias para tirar de hoje\n",
    "                      pr_trans['protocolo']['dias_ant_ult_task']['min']\n",
    "                     )\n",
    "    dt_ult_task = hoje + dt.timedelta(days = -dias)                         # data de conclusão da última task\n",
    "\n",
    "    # calcula as datas de todas as tasks\n",
    "    andamento = 1 if p['situacao'][0] == 'Em Andamento' else 0              # flag de task em andamento\n",
    "\n",
    "    # determina se a task mais recente de um protocolo em andamento tem data de recebimento\n",
    "    tem_dt_recebimento = rd.choices([0, 1], [gap_atend[2][0], gap_atend[2][1]], k =1)[0]\n",
    "\n",
    "    ult_dt_conclusão = dt_ult_task\n",
    "    for k in range(total_tasks - 1, -1, -1):\n",
    "\n",
    "        tp = rd.uniform(tempos[0], tempos[1])                           # sorteia o tempo da task\n",
    "        ult_dt_inicio = ult_dt_conclusão + dt.timedelta(days = -tp)\n",
    "        gap = rd.uniform(gaps[0], gaps[1])                              # sorteia o gap entra uma task e outra task        \n",
    "\n",
    "        gap_atendimento = rd.uniform(gap_atend[0], gap_atend[1])    # sorteia o gap entre criação da task e o atendimento\n",
    "        dt_atendimento = ult_dt_inicio + dt.timedelta(days = gap_atendimento)\n",
    "        \n",
    "        lst_task[k]['DT_INICIO'] = ult_dt_inicio\n",
    "        lst_task[k]['TEMPO_ACAO'] = tp\n",
    "        \n",
    "        if (lst_task[k]['seq_task'] == total_tasks and andamento == 1):\n",
    "            \n",
    "            lst_task[k]['DT_ATENDIMENTO'] = dt_atendimento if tem_dt_recebimento == 1 else None\n",
    "            lst_task[k]['DT_FIM'] = None\n",
    "\n",
    "        else:\n",
    "            lst_task[k]['DT_ATENDIMENTO'] = dt_atendimento\n",
    "            lst_task[k]['DT_FIM'] = ult_dt_conclusão\n",
    "                \n",
    "        lst_task[k]['GAP'] = gap    \n",
    "        lst_task[k]['ENCAMINHADO'] = gap\n",
    "        lst_task[k]['ENCAMINHADO'] = rd.sample(deps, k = 1)[0]\n",
    "        \n",
    "        ult_dt_conclusão = ult_dt_inicio + dt.timedelta(days = -gap)\n",
    "        \n",
    "    return lst_task"
   ]
  },
  {
   "cell_type": "code",
   "execution_count": null,
   "metadata": {
    "scrolled": true
   },
   "outputs": [],
   "source": [
    "lstent_all_protocolo = []\n",
    "\n",
    "# para cada entidade gera uma coleção de serviços e de usuários\n",
    "for idx, i in enumerate(lst):\n",
    "    \n",
    "# protocolos\n",
    "    lstent_protocolo = []\n",
    "# estipula a quantidade de protocolos será simulado para esta entidade\n",
    "    qtd = rd.randint(pr_trans['protocolo']['min'], pr_trans['protocolo']['max'])\n",
    "\n",
    "    # define a coleção de protocolos para esta entidade\n",
    "    for k in range(qtd):\n",
    "        # define o código do protocolo\n",
    "        codigo_protocolo = str(idx + 1) + '.pr-' + str(k + 1)\n",
    "        \n",
    "        # determina por sorteio o status do protocolo\n",
    "        status = rd.choices(pr_trans['protocolo']['prop_desc_status'], \n",
    "                            pr_trans['protocolo']['prop_status'], k = 1)[0]\n",
    "\n",
    "#         # determina por sorteio se o protocolo é cancelado\n",
    "#         x = pr_trans['protocolo']['prop_cancelados'][0]; y = pr_trans['protocolo']['prop_cancelados'][1]\n",
    "#         cancelado = rd.choices([0, 1], [x, y], k = 1)[0]\n",
    "        \n",
    "#         # determina por sorteio se o protocolo é encerrado\n",
    "#         x = pr_trans['protocolo']['prop_encerrados'][0]; y = pr_trans['protocolo']['prop_encerrados'][1]\n",
    "#         encerrado = rd.choices([0, 1], [x, y], k =1 )[0]\n",
    "        \n",
    "        # determina o status do protocolo (\"Em Andamento\", \"Cancelado\", \"Concluído\")\n",
    "        sit = Ret_Situacao(encerrado, cancelado)\n",
    "        \n",
    "        # determina o serviço, a categoria de serviços e o grupo responsável do protocolo\n",
    "        serv_protocolo = rd.sample(i['servicos'], k = 1)[0]\n",
    "        \n",
    "        # determina o usuário e grupo de usuário do protocolo\n",
    "        user_protocolo = rd.sample(i['usuarios'], k = 1)[0]        \n",
    "        \n",
    "        # determina por sorteio a quantidade de tasks do protocolo\n",
    "        qtd_tasks = rd.randint(sit[2], sit[3])\n",
    "        \n",
    "        # monta a estrutura da task\n",
    "        dic = {'cod_protocolo': codigo_protocolo,\n",
    "               'cancelado': cancelado,\n",
    "               'encerrado': encerrado,\n",
    "               'situacao': sit,\n",
    "               'qtd_tasks': qtd_tasks,\n",
    "               'servico': serv_protocolo,\n",
    "               'usuario': user_protocolo\n",
    "              }\n",
    "\n",
    "        # tasks\n",
    "        dic['tasks'] = Gera_Task(\n",
    "                                 dic,\n",
    "                                 i['departamentos'],\n",
    "                                 i['acoes'], \n",
    "                                 (pr['tasks_por_protocolo']['tempos']['min'], \n",
    "                                  pr['tasks_por_protocolo']['tempos']['max']),\n",
    "                                 (pr['tasks_por_protocolo']['gap_entre_tasks']['min'], \n",
    "                                  pr['tasks_por_protocolo']['gap_entre_tasks']['max']),\n",
    "                                 (pr['tasks_por_protocolo']['gap_atendimento']['min'], \n",
    "                                  pr['tasks_por_protocolo']['gap_atendimento']['max'],\n",
    "                                  pr['tasks_por_protocolo']['gap_atendimento']['prop_anda_atend'])\n",
    "                        )\n",
    "        \n",
    "        lstent_all_protocolo.append(dic)\n",
    "        lstent_protocolo.append(dic)\n",
    "        \n",
    "    lst[idx]['protocolos'] = lstent_protocolo\n",
    "# lstent_all_protocolo"
   ]
  },
  {
   "cell_type": "code",
   "execution_count": null,
   "metadata": {},
   "outputs": [],
   "source": [
    "lst[0]"
   ]
  },
  {
   "cell_type": "markdown",
   "metadata": {},
   "source": [
    "# <font color='black'>gera Arquivo Externo</font>"
   ]
  },
  {
   "cell_type": "code",
   "execution_count": null,
   "metadata": {},
   "outputs": [],
   "source": [
    "lst_tmp = []\n",
    "for i in lst:\n",
    "    for k in i['protocolos']:\n",
    "        for m in k['tasks']:\n",
    "            lst_tmp.append(\n",
    "                [i['entidade'],                            # Entidade\n",
    "                 'GD_' + i['entidade'].replace(' ', '_'),  # Entidade - código\n",
    "                 k['servico']['servico'],                  # Serviço\n",
    "                 k['cod_protocolo'],                       # Protocolo\n",
    "                 k['usuario']['usuario'],                  # Usuário\n",
    "                 k['usuario']['grupo_usuario'],            # Grupo\n",
    "                 m['DT_FIM'],                              # Data e Hora da conclusão\n",
    "                 m['DT_ATENDIMENTO'],                      # Data e Hora de atendimento\n",
    "                 m['DT_INICIO'],                           # Data e Hora de criação\n",
    "                 m['acao'][0],                             # Ação\n",
    "                 m['ENCAMINHADO'],                         # Encaminhado para\n",
    "                 None,                                     # Comentário\n",
    "                 m['acao'][1]                              # Apoio\n",
    "                ]                                \n",
    "            )\n",
    "lst_tmp"
   ]
  },
  {
   "cell_type": "code",
   "execution_count": null,
   "metadata": {},
   "outputs": [],
   "source": [
    "len(lst_tmp)"
   ]
  },
  {
   "cell_type": "markdown",
   "metadata": {},
   "source": [
    "# <font color='black'>TESTE</font>"
   ]
  },
  {
   "cell_type": "code",
   "execution_count": null,
   "metadata": {},
   "outputs": [],
   "source": []
  }
 ],
 "metadata": {
  "kernelspec": {
   "display_name": "Python 3",
   "language": "python",
   "name": "python3"
  },
  "language_info": {
   "codemirror_mode": {
    "name": "ipython",
    "version": 3
   },
   "file_extension": ".py",
   "mimetype": "text/x-python",
   "name": "python",
   "nbconvert_exporter": "python",
   "pygments_lexer": "ipython3",
   "version": "3.7.9"
  }
 },
 "nbformat": 4,
 "nbformat_minor": 4
}
