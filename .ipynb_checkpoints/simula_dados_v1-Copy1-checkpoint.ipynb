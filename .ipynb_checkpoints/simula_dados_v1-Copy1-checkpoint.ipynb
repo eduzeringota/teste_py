{
 "cells": [
  {
   "cell_type": "markdown",
   "metadata": {},
   "source": [
    "# <font color='blue'>SEDES - Gerador de Dados</font>"
   ]
  },
  {
   "cell_type": "markdown",
   "metadata": {},
   "source": [
    "# 1.0 import"
   ]
  },
  {
   "cell_type": "code",
   "execution_count": null,
   "metadata": {},
   "outputs": [],
   "source": [
    "import csv\n"
   ]
  },
  {
   "cell_type": "markdown",
   "metadata": {},
   "source": [
    "# 2.0 parâmetros ambiente"
   ]
  },
  {
   "cell_type": "markdown",
   "metadata": {},
   "source": [
    "# 3.0 extracao"
   ]
  },
  {
   "cell_type": "markdown",
   "metadata": {},
   "source": [
    "## 3.1 extracao de dados externo"
   ]
  },
  {
   "cell_type": "code",
   "execution_count": null,
   "metadata": {},
   "outputs": [],
   "source": [
    "# abrindo os arquivos...\n",
    "caminho_in = HOME_PASTA + '/DADOS_GD/apoio/'\n",
    "caminho_out = HOME_PASTA + '/DADOS_GD/simulacao/'\n",
    "\n",
    "arq_form = caminho_in + \"modelo_form.csv\"\n",
    "arq_municipios = caminho_in + \"municipios.csv\"\n",
    "arq_estados = caminho_in + \"estados.csv\"\n",
    "\n",
    "df_form = pd.read_csv(arq_form, sep = ',', dtype = str)\n",
    "df_municipios = pd.read_csv(arq_municipios, sep = ',', dtype = str)\n",
    "df_estados = pd.read_csv(arq_estados, sep = ',', dtype = str)\n",
    "\n",
    "print(\"forms - linhas = %s , colunas = %s \" % df_form.shape)\n",
    "print(\"municipios - linhas = %s , colunas = %s \" % df_municipios.shape)\n",
    "print(\"estados - linhas = %s , colunas = %s \" % df_estados.shape)"
   ]
  }
 ],
 "metadata": {
  "kernelspec": {
   "display_name": "Python 3",
   "language": "python",
   "name": "python3"
  },
  "language_info": {
   "codemirror_mode": {
    "name": "ipython",
    "version": 3
   },
   "file_extension": ".py",
   "mimetype": "text/x-python",
   "name": "python",
   "nbconvert_exporter": "python",
   "pygments_lexer": "ipython3",
   "version": "3.8.5"
  }
 },
 "nbformat": 4,
 "nbformat_minor": 4
}
