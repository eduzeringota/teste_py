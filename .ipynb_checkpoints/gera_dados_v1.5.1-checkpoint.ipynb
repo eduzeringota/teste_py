{
 "cells": [
  {
   "cell_type": "markdown",
   "metadata": {},
   "source": [
    "# <font color='blue'>ALPAR - Governo Digital - Gerador de Dados</font>"
   ]
  },
  {
   "cell_type": "markdown",
   "metadata": {},
   "source": [
    "# <font color='black'>parâmetros ambiente</font>"
   ]
  },
  {
   "cell_type": "code",
   "execution_count": 1,
   "metadata": {
    "ExecuteTime": {
     "end_time": "2021-03-04T16:54:33.032366Z",
     "start_time": "2021-03-04T16:54:33.028316Z"
    }
   },
   "outputs": [],
   "source": [
    "import os\n",
    "\n",
    "# informa se está rodando em ambiente windows ou unix\n",
    "amb_windows = False\n",
    "\n",
    "HOME_PASTA = '' if amb_windows else os.path.expanduser(\"~\")\n",
    "\n",
    "os.environ['KMP_DUPLICATE_LIB_OK']='True'"
   ]
  },
  {
   "cell_type": "code",
   "execution_count": 2,
   "metadata": {
    "ExecuteTime": {
     "end_time": "2021-03-04T16:54:33.041189Z",
     "start_time": "2021-03-04T16:54:33.036408Z"
    }
   },
   "outputs": [],
   "source": [
    "# install conector MySQL\n",
    "# !pip install mysql-connector-python\n",
    "\n",
    "#install pyDF2\n",
    "# !pip install PyPDF2\n",
    "\n",
    "# install timestring\n",
    "# !pip install timestring\n"
   ]
  },
  {
   "cell_type": "code",
   "execution_count": 3,
   "metadata": {
    "ExecuteTime": {
     "end_time": "2021-03-04T16:54:33.518336Z",
     "start_time": "2021-03-04T16:54:33.045148Z"
    }
   },
   "outputs": [
    {
     "name": "stdout",
     "output_type": "stream",
     "text": [
      "pandas versão 1.2.2\n",
      "numpy versão 1.19.2\n",
      "csv versão 1.0\n",
      "csv timestring 1.6.2\n"
     ]
    }
   ],
   "source": [
    "import pandas as pd\n",
    "import numpy as np\n",
    "import copy\n",
    "import csv\n",
    "import codecs\n",
    "import random as rd\n",
    "import string\n",
    "import timestring as ts\n",
    "import datetime as dt\n",
    "import mysql.connector\n",
    "from mysql.connector import Error\n",
    "\n",
    "print(\"pandas versão\", pd.__version__)\n",
    "print(\"numpy versão\", np.__version__)\n",
    "print(\"csv versão\", csv.__version__)\n",
    "print(\"csv timestring\", ts.__version__)\n",
    "\n",
    "pd.options.display.max_rows = 2000"
   ]
  },
  {
   "cell_type": "markdown",
   "metadata": {},
   "source": [
    "# <font color='black'>parâmetros gerais</font>"
   ]
  },
  {
   "cell_type": "code",
   "execution_count": 4,
   "metadata": {
    "ExecuteTime": {
     "end_time": "2021-03-04T16:54:33.531956Z",
     "start_time": "2021-03-04T16:54:33.521215Z"
    }
   },
   "outputs": [],
   "source": [
    "# parâmetros cadastrais\n",
    "pr = {\n",
    "    'cidades': (20, 30),           # (min, max) - total de cidades que fará parte da amostra para entidades e conteúdo de formulários\n",
    "    'entidades': 0.8,              # qtd de entidades - % sobre a qtd de cidades\n",
    "    'servico': {\n",
    "        'tot': 200,                # lista total de serviços (de 1 a n)\n",
    "        'min': 60,                 # número mínimo de serviços que fará parte da simulação\n",
    "        'max': 100,                # número máximo de serviços que fará parte da simulação\n",
    "        'prazo': (7000, 60000),    # intervalo de prazo para SLA\n",
    "        'faixa_amarela': 0.85      # porcentagem da faixa amarela em relação a faixa vermelha\n",
    "    },\n",
    "    'categoria_servico': {\n",
    "        'tot': 100,                # lista total de categoria de serviços (de 1 a n)\n",
    "        'min': 4,                  # número mínimo de categoria de serviços que fará parte da simulação\n",
    "        'max': 7                   # número máximo de categoria de serviços que fará parte da simulação\n",
    "    },\n",
    "    'grupo_responsavel': {\n",
    "        'tot': 100,                # lista total de grupos responsáveis (de 1 a n)\n",
    "        'min': 2,                  # número mínimo de grupo responsável que fará parte da simulação\n",
    "        'max': 6                   # número máximo de grupo responsável que fará parte da simulação\n",
    "    },\n",
    "    'usuario': {\n",
    "        'tot': 100,                # lista total de usuários (de 1 a n)\n",
    "        'min': 30,                 # número mínimo de usuários que fará parte da simulação\n",
    "        'max': 40                  # número máximo de usuários que fará parte da simulação\n",
    "    },\n",
    "    'grupo_usuario': {\n",
    "        'tot': 50,                 # lista total de grupos de usuários (de 1 a n)\n",
    "        'min': 10,                 # número mínimo de grupos de usuários que fará parte da simulação\n",
    "        'max': 14                  # número máximo de grupos de usuários que fará parte da simulação\n",
    "    },\n",
    "    'departamento': {\n",
    "        'tot': 100,                # lista total de departamentos de encaminhamento (de 1 a n)\n",
    "        'min': 10,                 # número mínimo de departamentos de encaminhamento que fará parte da simulação\n",
    "        'max': 14                  # número máximo de departamentos de encaminhamento que fará parte da simulação\n",
    "    },\n",
    "    'motivo_cancelamento': {       \n",
    "        'tot': 20,                 # lista total de motivos de cancelamento (de 1 a n)\n",
    "        'min': 5,                  # número mínimo de motivos de cancelamento que fará parte da simulação\n",
    "        'max': 8                   # número máximo de motivos de cancelamento que fará parte da simulação\n",
    "    },\n",
    "    'status_ext': {\n",
    "        'tot': 100,                # lista total de status externo (de 1 a n)\n",
    "        'min': 10,                 # número mínimo de status externo que fará parte da simulação \n",
    "        'max': 20                  # número máximo de status externo que fará parte da simulação\n",
    "    },\n",
    "    'motivo_rating': {\n",
    "        'tot': 100,                # lista total motivos de rating (de 1 a n)\n",
    "        'min': 5,                  # número mínimo de motivos de rating que fará parte da simulação \n",
    "        'max': 8                   # número máximo de motivos de rating que fará parte da simulação\n",
    "    },\n",
    "    'servicos_por_entidade': {\n",
    "        'min': 10,                      # número mínimo de serviços por entidade\n",
    "        'max': 20,                      # número máximo de serviços por entidade\n",
    "        'atributos_form': (6, 10),      # número de atributos de formulário por serviço (mínimo, máximo)\n",
    "        'atributo_integer': (1, 100),   # intervalo de valores para atributos do tipo INTEGER\n",
    "        'atributo_string': (1, 5)       # intervalo de valores para atributos do tipo STRING combinado com descrição\n",
    "    },\n",
    "    'cidades_por_entidade': (10, 20),   # quantidade de cidades para ser randomizado no conteúdo dos formulários\n",
    "    'acao': {\n",
    "        'tot': 100,                # lista total de ações (de 1 a n)\n",
    "        'min': 10,                 # número mínimo de ações por entidade\n",
    "        'max': 20,                 # número máximo de ações por entidade\n",
    "        'prop_notificacao': (7, 3) # proporção média de ações com notificações - (com notificação, sem notificação)\n",
    "    },\n",
    "    'categorias_servico_por_entidade': {\n",
    "        'min': 5,                  # número mínimo de categorias de serviço por entidade\n",
    "        'max': 7                   # número máximo de categorias de serviço por entidade\n",
    "    },\n",
    "    'usuários_por_entidade': {\n",
    "        'min': 10,                 # número mínimo de usuários por entidade\n",
    "        'max': 20                  # número máximo de usuários por entidade\n",
    "    },\n",
    "    'grupos_usuários_por_entidade': {\n",
    "        'min': 10,                 # número mínimo de grupos de usuários por entidade\n",
    "        'max': 20                  # número máximo de grupos de usuários por entidade\n",
    "    },\n",
    "    'tasks_por_protocolo': {\n",
    "        'cancelado': {\n",
    "            'cod': 3,                              # código numérico para protocolos cancelados\n",
    "            'min': 2,                              # número mínimo de grupos de usuários por entidade\n",
    "            'max': 8,                              # número máximo de grupos de usuários por entidade\n",
    "            'nome': 'Cancelado',                   # nome da situação\n",
    "            'nome_task': 'Protocolo Cancelado',    # nome da última task da coleção\n",
    "            'peso_prop': 20                        # peso para proporção na craição aleatória\n",
    "        },\n",
    "        'concluido': {\n",
    "            'cod': 2,                              # código numérico para protocolos concluídos\n",
    "            'min': 5,                              # número mínimo de grupos de usuários por entidade\n",
    "            'max': 12,                             # número máximo de grupos de usuários por entidade\n",
    "            'nome': 'Concluído',                   # nome da situação\n",
    "            'nome_task': 'Protocolo Concluído',    # nome da última task da coleção\n",
    "            'peso_prop': 70                        # peso para proporção na craição aleatória\n",
    "        },\n",
    "        'andamento': {\n",
    "            'cod': 1,                              # código numérico para protocolos em andamento\n",
    "            'min': 2,                              # número mínimo de grupos de usuários por entidade\n",
    "            'max': 11,                             # número máximo de grupos de usuários por entidade\n",
    "            'nome': 'Em Andamento',                # nome da situação\n",
    "            'nome_task': None,                     # nome da última task da coleção\n",
    "            'peso_prop': 10                        # peso para proporção na craição aleatória\n",
    "        },\n",
    "        'tempos': {                                # tempos mínimos e máximos a serem estipulados (em dias)\n",
    "            'min': 0.5,\n",
    "            'max': 10\n",
    "        },\n",
    "        'gap_entre_tasks': {\n",
    "            'min': 0.05,\n",
    "            'max': 1.0\n",
    "        },\n",
    "        'gap_atendimento': {\n",
    "            'min': 0.05,\n",
    "            'max': 0.1,\n",
    "            'prop_anda_atend': (3, 7)       # (x, y) proporção média de com recebimento (a cada x, y é recebido)\n",
    "        }\n",
    "    }\n",
    "}"
   ]
  },
  {
   "cell_type": "code",
   "execution_count": 5,
   "metadata": {
    "ExecuteTime": {
     "end_time": "2021-03-04T16:54:33.539772Z",
     "start_time": "2021-03-04T16:54:33.534162Z"
    }
   },
   "outputs": [],
   "source": [
    "# parâmetros transacionais\n",
    "pr_trans = {\n",
    "    'protocolo': {\n",
    "        'min' : 10000,                         # quantidade mínima de protocolos por entidade entidade\n",
    "        'max': 30000,                          # quantidade máxima de protocolos por entidade entidade\n",
    "        'data_inicial': (2020, 1, 1),          # data inicial da massa de dados\n",
    "        'dias_ant_ult_task': {                 # qtd de dias antes de hoje\n",
    "            'min': 3,\n",
    "            'max': 10\n",
    "        },\n",
    "        'dias_av_apos_ult_task': {             # qtd de dias de avaliação após última task\n",
    "            'min': 3,\n",
    "            'max': 10\n",
    "        },\n",
    "        'ult_dia': 3,                          # qtd de dias antes de hoje\n",
    "        'prop_rating': (15, 25, 20, 30, 10),   # proporção de notas (1, 2, 3, 4, 5)\n",
    "        'prop_tem_rating': (7, 3),             # proporção média de ações com ratings - (com rating, sem rating)\n",
    "        'prop_tem_motivo_rating': (7, 3)       # proporção de que tem motivo de rating - (com motivo, sem motivo)\n",
    "    }\n",
    "}"
   ]
  },
  {
   "cell_type": "markdown",
   "metadata": {},
   "source": [
    "# <font color='black'>lê arquivos externos</font>"
   ]
  },
  {
   "cell_type": "code",
   "execution_count": 6,
   "metadata": {
    "ExecuteTime": {
     "end_time": "2021-03-04T16:54:33.566990Z",
     "start_time": "2021-03-04T16:54:33.541853Z"
    }
   },
   "outputs": [
    {
     "name": "stdout",
     "output_type": "stream",
     "text": [
      "forms - linhas = 621 , colunas = 6 \n",
      "municipios - linhas = 5570 , colunas = 6 \n",
      "estados - linhas = 27 , colunas = 5 \n"
     ]
    }
   ],
   "source": [
    "# abrindo os arquivos...\n",
    "caminho_in = HOME_PASTA + '/Documents/DADOS/DADOS_GD/apoio/'\n",
    "caminho_out = HOME_PASTA + '/Documents/DADOS/DADOS_GD/simulacao/'\n",
    "\n",
    "arq_form = caminho_in + \"modelo_form.csv\"\n",
    "arq_municipios = caminho_in + \"municipios.csv\"\n",
    "arq_estados = caminho_in + \"estados.csv\"\n",
    "\n",
    "df_form = pd.read_csv(arq_form, sep = ',', dtype = str)\n",
    "df_municipios = pd.read_csv(arq_municipios, sep = ',', dtype = str)\n",
    "df_estados = pd.read_csv(arq_estados, sep = ',', dtype = str)\n",
    "\n",
    "print(\"forms - linhas = %s , colunas = %s \" % df_form.shape)\n",
    "print(\"municipios - linhas = %s , colunas = %s \" % df_municipios.shape)\n",
    "print(\"estados - linhas = %s , colunas = %s \" % df_estados.shape)"
   ]
  },
  {
   "cell_type": "code",
   "execution_count": 7,
   "metadata": {
    "ExecuteTime": {
     "end_time": "2021-03-04T16:54:33.590062Z",
     "start_time": "2021-03-04T16:54:33.570027Z"
    }
   },
   "outputs": [],
   "source": [
    "# gera uma lista de (cidades, estado)\n",
    "cols = ['nome_x', 'uf']\n",
    "df_cidades = pd.merge(df_municipios, df_estados, on='codigo_uf')[cols]\n",
    "lst_municipios = df_cidades.values.tolist()\n",
    "\n",
    "# gera uma lista de atributos de form\n",
    "cols_sel = ['nome', 'tipo']\n",
    "lst_form = df_form[cols_sel].drop_duplicates(subset = cols_sel).values.tolist()\n",
    "# lst_form"
   ]
  },
  {
   "cell_type": "markdown",
   "metadata": {},
   "source": [
    "# <font color='black'>gera Cidades e Estados para Formulários e Entidades</font>"
   ]
  },
  {
   "cell_type": "code",
   "execution_count": 8,
   "metadata": {
    "ExecuteTime": {
     "end_time": "2021-03-04T16:54:33.599210Z",
     "start_time": "2021-03-04T16:54:33.594932Z"
    }
   },
   "outputs": [
    {
     "name": "stdout",
     "output_type": "stream",
     "text": [
      "cidades = 28\n"
     ]
    }
   ],
   "source": [
    "# estipula a quantidade de cidades fará parte do dataset\n",
    "qtd_cidades = rd.randint(pr['cidades'][0],pr['cidades'][1])\n",
    "\n",
    "# gera a lista de cidades\n",
    "lst_cidades = rd.sample(lst_municipios, k = qtd_cidades)\n",
    "\n",
    "print('cidades =', len(lst_cidades))\n",
    "# lst_cidades"
   ]
  },
  {
   "cell_type": "markdown",
   "metadata": {},
   "source": [
    "# <font color='black'>gera Entidades</font>"
   ]
  },
  {
   "cell_type": "code",
   "execution_count": 9,
   "metadata": {
    "ExecuteTime": {
     "end_time": "2021-03-04T16:54:33.608231Z",
     "start_time": "2021-03-04T16:54:33.603019Z"
    }
   },
   "outputs": [
    {
     "name": "stdout",
     "output_type": "stream",
     "text": [
      "entidades = 22\n"
     ]
    }
   ],
   "source": [
    "# estipula a quantidade de entidades fará parte do dataset\n",
    "qtd_entidades = int(pr['entidades'] * len(lst_cidades))\n",
    "\n",
    "# gera a lista de cidades\n",
    "lst_tmp_entidades = rd.sample(lst_municipios, k = qtd_entidades)\n",
    "\n",
    "# define orgãos de governo\n",
    "lst_tmp_orgao = ['Prefeitura de ', 'Secretaria de ']\n",
    "lst_entidades = []\n",
    "\n",
    "# gera a lista de entidades\n",
    "for i in lst_tmp_entidades:\n",
    "    lst_entidades.append(\n",
    "        [\n",
    "            rd.choices(lst_tmp_orgao, [4, 1], k =1)[0] + i[0],\n",
    "            i[1]\n",
    "        ]\n",
    "    )\n",
    "    \n",
    "print('entidades =', len(lst_entidades))\n",
    "# lst_entidades"
   ]
  },
  {
   "cell_type": "markdown",
   "metadata": {},
   "source": [
    "# <font color='black'>gera Serviços</font>"
   ]
  },
  {
   "cell_type": "markdown",
   "metadata": {},
   "source": [
    "## <font color='green'>gera grupos responsável</font>"
   ]
  },
  {
   "cell_type": "code",
   "execution_count": 10,
   "metadata": {
    "ExecuteTime": {
     "end_time": "2021-03-04T16:54:33.615256Z",
     "start_time": "2021-03-04T16:54:33.610475Z"
    }
   },
   "outputs": [
    {
     "name": "stdout",
     "output_type": "stream",
     "text": [
      "grupos responsáveis = 100\n"
     ]
    }
   ],
   "source": [
    "# gera a lista total de grupos responsáveis que será usada\n",
    "lst_tmp_grupo_responsavel = []\n",
    "for i in range(pr['grupo_responsavel']['tot']):\n",
    "    lst_tmp_grupo_responsavel.append('Grupo Responsável ' + str(i + 1))\n",
    "print('grupos responsáveis =', len(lst_tmp_grupo_responsavel))\n",
    "# lst_tmp_grupo_responsavel"
   ]
  },
  {
   "cell_type": "markdown",
   "metadata": {},
   "source": [
    "## <font color='green'>gera categorias de serviços</font>"
   ]
  },
  {
   "cell_type": "code",
   "execution_count": 11,
   "metadata": {
    "ExecuteTime": {
     "end_time": "2021-03-04T16:54:33.622219Z",
     "start_time": "2021-03-04T16:54:33.617887Z"
    },
    "scrolled": true
   },
   "outputs": [
    {
     "name": "stdout",
     "output_type": "stream",
     "text": [
      "categorias de serviço = 100\n"
     ]
    }
   ],
   "source": [
    "# gera a lista total de grupos de serviços que será usada\n",
    "lst_tmp_categoria_servico = []\n",
    "for i in range(pr['categoria_servico']['tot']):\n",
    "    lst_tmp_categoria_servico.append('Categoria de Servico ' + str(i + 1))\n",
    "print('categorias de serviço =', len(lst_tmp_categoria_servico))\n",
    "# lst_tmp_categoria_servico"
   ]
  },
  {
   "cell_type": "markdown",
   "metadata": {},
   "source": [
    "## <font color='green'>gera serviços</font>"
   ]
  },
  {
   "cell_type": "code",
   "execution_count": 12,
   "metadata": {
    "ExecuteTime": {
     "end_time": "2021-03-04T16:54:33.629172Z",
     "start_time": "2021-03-04T16:54:33.624943Z"
    }
   },
   "outputs": [
    {
     "name": "stdout",
     "output_type": "stream",
     "text": [
      "serviços = 200\n"
     ]
    }
   ],
   "source": [
    "# gera a lista total de serviços que será usada\n",
    "lst_tmp_servico = []\n",
    "for i in range(pr['servico']['tot']):\n",
    "    lst_tmp_servico.append('Servico ' + str(i + 1))\n",
    "print('serviços =', len(lst_tmp_servico))\n",
    "# lst_tmp_servico"
   ]
  },
  {
   "cell_type": "markdown",
   "metadata": {},
   "source": [
    "# <font color='black'>gera Usuários</font>"
   ]
  },
  {
   "cell_type": "markdown",
   "metadata": {},
   "source": [
    "## <font color='green'>gera grupos de usuários</font>"
   ]
  },
  {
   "cell_type": "code",
   "execution_count": 13,
   "metadata": {
    "ExecuteTime": {
     "end_time": "2021-03-04T16:54:33.637116Z",
     "start_time": "2021-03-04T16:54:33.632237Z"
    }
   },
   "outputs": [
    {
     "name": "stdout",
     "output_type": "stream",
     "text": [
      "grupos de usuários = 50\n"
     ]
    }
   ],
   "source": [
    "# gera a lista total de grupos de usuários que será usada\n",
    "lst_tmp_grupo_usuario = []\n",
    "for i in range(pr['grupo_usuario']['tot']):\n",
    "    lst_tmp_grupo_usuario.append('Grupo de Usuário ' + str(i + 1))\n",
    "print('grupos de usuários =', len(lst_tmp_grupo_usuario))\n",
    "# lst_tmp_grupo_usuario"
   ]
  },
  {
   "cell_type": "markdown",
   "metadata": {},
   "source": [
    "## <font color='green'>gera usuários</font>"
   ]
  },
  {
   "cell_type": "code",
   "execution_count": 14,
   "metadata": {
    "ExecuteTime": {
     "end_time": "2021-03-04T16:54:33.643849Z",
     "start_time": "2021-03-04T16:54:33.639797Z"
    }
   },
   "outputs": [
    {
     "name": "stdout",
     "output_type": "stream",
     "text": [
      "usuários = 100\n"
     ]
    }
   ],
   "source": [
    "# gera a lista total de usuários que será usada\n",
    "lst_tmp_usuario = []\n",
    "for i in range(pr['usuario']['tot']):\n",
    "    lst_tmp_usuario.append('Usuário ' + str(i + 1))\n",
    "print('usuários =', len(lst_tmp_usuario))\n",
    "# lst_tmp_usuario"
   ]
  },
  {
   "cell_type": "markdown",
   "metadata": {},
   "source": [
    "# <font color='black'>gera Departamentos (encaminhado para)</font>"
   ]
  },
  {
   "cell_type": "markdown",
   "metadata": {},
   "source": [
    "## <font color='green'>gera departamentos de encaminhamento</font>"
   ]
  },
  {
   "cell_type": "code",
   "execution_count": 15,
   "metadata": {
    "ExecuteTime": {
     "end_time": "2021-03-04T16:54:33.650002Z",
     "start_time": "2021-03-04T16:54:33.646167Z"
    }
   },
   "outputs": [
    {
     "name": "stdout",
     "output_type": "stream",
     "text": [
      "departamentos de encaminhamento = 100\n"
     ]
    }
   ],
   "source": [
    "# gera a lista total de departamentos que será usada na coluna \"encaminhado para\"\n",
    "lst_tmp_departamento = []\n",
    "for i in range(pr['departamento']['tot']):\n",
    "    lst_tmp_departamento.append('Departamento ' + str(i + 1))\n",
    "print('departamentos de encaminhamento =', len(lst_tmp_departamento))\n",
    "# lst_tmp_departamento"
   ]
  },
  {
   "cell_type": "markdown",
   "metadata": {},
   "source": [
    "# <font color='black'>Motivos de Cancelamento</font>"
   ]
  },
  {
   "cell_type": "markdown",
   "metadata": {},
   "source": [
    "## <font color='green'>gera motivos de cancelamento</font>"
   ]
  },
  {
   "cell_type": "code",
   "execution_count": 16,
   "metadata": {
    "ExecuteTime": {
     "end_time": "2021-03-04T16:54:33.656774Z",
     "start_time": "2021-03-04T16:54:33.652125Z"
    }
   },
   "outputs": [
    {
     "name": "stdout",
     "output_type": "stream",
     "text": [
      "motivos de encaminhamento = 20\n"
     ]
    }
   ],
   "source": [
    "# gera a lista total de motivos de cancelamento\"\n",
    "lst_tmp_motivos_canc = []\n",
    "for i in range(pr['motivo_cancelamento']['tot']):\n",
    "    lst_tmp_motivos_canc.append('Motivo Cancelamento ' + str(i + 1))\n",
    "print('motivos de encaminhamento =', len(lst_tmp_motivos_canc))\n",
    "# lst_tmp_motivos_canc"
   ]
  },
  {
   "cell_type": "markdown",
   "metadata": {},
   "source": [
    "# <font color='black'>Motivos de Rating</font>"
   ]
  },
  {
   "cell_type": "markdown",
   "metadata": {},
   "source": [
    "## <font color='green'>gera motivos de rating</font>"
   ]
  },
  {
   "cell_type": "code",
   "execution_count": 17,
   "metadata": {
    "ExecuteTime": {
     "end_time": "2021-03-04T16:54:33.664614Z",
     "start_time": "2021-03-04T16:54:33.659667Z"
    }
   },
   "outputs": [
    {
     "name": "stdout",
     "output_type": "stream",
     "text": [
      "motivos de rating = 100\n"
     ]
    }
   ],
   "source": [
    "# gera a lista total de motivos de rating\"\n",
    "lst_tmp_motivos_rating = []\n",
    "for i in range(pr['motivo_rating']['tot']):\n",
    "    lst_tmp_motivos_rating.append('Motivo de Rating ' + str(i + 1))\n",
    "print('motivos de rating =', len(lst_tmp_motivos_rating))\n",
    "# lst_tmp_motivos_rating"
   ]
  },
  {
   "cell_type": "markdown",
   "metadata": {},
   "source": [
    "# <font color='black'>gera Ações</font>"
   ]
  },
  {
   "cell_type": "markdown",
   "metadata": {},
   "source": [
    "## <font color='green'>gera acões</font>"
   ]
  },
  {
   "cell_type": "code",
   "execution_count": 18,
   "metadata": {
    "ExecuteTime": {
     "end_time": "2021-03-04T16:54:33.674905Z",
     "start_time": "2021-03-04T16:54:33.667140Z"
    }
   },
   "outputs": [
    {
     "name": "stdout",
     "output_type": "stream",
     "text": [
      "ações = 100\n"
     ]
    }
   ],
   "source": [
    "# gera a lista total de ações que será usada\n",
    "lst_tmp_acao = []\n",
    "for i in range(pr['acao']['tot']):\n",
    "    notif = rd.choices((1, 0), pr['acao']['prop_notificacao'])[0]\n",
    "    lst_tmp_acao.append(('Ação ' + str(i + 1), notif))\n",
    "print('ações =', len(lst_tmp_acao))\n",
    "# lst_tmp_acao"
   ]
  },
  {
   "cell_type": "markdown",
   "metadata": {},
   "source": [
    "## <font color='green'>gera status externo</font>"
   ]
  },
  {
   "cell_type": "code",
   "execution_count": 19,
   "metadata": {
    "ExecuteTime": {
     "end_time": "2021-03-04T16:54:33.682192Z",
     "start_time": "2021-03-04T16:54:33.678082Z"
    }
   },
   "outputs": [
    {
     "name": "stdout",
     "output_type": "stream",
     "text": [
      "status externo = 100\n"
     ]
    }
   ],
   "source": [
    "# gera a lista total de status externo que será usada\n",
    "lst_tmp_status_ext = []\n",
    "for i in range(pr['status_ext']['tot']):\n",
    "    lst_tmp_status_ext.append('Status Externo ' + str(i + 1))\n",
    "print('status externo =', len(lst_tmp_status_ext))\n",
    "# lst_tmp_status_ext"
   ]
  },
  {
   "cell_type": "markdown",
   "metadata": {},
   "source": [
    "# <font color='black'>Cria estrutura Entidade --> serviços, usuários, departamentos, motivos cancelamento </font>"
   ]
  },
  {
   "cell_type": "code",
   "execution_count": 20,
   "metadata": {
    "ExecuteTime": {
     "end_time": "2021-03-04T16:54:33.755690Z",
     "start_time": "2021-03-04T16:54:33.684544Z"
    },
    "scrolled": false
   },
   "outputs": [
    {
     "name": "stdout",
     "output_type": "stream",
     "text": [
      "entidades = 22\n"
     ]
    }
   ],
   "source": [
    "lst = []\n",
    "\n",
    "# para cada entidade gera uma coleção de serviços e de usuários\n",
    "for i in lst_entidades:\n",
    "\n",
    "##########################################################################################################\n",
    "# serviços\n",
    "# estipula a quantidade de serviços será cadastrado para esta entidade\n",
    "    qtd = rd.randint(pr['servicos_por_entidade']['min'], pr['servicos_por_entidade']['max'])\n",
    "# define a coleção de serviços para esta entidade\n",
    "    lst_servicos_da_entidade = rd.sample(lst_tmp_servico, k = qtd)\n",
    "    \n",
    "##########################################################################################################\n",
    "# grupos de responsáveis\n",
    "# estipula a quantidade de grupos responsáveis será cadastrado para esta entidade\n",
    "    qtd = rd.randint(pr['grupo_responsavel']['min'], pr['grupo_responsavel']['max'])\n",
    "# define a coleção de grupos responsáveis para esta entidade\n",
    "    lst_grupos_responsaveis_da_entidade = rd.sample(lst_tmp_grupo_responsavel, k = qtd)\n",
    "\n",
    "##########################################################################################################\n",
    "# categorias de serviços\n",
    "# estipula a quantidade de categorias de serviços será cadastrado para esta entidade\n",
    "    qtd = rd.randint(pr['categoria_servico']['min'], pr['categoria_servico']['max'])\n",
    "# define a coleção de categorias de serviços para esta entidade\n",
    "    lst_categoria_servicos_da_entidade = rd.sample(lst_tmp_categoria_servico, k = qtd)\n",
    "\n",
    "##########################################################################################################\n",
    "# estrutura de serviços - serviço, grupo responsável, categoria de serviço, SLA, faixas SLA, campos do formulário\n",
    "\n",
    "# escolhe o grupo de responsavel e a categoria de servicos por cada serviço\n",
    "    lst_serv = []\n",
    "    for j in lst_servicos_da_entidade:\n",
    "        # define as faixas de SLA do serviço\n",
    "        # ((verde_min, verde_máx), (amarelo_min, amarelo_max), (vermelho_min, vermelho_max))\n",
    "        t2 = rd.randint(pr['servico']['prazo'][0], pr['servico']['prazo'][1])\n",
    "        t1 = int(t2 * pr['servico']['faixa_amarela'])\n",
    "        faixas_SLA = ((None, t1), (t1, t2), (t2, None))\n",
    "        \n",
    "        # define os atributos de formulário para o serviço\n",
    "        lst_atributos_form = [\n",
    "            ['state', 'STRING'],\n",
    "            ['city', 'STRING'],\n",
    "            ['neighborhood', 'STRING'],\n",
    "            ['zipcode', 'STRING'],\n",
    "            ['street', 'STRING']\n",
    "        ]\n",
    "        qtd = rd.randint(pr['servicos_por_entidade']['atributos_form'][0], \n",
    "                         pr['servicos_por_entidade']['atributos_form'][1])\n",
    "\n",
    "        lst_atributos_form.extend(rd.sample(lst_form, k = qtd))\n",
    "    \n",
    "        dic_serv = {\n",
    "            'servico': j,\n",
    "            'grupo_resp': rd.sample(lst_grupos_responsaveis_da_entidade, k = 1)[0],\n",
    "            'categoria_serv': rd.sample(lst_categoria_servicos_da_entidade, k = 1)[0],\n",
    "            'prazo_SLA': t2,\n",
    "            'faixas_SLA': faixas_SLA,\n",
    "            'campos_form': lst_atributos_form\n",
    "        }\n",
    "        lst_serv.append(dic_serv)\n",
    "\n",
    "##########################################################################################################\n",
    "# usuários\n",
    "# estipula a quantidade de usuários será cadastrado para esta entidade\n",
    "    qtd = rd.randint(pr['usuários_por_entidade']['min'], pr['usuários_por_entidade']['max'])\n",
    "# define a coleção de serviços para esta entidade\n",
    "    lst_usuarios_da_entidade = rd.sample(lst_tmp_usuario, k = qtd)\n",
    "\n",
    "# estipula a quantidade de grupos de usuários será cadastrado para esta entidade\n",
    "    qtd = rd.randint(pr['grupos_usuários_por_entidade']['min'], pr['grupos_usuários_por_entidade']['max'])\n",
    "# define a coleção de grupos de usuários para esta entidade\n",
    "    lst_grupos_usuario_da_entidade = rd.sample(lst_tmp_grupo_usuario, k = qtd)\n",
    "    \n",
    "# escolhe o grupo de usuários por cada usuário\n",
    "    lst_user = []\n",
    "    for j in lst_usuarios_da_entidade:\n",
    "        dic_user = {\n",
    "            'usuario': j,\n",
    "            'grupo_usuario': rd.sample(lst_grupos_usuario_da_entidade, k = 1)[0]\n",
    "        }\n",
    "        lst_user.append(dic_user)  \n",
    "\n",
    "##########################################################################################################\n",
    "# departamentos\n",
    "# estipula a quantidade de departamentos será cadastrado para esta entidade\n",
    "    qtd = rd.randint(pr['departamento']['min'], pr['departamento']['max'])\n",
    "# define a coleção de serviços para esta entidade\n",
    "    lst_departamentos = rd.sample(lst_tmp_departamento, k = qtd)\n",
    "\n",
    "##########################################################################################################\n",
    "# motivos de cancelamento\n",
    "# estipula a quantidade de motivos de cancelamento será cadastrado para esta entidade\n",
    "    qtd = rd.randint(pr['motivo_cancelamento']['min'], pr['motivo_cancelamento']['max'])\n",
    "# define a coleção de motivos de cancelamento para esta entidade\n",
    "    lst_motivos_canc = rd.sample(lst_tmp_motivos_canc, k = qtd)\n",
    "\n",
    "##########################################################################################################\n",
    "# motivos de rating\n",
    "# estipula a quantidade de motivos de rating será cadastrado para esta entidade\n",
    "    qtd = rd.randint(pr['motivo_rating']['min'], pr['motivo_rating']['max'])\n",
    "# define a coleção de motivos de rating para esta entidade\n",
    "    lst_motivos_rating = rd.sample(lst_tmp_motivos_rating, k = qtd)\n",
    "\n",
    "##########################################################################################################\n",
    "# status externo\n",
    "# estipula a quantidade de motivos de cancelamento será cadastrado para esta entidade\n",
    "    qtd = rd.randint(pr['status_ext']['min'], pr['status_ext']['max'])\n",
    "# define a coleção de serviços para esta entidade\n",
    "    lst_status_ext = rd.sample(lst_tmp_status_ext, k = qtd)\n",
    "\n",
    "##########################################################################################################\n",
    "# ações\n",
    "# estipula a quantidade de ações que será cadastrado para esta entidade\n",
    "    qtd = rd.randint(pr['acao']['min'], pr['acao']['max'])\n",
    "# define a coleção de ações para esta entidade\n",
    "    lst_acoes = rd.sample(lst_tmp_acao, k = qtd)\n",
    "# define qual será a ação que terá solicitação de apoio\n",
    "    acao_apoio = rd.sample(lst_acoes, k = 1)[0]\n",
    "# define qual será a ação que solicitará agendamento\n",
    "    acao_agenda = rd.sample(lst_acoes, k = 1)[0]\n",
    "\n",
    "# lista de ações - [ação, 0=não tem apoio ou 1=tem apoio, 0=não tem notificação ou 1=tem notificação]\n",
    "# refaz a lista de serviço para uma lista de tuplas: (serviço, 0 = não tem apoio ou 1 = tem apoio)\n",
    "    lst_acoes = [(i[0], 'true' if i == acao_apoio else 'false', i[1], 'true' if i == acao_agenda else 'false') for i in lst_acoes]\n",
    "    \n",
    "##########################################################################################################\n",
    "# cidades para os formulários\n",
    "# estipula a quantidade de cidades serão usadas nos contéudo dos formulários\n",
    "    qtd = rd.randint(pr['cidades_por_entidade'][0], pr['cidades_por_entidade'][1])\n",
    "# define a coleção de de cidades serão usadas nos contéudo dos formulários\n",
    "    lst_cidades_formularios = rd.sample(lst_cidades, k = qtd)\n",
    "# acrescenta a cidade que originou a entidade\n",
    "    lst_cidades_formularios.append(i)\n",
    "\n",
    "# monta estrutura cadastral de 1 entidade para n serviços e n usuários\n",
    "    dic = {'entidade': i,\n",
    "           'servicos': lst_serv,\n",
    "           'usuarios': lst_user,\n",
    "           'cidades_formularios': lst_cidades_formularios,\n",
    "           'acoes': lst_acoes,\n",
    "           'departamentos': lst_departamentos,\n",
    "           'motivos_canc': lst_motivos_canc,\n",
    "           'status_externo': lst_status_ext,\n",
    "           'motivos_rating': lst_motivos_rating\n",
    "          }\n",
    "    lst.append(dic)\n",
    "print('entidades =', len(lst))\n",
    "# lst[0]"
   ]
  },
  {
   "cell_type": "markdown",
   "metadata": {},
   "source": [
    "# <font color='black'>gera Protocolos</font>"
   ]
  },
  {
   "cell_type": "code",
   "execution_count": 21,
   "metadata": {
    "ExecuteTime": {
     "end_time": "2021-03-04T16:54:33.763030Z",
     "start_time": "2021-03-04T16:54:33.759358Z"
    }
   },
   "outputs": [],
   "source": [
    "# calcula a quantidade de dias entre a data inicial e hoje\n",
    "dt_ini = dt.date(pr_trans['protocolo']['data_inicial'][0],\n",
    "                  pr_trans['protocolo']['data_inicial'][1],\n",
    "                  pr_trans['protocolo']['data_inicial'][2])\n",
    "hoje = dt.datetime.now().date()\n",
    "dias = (hoje - dt_ini).days - pr_trans['protocolo']['ult_dia']"
   ]
  },
  {
   "cell_type": "code",
   "execution_count": 22,
   "metadata": {
    "ExecuteTime": {
     "end_time": "2021-03-04T16:54:33.769132Z",
     "start_time": "2021-03-04T16:54:33.766328Z"
    }
   },
   "outputs": [],
   "source": [
    "# estipula a data do protocolo\n",
    "dt_protocolo = dt_ini + dt.timedelta(days = rd.randint(0, dias))"
   ]
  },
  {
   "cell_type": "markdown",
   "metadata": {},
   "source": [
    "## <font color='green'>gera tasks</font>"
   ]
  },
  {
   "cell_type": "code",
   "execution_count": 23,
   "metadata": {
    "ExecuteTime": {
     "end_time": "2021-03-04T16:54:33.790853Z",
     "start_time": "2021-03-04T16:54:33.776727Z"
    }
   },
   "outputs": [],
   "source": [
    "# parâmetros da função:\n",
    "# p = registro do protocolo\n",
    "# ac = lista de ações a serem soreteadas\n",
    "# t_min_max = tupla com o tempo mínimo e tempo máximo para sorteio\n",
    "\n",
    "def Gera_Task(p, deps, ac, tempos, gaps, gap_atend, sta_ext):\n",
    "    lst_task = []\n",
    "    cont_task = 0\n",
    "    tot_task = p['qtd_tasks']\n",
    "    \n",
    "##########################################################################################################\n",
    "# PRIMEIRA AÇÃO - acrescenta uma primeira ação em todos os protocolos\n",
    "    dic = {'seq_task': 1,\n",
    "           'acao': ('Abertura de Processo Administrativo', 'false', 'false', 'false'),\n",
    "           'processo_encerrado': 'false',\n",
    "           'processo_cancelado': 'false'\n",
    "          }\n",
    "    lst_task.append(dic)\n",
    "    cont_task += 1\n",
    "    \n",
    "##########################################################################################################\n",
    "#  AÇÕES INTERMEDIÁRIAS - gera tasks intermediárias (sem a possibilidade de ações iguais consecutivas)\n",
    "\n",
    "    acao_anterior = None\n",
    "    for i in range(2, tot_task):\n",
    "        \n",
    "        while 1:  # loop para evitar que sorteie acões iguais consecutivas\n",
    "            ac_e = rd.sample(ac, k = 1)\n",
    "            if ac_e[0] != acao_anterior:\n",
    "                break\n",
    "        acao_anterior = ac_e[0]\n",
    "        \n",
    "        dic = {'seq_task': i,\n",
    "               'acao': ac_e[0],\n",
    "               'processo_encerrado': 'false',\n",
    "               'processo_cancelado': 'false'\n",
    "              }\n",
    "        lst_task.append(dic)\n",
    "\n",
    "##########################################################################################################\n",
    "# ÚLTIMA AÇÃO - se for um protocolo concluído ou cancelado coloca task de conclusão ou cancelamento\n",
    "\n",
    "    \n",
    "    dic = {'seq_task': tot_task,\n",
    "           'acao': (p['situacao']['nome_task'], 'false', 'false', 'false'),\n",
    "           'processo_encerrado': 'true' if (p['situacao']['cod'] != 1) else 'false',\n",
    "           'processo_cancelado': 'true' if (p['situacao']['cod'] == 3) else 'false'\n",
    "          }\n",
    "    lst_task.append(dic)\n",
    "    cont_task += 1\n",
    "    \n",
    "##########################################################################################################\n",
    "# COMPLEMENTA A COLEÇÃO DE AÇÕES\n",
    "    \n",
    "    # define a data da última task\n",
    "    total_tasks = len(lst_task)                                             # total de tasks\n",
    "\n",
    "    # calcula as datas de todas as tasks\n",
    "    andamento = 1 if p['situacao']['cod'] == 1 else 0                       # flag de task em andamento\n",
    "\n",
    "    # determina se a task mais recente de um protocolo em andamento tem data de recebimento\n",
    "    tem_dt_recebimento = rd.choices([0, 1], [gap_atend[2][0], gap_atend[2][1]], k =1)[0]\n",
    "    \n",
    "    ult_dt_conclusão = p['dt_ult_task']\n",
    "\n",
    "    for k in range(total_tasks - 1, -1, -1):\n",
    "\n",
    "        # sorteia o tempo da task\n",
    "        tp = rd.uniform(tempos[0], tempos[1])                           \n",
    "        ult_dt_inicio = ult_dt_conclusão + dt.timedelta(days = -tp)\n",
    "        \n",
    "        # sorteia o gap entra uma task e outra task\n",
    "        gap = rd.uniform(gaps[0], gaps[1])                                      \n",
    "\n",
    "        # sorteia o gap entre criação da task e o atendimento\n",
    "        gap_atendimento = rd.uniform(gap_atend[0], gap_atend[1])\n",
    "        dt_atendimento = ult_dt_inicio + dt.timedelta(days = gap_atendimento)\n",
    "        \n",
    "        lst_task[k]['DT_INICIO'] = ult_dt_inicio\n",
    "        lst_task[k]['TEMPO_ACAO'] = tp\n",
    "        \n",
    "        # determina o status externo da ação\n",
    "        if lst_task[k]['seq_task'] == 1:\n",
    "            lst_task[k]['status_ext'] = 'Solicitação recebida'\n",
    "        elif lst_task[k]['seq_task'] == total_tasks:\n",
    "            if p['situacao']['cod'] == 1:\n",
    "                lst_task[k]['status_ext'] = rd.sample(sta_ext, k = 1)[0]\n",
    "            else:\n",
    "                lst_task[k]['status_ext'] = 'Solicitação Finalizada'\n",
    "        else:\n",
    "            lst_task[k]['status_ext'] = rd.sample(sta_ext, k = 1)[0]\n",
    "        \n",
    "        # determina data de atendimento e data de fim da ação\n",
    "        if (lst_task[k]['seq_task'] == total_tasks and andamento == 1):\n",
    "            \n",
    "            lst_task[k]['DT_ATENDIMENTO'] = dt_atendimento if tem_dt_recebimento == 1 else None\n",
    "            lst_task[k]['DT_FIM'] = None\n",
    "\n",
    "        else:\n",
    "            lst_task[k]['DT_ATENDIMENTO'] = dt_atendimento\n",
    "            lst_task[k]['DT_FIM'] = ult_dt_conclusão\n",
    "                \n",
    "        lst_task[k]['GAP'] = gap    \n",
    "        lst_task[k]['ENCAMINHADO'] = gap\n",
    "        lst_task[k]['ENCAMINHADO'] = rd.sample(deps, k = 1)[0]\n",
    "        \n",
    "        ult_dt_conclusão = ult_dt_inicio + dt.timedelta(days = -gap)\n",
    "        \n",
    "    return lst_task"
   ]
  },
  {
   "cell_type": "markdown",
   "metadata": {},
   "source": [
    "## <font color='green'>gera formulário</font>"
   ]
  },
  {
   "cell_type": "code",
   "execution_count": 24,
   "metadata": {
    "ExecuteTime": {
     "end_time": "2021-03-04T16:54:33.799571Z",
     "start_time": "2021-03-04T16:54:33.794274Z"
    }
   },
   "outputs": [],
   "source": [
    "# gera o conteúdo dos formulários para cada protocolo criado\n",
    "# recebe como parametro o serviço\n",
    "\n",
    "def Gera_Form(campos_form, cidades, interv_integer, interv_string):\n",
    "    lst_conteudo = copy.deepcopy(campos_form)\n",
    "# escolhe qual será a cidade e estado do formulário deste protocolo\n",
    "    cidade_estado_form = rd.sample(cidades, k = 1)[0]\n",
    "    \n",
    "    for i in lst_conteudo:\n",
    "# testa se o campo do formulário é cidade ou UF para pegar o escolhido acima\n",
    "        if i[0] == 'city':\n",
    "            i.append(cidade_estado_form[0])\n",
    "        elif i[0] == 'state':\n",
    "            i.append(cidade_estado_form[1])\n",
    "            \n",
    "# se não for cidade ou UF faz a escolha aleatória\n",
    "        else: \n",
    "            if i[1] == 'BOOLEAN':\n",
    "                i.append(rd.randint(0, 1))\n",
    "            elif i[1] == 'INTEGER':\n",
    "                i.append(rd.randint(interv_integer[0], interv_integer[1]))\n",
    "            else:\n",
    "                cc = 'Valor Campo ' + i[0] + ' ' + str(rd.randint(interv_string[0], interv_string[1]))\n",
    "                i.append(cc)\n",
    "            \n",
    "    return lst_conteudo"
   ]
  },
  {
   "cell_type": "markdown",
   "metadata": {},
   "source": [
    "## <font color='green'>gera protocolos para cada entidade</font>"
   ]
  },
  {
   "cell_type": "code",
   "execution_count": 25,
   "metadata": {
    "ExecuteTime": {
     "end_time": "2021-03-04T16:55:54.588982Z",
     "start_time": "2021-03-04T16:54:33.801971Z"
    },
    "scrolled": true
   },
   "outputs": [
    {
     "name": "stdout",
     "output_type": "stream",
     "text": [
      "Secretaria de Uirapuru - 1 de 22\n",
      "Prefeitura de Ubirajara - 2 de 22\n",
      "Prefeitura de Santa Tereza - 3 de 22\n",
      "Prefeitura de Uniflor - 4 de 22\n",
      "Prefeitura de Machado - 5 de 22\n",
      "Prefeitura de Volta Redonda - 6 de 22\n",
      "Secretaria de Teolândia - 7 de 22\n",
      "Prefeitura de Cláudia - 8 de 22\n",
      "Prefeitura de Mirandiba - 9 de 22\n",
      "Prefeitura de São Tiago - 10 de 22\n",
      "Prefeitura de Massapê do Piauí - 11 de 22\n",
      "Secretaria de Turvelândia - 12 de 22\n",
      "Prefeitura de Treviso - 13 de 22\n",
      "Secretaria de Rochedo de Minas - 14 de 22\n",
      "Prefeitura de Bom Jesus do Tocantins - 15 de 22\n",
      "Prefeitura de Erebango - 16 de 22\n",
      "Prefeitura de Caçapava - 17 de 22\n",
      "Prefeitura de Caarapó - 18 de 22\n",
      "Prefeitura de Sebastião Leal - 19 de 22\n",
      "Secretaria de Edealina - 20 de 22\n",
      "Prefeitura de Piquete - 21 de 22\n",
      "Prefeitura de Nonoai - 22 de 22\n",
      "geração de protocolo concluída!\n"
     ]
    }
   ],
   "source": [
    "lstent_all_protocolo = []\n",
    "hoje = dt.datetime.now()\n",
    "\n",
    "# para cada entidade gera uma coleção de serviços e de usuários\n",
    "for idx, i in enumerate(lst):\n",
    "    print(f\"{i['entidade'][0]} - {idx + 1} de {len(lst)}\")\n",
    "    \n",
    "# protocolos\n",
    "    lstent_protocolo = []\n",
    "# estipula a quantidade de protocolos será simulado para esta entidade\n",
    "    qtd = rd.randint(pr_trans['protocolo']['min'], pr_trans['protocolo']['max'])\n",
    "\n",
    "    # define a coleção de protocolos para esta entidade\n",
    "    for k in range(qtd):\n",
    "        # define o código do protocolo\n",
    "        codigo_protocolo = str(idx + 1) + '.pr-' + str(k + 1)\n",
    "        \n",
    "        # determina por sorteio o status do protocolo (\"Concluído\", \"Em Andamento\", \"Cancelado\") \n",
    "        ret_status = (pr['tasks_por_protocolo']['concluido'],\n",
    "                      pr['tasks_por_protocolo']['andamento'],\n",
    "                      pr['tasks_por_protocolo']['cancelado'])\n",
    "        ret_peso = (pr['tasks_por_protocolo']['concluido']['peso_prop'],\n",
    "                    pr['tasks_por_protocolo']['andamento']['peso_prop'],\n",
    "                    pr['tasks_por_protocolo']['cancelado']['peso_prop'])\n",
    "        sit = rd.choices(ret_status, ret_peso, k = 1)[0]\n",
    "                \n",
    "        # determina o serviço, a categoria de serviços e o grupo responsável do protocolo\n",
    "        serv_protocolo = rd.sample(i['servicos'], k = 1)[0]\n",
    "        formulario = Gera_Form(serv_protocolo['campos_form'],\n",
    "                               i['cidades_formularios'],\n",
    "                               pr['servicos_por_entidade']['atributo_integer'],\n",
    "                               pr['servicos_por_entidade']['atributo_string'])\n",
    "\n",
    "        # determina o usuário e grupo de usuário do protocolo\n",
    "        user_protocolo = rd.sample(i['usuarios'], k = 1)[0]        \n",
    "        \n",
    "        # determina por sorteio a quantidade de tasks do protocolo\n",
    "        qtd_tasks = rd.randint(sit['min'], sit['max'])\n",
    "        \n",
    "        # determina o motivo do cancelamento\n",
    "        motivo_canc = rd.sample(i['motivos_canc'], k = 1)[0] if sit['cod'] == 3 else ''\n",
    "        \n",
    "        # determina a data e hora da última task e a data da avaliação                \n",
    "        dias = rd.uniform(pr_trans['protocolo']['dias_ant_ult_task']['min'],    # total de dias para tirar de hoje\n",
    "                          pr_trans['protocolo']['dias_ant_ult_task']['max'])\n",
    "        dt_ult_task = hoje + dt.timedelta(days = -dias)                         # data de conclusão da última task\n",
    "\n",
    "##########################################################################################################\n",
    "# rating\n",
    "# determina o rating para protocolos com status \"concluído e se terá rating\n",
    "        n_rating = None; motivo_rating = None; dt_rating = None\n",
    "        if (sit['cod'] == 2) and (rd.choices((1, 0), pr_trans['protocolo']['prop_tem_rating'], k = 1)[0] == 1):\n",
    "            n_rating = rd.choices((1, 2, 3, 4, 5), pr_trans['protocolo']['prop_rating'], k = 1)[0]\n",
    "\n",
    "            # sorteia se vai ter ou não motivo de avaliação\n",
    "            tem_motivo_rating = rd.choices((1, 0), pr_trans['protocolo']['prop_tem_motivo_rating'], k = 1)[0]\n",
    "            if tem_motivo_rating == 1:\n",
    "                motivo_rating = rd.sample(i['motivos_rating'], k = 1)[0]\n",
    "\n",
    "            # calcula a data de avaliação\n",
    "            dias = rd.uniform(pr_trans['protocolo']['dias_av_apos_ult_task']['min'],\n",
    "                              pr_trans['protocolo']['dias_av_apos_ult_task']['max'])\n",
    "            dt_rating = hoje + dt.timedelta(days = -dias)\n",
    "\n",
    "        rating = [n_rating, motivo_rating, dt_rating]\n",
    "        \n",
    "        # monta a estrutura da task\n",
    "        dic = {'cod_protocolo': codigo_protocolo,\n",
    "               'situacao': sit,\n",
    "               'qtd_tasks': qtd_tasks,\n",
    "               'dt_ult_task': dt_ult_task,\n",
    "               'servico': serv_protocolo,\n",
    "               'usuario': user_protocolo,\n",
    "               'motivo_canc': motivo_canc,\n",
    "               'rating': rating,\n",
    "               'formulario': formulario\n",
    "              }\n",
    "        \n",
    "        # tasks\n",
    "        dic['tasks'] = Gera_Task(\n",
    "                                 dic,\n",
    "                                 i['departamentos'],\n",
    "                                 i['acoes'], \n",
    "                                 (pr['tasks_por_protocolo']['tempos']['min'], \n",
    "                                  pr['tasks_por_protocolo']['tempos']['max']),\n",
    "                                 (pr['tasks_por_protocolo']['gap_entre_tasks']['min'], \n",
    "                                  pr['tasks_por_protocolo']['gap_entre_tasks']['max']),\n",
    "                                 (pr['tasks_por_protocolo']['gap_atendimento']['min'], \n",
    "                                  pr['tasks_por_protocolo']['gap_atendimento']['max'],\n",
    "                                  pr['tasks_por_protocolo']['gap_atendimento']['prop_anda_atend']),\n",
    "                                  i['status_externo']\n",
    "                        )\n",
    "        \n",
    "        lstent_all_protocolo.append(dic)\n",
    "        lstent_protocolo.append(dic)\n",
    "        \n",
    "    lst[idx]['protocolos'] = lstent_protocolo\n",
    "print('geração de protocolo concluída!')\n",
    "# lstent_all_protocolo"
   ]
  },
  {
   "cell_type": "markdown",
   "metadata": {},
   "source": [
    "# <font color='black'>gera Datasets de Gravação</font>"
   ]
  },
  {
   "cell_type": "code",
   "execution_count": 26,
   "metadata": {
    "ExecuteTime": {
     "end_time": "2021-03-04T16:55:54.594083Z",
     "start_time": "2021-03-04T16:55:54.591220Z"
    }
   },
   "outputs": [],
   "source": [
    "def RetCodigoEntidade(entidade):\n",
    "    return 'GD_' + entidade.replace(' ', '_')"
   ]
  },
  {
   "cell_type": "code",
   "execution_count": 27,
   "metadata": {
    "ExecuteTime": {
     "end_time": "2021-03-04T16:55:54.599932Z",
     "start_time": "2021-03-04T16:55:54.596766Z"
    }
   },
   "outputs": [],
   "source": [
    "def RetDt(d):\n",
    "    if d == None: return ''\n",
    "    if d == '': return ''\n",
    "    if type(d) == dt.datetime:\n",
    "        return d.strftime(\"%Y-%m-%dT%H:%M:%S.%f\")[:-3] + 'Z'\n",
    "    else:\n",
    "        return d"
   ]
  },
  {
   "cell_type": "markdown",
   "metadata": {},
   "source": [
    "## <font color='green'>gera dataset para \"tasks\"</font>"
   ]
  },
  {
   "cell_type": "code",
   "execution_count": 28,
   "metadata": {
    "ExecuteTime": {
     "end_time": "2021-03-04T16:56:51.309648Z",
     "start_time": "2021-03-04T16:55:54.602394Z"
    }
   },
   "outputs": [
    {
     "name": "stdout",
     "output_type": "stream",
     "text": [
      "tasks = 3230755\n"
     ]
    }
   ],
   "source": [
    "lst_tasks = []\n",
    "for i in lst:\n",
    "    for k in i['protocolos']:\n",
    "        for m in k['tasks']:\n",
    "            lst_tasks.append(\n",
    "                 [\n",
    "                     k['cod_protocolo'],                                 # Protocolo\n",
    "                     i['entidade'][0],                                   # Entidade\n",
    "                     RetCodigoEntidade(i['entidade'][0]),                # Entidade - código\n",
    "                     k['servico']['servico'],                            # Serviço\n",
    "                     k['usuario']['usuario'],                            # Usuário\n",
    "                     k['usuario']['grupo_usuario'],                      # Grupo\n",
    "                     RetDt(m['DT_FIM']),                                 # Data e Hora da conclusão - gravação BD\n",
    "                     RetDt(m['DT_ATENDIMENTO']),                         # Data e Hora de atendimento - gravação BD\n",
    "                     RetDt(m['DT_INICIO']),                              # Data e Hora de criação - gravação BD\n",
    "                     '' if m['acao'][0] == None else m['acao'][0],       # Ação\n",
    "                     m['ENCAMINHADO'],                                   # Encaminhado para\n",
    "                     '',                                                 # Comentário\n",
    "                     str(m['acao'][1]),                                  # Apoio\n",
    "                     str(m['processo_encerrado']),                       # Processo encerrado\n",
    "                     str(m['processo_cancelado']),                       # Processo cancelado\n",
    "                     k['motivo_canc'],                                   # Motivo de cancelamento\n",
    "                     str(m['acao'][2]),                                  # Notificação\n",
    "                     m['status_ext'],                                    # Status externo\n",
    "                     str(m['acao'][3]),                                  # Agendamento\n",
    "                     '',                                                 # Data de agendamento\n",
    "                     k['servico']['categoria_serv'],                     # Categoria\n",
    "                     k['servico']['grupo_resp'],                         # Grupo responsável\n",
    "                     str(k['servico']['prazo_SLA'])                      # Prazo (em segundos)\n",
    "                ]                                \n",
    "            )\n",
    "\n",
    "print('tasks =', len(lst_tasks))\n",
    "# lst_tasks"
   ]
  },
  {
   "cell_type": "markdown",
   "metadata": {},
   "source": [
    "## <font color='green'>gera dataset para \"sla\"</font>"
   ]
  },
  {
   "cell_type": "code",
   "execution_count": 29,
   "metadata": {
    "ExecuteTime": {
     "end_time": "2021-03-04T16:56:51.317466Z",
     "start_time": "2021-03-04T16:56:51.311409Z"
    }
   },
   "outputs": [
    {
     "name": "stdout",
     "output_type": "stream",
     "text": [
      "sla = 1056\n"
     ]
    }
   ],
   "source": [
    "tup_faixas = ('Dentro do prazo', 'Perto do prazo', 'Fora do prazo')\n",
    "lst_sla = []\n",
    "for i in lst:\n",
    "    for s in i['servicos']:\n",
    "        for f in range(3):\n",
    "            lst_sla.append(\n",
    "                [\n",
    "                    RetCodigoEntidade(i['entidade'][0]),              # Entidade - código\n",
    "                    s['servico'],\n",
    "                    tup_faixas[f],\n",
    "                    'null' if s['faixas_SLA'][f][0] == None else s['faixas_SLA'][f][0],\n",
    "                    'null' if s['faixas_SLA'][f][1] == None else s['faixas_SLA'][f][1]\n",
    "                ]\n",
    "            )\n",
    "\n",
    "print('sla =', len(lst_sla))\n",
    "# lst_sla"
   ]
  },
  {
   "cell_type": "markdown",
   "metadata": {},
   "source": [
    "## <font color='green'>gera dataset para \"rating\"</font>"
   ]
  },
  {
   "cell_type": "code",
   "execution_count": 30,
   "metadata": {
    "ExecuteTime": {
     "end_time": "2021-03-04T16:56:55.954260Z",
     "start_time": "2021-03-04T16:56:51.319580Z"
    }
   },
   "outputs": [
    {
     "name": "stdout",
     "output_type": "stream",
     "text": [
      "rating = 207937\n"
     ]
    }
   ],
   "source": [
    "lst_rating = []\n",
    "for i in lst:\n",
    "    for p in i['protocolos']:\n",
    "        if p['rating'][0] != None:\n",
    "            lst_rating.append(\n",
    "                [\n",
    "                    p['cod_protocolo'],\n",
    "                    '' if p['rating'][0] == None else str(p['rating'][0]),\n",
    "                    '' if p['rating'][1] == None else p['rating'][1],\n",
    "                    RetDt(p['rating'][2])\n",
    "                ]\n",
    "            )\n",
    "            \n",
    "print('rating =', len(lst_rating))\n",
    "# lst_rating"
   ]
  },
  {
   "cell_type": "markdown",
   "metadata": {},
   "source": [
    "## <font color='green'>gera dataset para \"form\"</font>"
   ]
  },
  {
   "cell_type": "code",
   "execution_count": 31,
   "metadata": {
    "ExecuteTime": {
     "end_time": "2021-03-04T16:57:04.678585Z",
     "start_time": "2021-03-04T16:56:55.956528Z"
    }
   },
   "outputs": [
    {
     "name": "stdout",
     "output_type": "stream",
     "text": [
      "form = 5533304\n"
     ]
    }
   ],
   "source": [
    "lst_form = []\n",
    "for i in lst:\n",
    "    for p in i['protocolos']:\n",
    "        for f in p['formulario']:\n",
    "            lst_form.append(\n",
    "                [\n",
    "                    f[0].lower().replace(\" \", \"\"),\n",
    "                    f[0],\n",
    "                    f[2],\n",
    "                    p['cod_protocolo'],\n",
    "                    p['servico']['servico'],\n",
    "                    f[1]\n",
    "                ]\n",
    "            )\n",
    "print('form =', len(lst_form))\n",
    "# lst_form"
   ]
  },
  {
   "cell_type": "markdown",
   "metadata": {},
   "source": [
    "# <font color='black'>Grava Arquivo no MySQL</font>"
   ]
  },
  {
   "cell_type": "markdown",
   "metadata": {},
   "source": [
    "## <font color='green'>define os scripts das tabelas</font>"
   ]
  },
  {
   "cell_type": "code",
   "execution_count": 32,
   "metadata": {
    "ExecuteTime": {
     "end_time": "2021-03-04T16:57:04.687026Z",
     "start_time": "2021-03-04T16:57:04.681817Z"
    }
   },
   "outputs": [],
   "source": [
    "script_nx_tasks = (\n",
    "\"CREATE TABLE `tasks` (\"\n",
    "\" `Protocolo`                  text,\"\n",
    "\" `Entidade`                   text,\"\n",
    "\" `Entidade - código`          text,\"\n",
    "\" `Serviço`                    text,\"\n",
    "\" `Usuário`                    text,\"\n",
    "\" `Grupo`                      text,\"\n",
    "\" `Data e Hora de conclusão`   text,\"\n",
    "\" `Data e Hora de atendimento` text,\"\n",
    "\" `Data e Hora de criação`     text,\"\n",
    "\" `Ação`                       text,\"\n",
    "\" `Encaminhado para`           text,\"\n",
    "\" `Comentário`                 text,\"\n",
    "\" `Apoio`                      text,\"\n",
    "\" `Processo encerrado`         text,\"\n",
    "\" `Processo cancelado`         text,\"\n",
    "\" `Motivo de cancelamento`     text,\"\n",
    "\" `Notificação`                text,\"\n",
    "\" `Status externo`             text,\"\n",
    "\" `Agendamento`                text,\"\n",
    "\" `Data de agendamento`        text,\"\n",
    "\" `Categoria`                  text,\"\n",
    "\" `Grupo responsável`          text,\"\n",
    "\" `Prazo (em segundos)`        text\"\n",
    "\")\"\n",
    ")\n",
    "script_nx_sla = (\n",
    "\"CREATE TABLE `sla` (\"\n",
    "\" `entityCode`                 text,\"\n",
    "\" `service`                    text,\"\n",
    "\" `status`                     text,\"\n",
    "\" `limiteMinimo`               text,\"\n",
    "\" `limiteMaximo`               text\"\n",
    "\")\"\n",
    ")\n",
    "script_nx_rating = (\n",
    "\"CREATE TABLE `rating` (\"\n",
    "\" `Solicitação`                text,\"\n",
    "\" `Nota`                       text,\"\n",
    "\" `Motivo`                     text,\"\n",
    "\" `Data da avaliação`          text\"\n",
    "\")\"\n",
    ")\n",
    "script_nx_form = (\n",
    "\"CREATE TABLE `form` (\"\n",
    "\" `atributo`                   text,\"\n",
    "\" `nome`                       text,\"\n",
    "\" `valor`                      text,\"\n",
    "\" `protocolo`                  text,\"\n",
    "\" `servico`                    text,\"\n",
    "\" `tipo`                       text\"\n",
    "\")\"\n",
    ")\n",
    "\n",
    "tabelas = {}\n",
    "tabelas['tb_nx_tasks'] = script_nx_tasks\n",
    "tabelas['tb_nx_sla'] = script_nx_sla\n",
    "tabelas['tb_nx_rating'] = script_nx_rating\n",
    "tabelas['tb_nx_form'] = script_nx_form"
   ]
  },
  {
   "cell_type": "markdown",
   "metadata": {},
   "source": [
    "## <font color='green'>CRIA as tabelas vazias no BD</font>"
   ]
  },
  {
   "cell_type": "code",
   "execution_count": 33,
   "metadata": {
    "ExecuteTime": {
     "end_time": "2021-03-04T16:57:04.779644Z",
     "start_time": "2021-03-04T16:57:04.689287Z"
    }
   },
   "outputs": [
    {
     "name": "stdout",
     "output_type": "stream",
     "text": [
      "dropando tabela tb_nx_tasks: \n",
      "criando tabela tb_nx_tasks: \n",
      "OK\n",
      "dropando tabela tb_nx_sla: \n",
      "criando tabela tb_nx_sla: \n",
      "OK\n",
      "dropando tabela tb_nx_rating: \n",
      "criando tabela tb_nx_rating: \n",
      "OK\n",
      "dropando tabela tb_nx_form: \n",
      "criando tabela tb_nx_form: \n",
      "OK\n"
     ]
    }
   ],
   "source": [
    "My_host = 'localhost'\n",
    "My_db = 'bd_teste_fontes'\n",
    "My_user = 'gd'\n",
    "My_pw = 'Alpar@123'\n",
    "\n",
    "try:\n",
    "    connection = mysql.connector.connect(host = My_host, database = My_db, user = My_user, password = My_pw)\n",
    "    cursor = connection.cursor()\n",
    "    \n",
    "    for tb in tabelas:\n",
    "        table_description = tabelas[tb]\n",
    "        try:\n",
    "            print(\"dropando tabela {}: \\n\".format(tb), end='')\n",
    "            apaga = xx = 'DROP TABLE IF EXISTS `' + My_db + '`.`' + tb + '`;'\n",
    "            cursor.execute(apaga)\n",
    "            print(\"criando tabela {}: \\n\".format(tb), end='')\n",
    "            cursor.execute(table_description)\n",
    "        except mysql.connector.Error as err:\n",
    "            if err.errno == errorcode.ER_TABLE_EXISTS_ERROR:\n",
    "                print(\"já existe.\")\n",
    "            else:\n",
    "                print(err.msg)\n",
    "        else:\n",
    "            print(\"OK\")\n",
    "\n",
    "    cursor.close()\n",
    "    connection.commit()\n",
    "    connection.close()\n",
    "    \n",
    "except mysql.connector.Error as error:\n",
    "    print(\"Failed to insert record into MySQL table {}\".format(error))\n",
    "\n",
    "finally:\n",
    "    if (connection.is_connected()):\n",
    "        cursor.close()\n",
    "        connection.close()\n",
    "        print(\"MySQL connection is closed\")"
   ]
  },
  {
   "cell_type": "markdown",
   "metadata": {},
   "source": [
    "## <font color='green'>POPULA as tabelas no BD</font>"
   ]
  },
  {
   "cell_type": "code",
   "execution_count": 34,
   "metadata": {
    "ExecuteTime": {
     "end_time": "2021-03-04T16:57:04.786058Z",
     "start_time": "2021-03-04T16:57:04.781380Z"
    }
   },
   "outputs": [],
   "source": [
    "insert_rating = (\n",
    "\"INSERT INTO rating (\" \n",
    "\"`Solicitação`, \"\n",
    "\"`Nota`, \" \n",
    "\"`Motivo`, \"\n",
    "\"`Data da avaliação`) \"\n",
    "\"VALUES (%s, %s, %s, %s)\"\n",
    ")\n",
    "insert_sla = (\n",
    "\"INSERT INTO sla (\" \n",
    "\"`entityCode`, \"\n",
    "\"`service`, \"\n",
    "\"`status`, \"\n",
    "\"`limiteMinimo`, \"\n",
    "\"`limiteMaximo`) \"\n",
    "\"VALUES (%s, %s, %s, %s, %s)\"\n",
    ")\n",
    "insert_form = (\n",
    "\"INSERT INTO form (\"\n",
    "\"`atributo`, \"\n",
    "\"`nome`, \"\n",
    "\"`valor`, \"\n",
    "\"`protocolo`, \"\n",
    "\"`servico`, \"\n",
    "\"`tipo`) \"\n",
    "\"VALUES (%s, %s, %s, %s, %s, %s)\"\n",
    ")\n",
    "insert_tasks = (\n",
    "\"INSERT INTO tasks (\"\n",
    "\" `Protocolo`, \"\n",
    "\" `Entidade`, \"\n",
    "\" `Entidade - código`, \"\n",
    "\" `Serviço`, \"\n",
    "\" `Usuário`, \"\n",
    "\" `Grupo`, \"\n",
    "\" `Data e Hora de conclusão`, \"\n",
    "\" `Data e Hora de atendimento`, \"\n",
    "\" `Data e Hora de criação`, \"\n",
    "\" `Ação`, \"\n",
    "\" `Encaminhado para`, \"\n",
    "\" `Comentário`, \"\n",
    "\" `Apoio`, \"\n",
    "\" `Processo encerrado`, \"\n",
    "\" `Processo cancelado`, \"\n",
    "\" `Motivo de cancelamento`, \"\n",
    "\" `Notificação`, \"\n",
    "\" `Status externo`, \"\n",
    "\" `Agendamento`, \"\n",
    "\" `Data de agendamento`, \"\n",
    "\" `Categoria`, \"\n",
    "\" `Grupo responsável`, \"\n",
    "\" `Prazo (em segundos)`) \"\n",
    "\"VALUES (%s, %s, %s, %s, %s, %s, %s, %s, %s, %s, %s, %s, %s, %s, %s, %s, %s, %s, %s, %s, %s, %s, %s)\"\n",
    ")\n"
   ]
  },
  {
   "cell_type": "code",
   "execution_count": 35,
   "metadata": {
    "ExecuteTime": {
     "end_time": "2021-03-04T16:57:04.794673Z",
     "start_time": "2021-03-04T16:57:04.789617Z"
    }
   },
   "outputs": [
    {
     "name": "stdout",
     "output_type": "stream",
     "text": [
      "pacotes form = 111\n",
      "pacotes tasks = 65\n"
     ]
    }
   ],
   "source": [
    "# parâmetros de pacotes de gravação\n",
    "PACOTE_GR = 50000\n",
    "\n",
    "form_qtd_regs = len(lst_form)\n",
    "form_n_pct = int(form_qtd_regs / PACOTE_GR) + 1 - int(form_qtd_regs % PACOTE_GR == 0)\n",
    "print('pacotes form =', form_n_pct)\n",
    "\n",
    "tasks_qtd_regs = len(lst_tasks)\n",
    "tasks_n_pct = int(tasks_qtd_regs / PACOTE_GR) + 1 - int(tasks_qtd_regs % PACOTE_GR == 0)\n",
    "print('pacotes tasks =', tasks_n_pct)"
   ]
  },
  {
   "cell_type": "code",
   "execution_count": 36,
   "metadata": {
    "ExecuteTime": {
     "end_time": "2021-03-04T17:01:20.955613Z",
     "start_time": "2021-03-04T16:57:04.797998Z"
    }
   },
   "outputs": [
    {
     "name": "stdout",
     "output_type": "stream",
     "text": [
      "gravando tabela rating...\n",
      "gravando tabela sla...\n",
      "gravando tabela form...\n",
      "pacote 1 de 111... OK\n",
      "pacote 2 de 111... OK\n",
      "pacote 3 de 111... OK\n",
      "pacote 4 de 111... OK\n",
      "pacote 5 de 111... OK\n",
      "pacote 6 de 111... OK\n",
      "pacote 7 de 111... OK\n",
      "pacote 8 de 111... OK\n",
      "pacote 9 de 111... OK\n",
      "pacote 10 de 111... OK\n",
      "pacote 11 de 111... OK\n",
      "pacote 12 de 111... OK\n",
      "pacote 13 de 111... OK\n",
      "pacote 14 de 111... OK\n",
      "pacote 15 de 111... OK\n",
      "pacote 16 de 111... OK\n",
      "pacote 17 de 111... OK\n",
      "pacote 18 de 111... OK\n",
      "pacote 19 de 111... OK\n",
      "pacote 20 de 111... OK\n",
      "pacote 21 de 111... OK\n",
      "pacote 22 de 111... OK\n",
      "pacote 23 de 111... OK\n",
      "pacote 24 de 111... OK\n",
      "pacote 25 de 111... OK\n",
      "pacote 26 de 111... OK\n",
      "pacote 27 de 111... OK\n",
      "pacote 28 de 111... OK\n",
      "pacote 29 de 111... OK\n",
      "pacote 30 de 111... OK\n",
      "pacote 31 de 111... OK\n",
      "pacote 32 de 111... OK\n",
      "pacote 33 de 111... OK\n",
      "pacote 34 de 111... OK\n",
      "pacote 35 de 111... OK\n",
      "pacote 36 de 111... OK\n",
      "pacote 37 de 111... OK\n",
      "pacote 38 de 111... OK\n",
      "pacote 39 de 111... OK\n",
      "pacote 40 de 111... OK\n",
      "pacote 41 de 111... OK\n",
      "pacote 42 de 111... OK\n",
      "pacote 43 de 111... OK\n",
      "pacote 44 de 111... OK\n",
      "pacote 45 de 111... OK\n",
      "pacote 46 de 111... OK\n",
      "pacote 47 de 111... OK\n",
      "pacote 48 de 111... OK\n",
      "pacote 49 de 111... OK\n",
      "pacote 50 de 111... OK\n",
      "pacote 51 de 111... OK\n",
      "pacote 52 de 111... OK\n",
      "pacote 53 de 111... OK\n",
      "pacote 54 de 111... OK\n",
      "pacote 55 de 111... OK\n",
      "pacote 56 de 111... OK\n",
      "pacote 57 de 111... OK\n",
      "pacote 58 de 111... OK\n",
      "pacote 59 de 111... OK\n",
      "pacote 60 de 111... OK\n",
      "pacote 61 de 111... OK\n",
      "pacote 62 de 111... OK\n",
      "pacote 63 de 111... OK\n",
      "pacote 64 de 111... OK\n",
      "pacote 65 de 111... OK\n",
      "pacote 66 de 111... OK\n",
      "pacote 67 de 111... OK\n",
      "pacote 68 de 111... OK\n",
      "pacote 69 de 111... OK\n",
      "pacote 70 de 111... OK\n",
      "pacote 71 de 111... OK\n",
      "pacote 72 de 111... OK\n",
      "pacote 73 de 111... OK\n",
      "pacote 74 de 111... OK\n",
      "pacote 75 de 111... OK\n",
      "pacote 76 de 111... OK\n",
      "pacote 77 de 111... OK\n",
      "pacote 78 de 111... OK\n",
      "pacote 79 de 111... OK\n",
      "pacote 80 de 111... OK\n",
      "pacote 81 de 111... OK\n",
      "pacote 82 de 111... OK\n",
      "pacote 83 de 111... OK\n",
      "pacote 84 de 111... OK\n",
      "pacote 85 de 111... OK\n",
      "pacote 86 de 111... OK\n",
      "pacote 87 de 111... OK\n",
      "pacote 88 de 111... OK\n",
      "pacote 89 de 111... OK\n",
      "pacote 90 de 111... OK\n",
      "pacote 91 de 111... OK\n",
      "pacote 92 de 111... OK\n",
      "pacote 93 de 111... OK\n",
      "pacote 94 de 111... OK\n",
      "pacote 95 de 111... OK\n",
      "pacote 96 de 111... OK\n",
      "pacote 97 de 111... OK\n",
      "pacote 98 de 111... OK\n",
      "pacote 99 de 111... OK\n",
      "pacote 100 de 111... OK\n",
      "pacote 101 de 111... OK\n",
      "pacote 102 de 111... OK\n",
      "pacote 103 de 111... OK\n",
      "pacote 104 de 111... OK\n",
      "pacote 105 de 111... OK\n",
      "pacote 106 de 111... OK\n",
      "pacote 107 de 111... OK\n",
      "pacote 108 de 111... OK\n",
      "pacote 109 de 111... OK\n",
      "pacote 110 de 111... OK\n",
      "pacote 111 de 111... OK\n",
      "gravando tabela tasks...\n",
      "pacote 1 de 65... OK\n",
      "pacote 2 de 65... OK\n",
      "pacote 3 de 65... OK\n",
      "pacote 4 de 65... OK\n",
      "pacote 5 de 65... OK\n",
      "pacote 6 de 65... OK\n",
      "pacote 7 de 65... OK\n",
      "pacote 8 de 65... OK\n",
      "pacote 9 de 65... OK\n",
      "pacote 10 de 65... OK\n",
      "pacote 11 de 65... OK\n",
      "pacote 12 de 65... OK\n",
      "pacote 13 de 65... OK\n",
      "pacote 14 de 65... OK\n",
      "pacote 15 de 65... OK\n",
      "pacote 16 de 65... OK\n",
      "pacote 17 de 65... OK\n",
      "pacote 18 de 65... OK\n",
      "pacote 19 de 65... OK\n",
      "pacote 20 de 65... OK\n",
      "pacote 21 de 65... OK\n",
      "pacote 22 de 65... OK\n",
      "pacote 23 de 65... OK\n",
      "pacote 24 de 65... OK\n",
      "pacote 25 de 65... OK\n",
      "pacote 26 de 65... OK\n",
      "pacote 27 de 65... OK\n",
      "pacote 28 de 65... OK\n",
      "pacote 29 de 65... OK\n",
      "pacote 30 de 65... OK\n",
      "pacote 31 de 65... OK\n",
      "pacote 32 de 65... OK\n",
      "pacote 33 de 65... OK\n",
      "pacote 34 de 65... OK\n",
      "pacote 35 de 65... OK\n",
      "pacote 36 de 65... OK\n",
      "pacote 37 de 65... OK\n",
      "pacote 38 de 65... OK\n",
      "pacote 39 de 65... OK\n",
      "pacote 40 de 65... OK\n",
      "pacote 41 de 65... OK\n",
      "pacote 42 de 65... OK\n",
      "pacote 43 de 65... OK\n",
      "pacote 44 de 65... OK\n",
      "pacote 45 de 65... OK\n",
      "pacote 46 de 65... OK\n",
      "pacote 47 de 65... OK\n",
      "pacote 48 de 65... OK\n",
      "pacote 49 de 65... OK\n",
      "pacote 50 de 65... OK\n",
      "pacote 51 de 65... OK\n",
      "pacote 52 de 65... OK\n",
      "pacote 53 de 65... OK\n",
      "pacote 54 de 65... OK\n",
      "pacote 55 de 65... OK\n",
      "pacote 56 de 65... OK\n",
      "pacote 57 de 65... OK\n",
      "pacote 58 de 65... OK\n",
      "pacote 59 de 65... OK\n",
      "pacote 60 de 65... OK\n",
      "pacote 61 de 65... OK\n",
      "pacote 62 de 65... OK\n",
      "pacote 63 de 65... OK\n",
      "pacote 64 de 65... OK\n",
      "pacote 65 de 65... OK\n",
      "207937 Record inserted successfully into n_rating table\n",
      "1056 Record inserted successfully into n_sla table\n",
      "5533304 Record inserted successfully into n_form table\n",
      "3230755 Record inserted successfully into n_tasks table\n",
      "MySQL connection is closed\n"
     ]
    }
   ],
   "source": [
    "try:\n",
    "    connection = mysql.connector.connect(host = My_host, database = My_db, user = My_user, password = My_pw)\n",
    "\n",
    "    cursor_rating = connection.cursor()\n",
    "    cursor_sla = connection.cursor()\n",
    "    cursor_form = connection.cursor()\n",
    "    cursor_tasks = connection.cursor()\n",
    "    \n",
    "# grava tabela rating\n",
    "    print('gravando tabela rating...')\n",
    "    cursor_rating.executemany (insert_rating, lst_rating)\n",
    "\n",
    "# grava tabela sla\n",
    "    print('gravando tabela sla...')\n",
    "    cursor_sla.executemany (insert_sla, lst_sla)\n",
    "\n",
    "# grava tabela form\n",
    "    print('gravando tabela form...')\n",
    "    form_qtd_gravados = 0\n",
    "    for i in range(form_n_pct):\n",
    "        print(f'pacote {i+1} de {form_n_pct}... ', end='')\n",
    "        ini, fim = (i * PACOTE_GR, (i + 1) * PACOTE_GR)\n",
    "        cursor_form.executemany (insert_form, lst_form[ini: fim])\n",
    "        form_qtd_gravados += cursor_form.rowcount\n",
    "        print('OK')\n",
    "\n",
    "# grava tabela tasks\n",
    "    print('gravando tabela tasks...')\n",
    "    tasks_qtd_gravados = 0\n",
    "    for i in range(tasks_n_pct):\n",
    "        print(f'pacote {i+1} de {tasks_n_pct}... ', end='')\n",
    "        ini, fim = (i * PACOTE_GR, (i + 1) * PACOTE_GR)\n",
    "        cursor_tasks.executemany (insert_tasks, lst_tasks[ini: fim])\n",
    "        tasks_qtd_gravados += cursor_tasks.rowcount\n",
    "        print('OK')\n",
    "    \n",
    "    connection.commit()\n",
    "\n",
    "    print(cursor_rating.rowcount, \"Record inserted successfully into n_rating table\")\n",
    "    print(cursor_sla.rowcount, \"Record inserted successfully into n_sla table\")\n",
    "    print(form_qtd_gravados, \"Record inserted successfully into n_form table\")\n",
    "    print(tasks_qtd_gravados, \"Record inserted successfully into n_tasks table\")\n",
    "\n",
    "except mysql.connector.Error as error:\n",
    "    print(\"Failed to insert record into MySQL table {}\".format(error))\n",
    "\n",
    "finally:\n",
    "    if (connection.is_connected()):\n",
    "        cursor_rating.close()\n",
    "        cursor_sla.close()\n",
    "        cursor_form.close()\n",
    "        cursor_tasks.close()\n",
    "\n",
    "        connection.close()\n",
    "        print(\"MySQL connection is closed\")"
   ]
  },
  {
   "cell_type": "markdown",
   "metadata": {},
   "source": [
    "# <font color='black'>TESTE</font>"
   ]
  },
  {
   "cell_type": "code",
   "execution_count": null,
   "metadata": {},
   "outputs": [],
   "source": []
  }
 ],
 "metadata": {
  "kernelspec": {
   "display_name": "Python 3",
   "language": "python",
   "name": "python3"
  },
  "language_info": {
   "codemirror_mode": {
    "name": "ipython",
    "version": 3
   },
   "file_extension": ".py",
   "mimetype": "text/x-python",
   "name": "python",
   "nbconvert_exporter": "python",
   "pygments_lexer": "ipython3",
   "version": "3.8.8"
  }
 },
 "nbformat": 4,
 "nbformat_minor": 4
}
