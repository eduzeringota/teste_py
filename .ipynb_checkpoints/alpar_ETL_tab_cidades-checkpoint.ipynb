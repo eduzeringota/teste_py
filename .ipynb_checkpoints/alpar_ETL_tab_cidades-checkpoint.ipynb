{
 "cells": [
  {
   "cell_type": "markdown",
   "metadata": {},
   "source": [
    "# <font color='blue'>ALPAR - Governo Digital - Processo Inteligente</font>"
   ]
  },
  {
   "cell_type": "markdown",
   "metadata": {},
   "source": [
    "# <font color='red'>ETL para o extrair as cidades do maranhão</font>"
   ]
  },
  {
   "cell_type": "markdown",
   "metadata": {},
   "source": [
    "## <font color='black'>importação de pacotes</font>"
   ]
  },
  {
   "cell_type": "code",
   "execution_count": null,
   "metadata": {
    "ExecuteTime": {
     "end_time": "2021-02-01T17:55:11.110733Z",
     "start_time": "2021-02-01T17:55:11.107119Z"
    }
   },
   "outputs": [],
   "source": [
    "# !pip install mysql-connector-python"
   ]
  },
  {
   "cell_type": "code",
   "execution_count": 2,
   "metadata": {
    "ExecuteTime": {
     "end_time": "2021-02-05T14:44:32.076939Z",
     "start_time": "2021-02-05T14:44:31.954474Z"
    }
   },
   "outputs": [
    {
     "name": "stdout",
     "output_type": "stream",
     "text": [
      "/Users/efz/Documents/1-EDU PROF/PRO PROF 2018/Alpar/gd/PY\r\n"
     ]
    }
   ],
   "source": [
    "!pwd"
   ]
  },
  {
   "cell_type": "code",
   "execution_count": null,
   "metadata": {
    "ExecuteTime": {
     "end_time": "2021-02-01T17:55:12.693272Z",
     "start_time": "2021-02-01T17:55:11.887683Z"
    }
   },
   "outputs": [],
   "source": [
    "import pandas as pd\n",
    "import numpy as np\n",
    "import os\n",
    "import psutil\n",
    "import mysql.connector\n",
    "from mysql.connector import Error\n",
    "from mysql.connector import errorcode\n",
    "# import copy\n",
    "# import csv\n",
    "# import codecs\n",
    "# import time\n",
    "# from os.path import expanduser\n",
    "\n",
    "\n",
    "\n",
    "# print(\"pandas versão\", pd.__version__)\n",
    "# print(\"numpy versão\", np.__version__)\n",
    "# print(\"csv versão\", csv.__version__)\n",
    "\n",
    "# pd.options.display.max_rows = 2000\n",
    "# pd.options.display.width = 120\n",
    "# pd.options.display.max_colwidth = 100"
   ]
  },
  {
   "cell_type": "markdown",
   "metadata": {},
   "source": [
    "## <font color='black'>constantes</font>"
   ]
  },
  {
   "cell_type": "code",
   "execution_count": null,
   "metadata": {
    "ExecuteTime": {
     "end_time": "2021-02-01T17:55:14.105842Z",
     "start_time": "2021-02-01T17:55:14.102204Z"
    }
   },
   "outputs": [],
   "source": [
    "MINUTOS_PARA_DIAS = 1440 # quantidade de minutos em um dia"
   ]
  },
  {
   "cell_type": "markdown",
   "metadata": {},
   "source": [
    "## <font color='black'>trata o dataset tasks</font>"
   ]
  },
  {
   "cell_type": "code",
   "execution_count": null,
   "metadata": {
    "ExecuteTime": {
     "end_time": "2021-02-01T17:55:15.566585Z",
     "start_time": "2021-02-01T17:55:15.563426Z"
    }
   },
   "outputs": [],
   "source": [
    "def usage():\n",
    "    process = psutil.Process(os.getpid())\n",
    "    return process.get_memory_info()[0] / float(2 ** 20)"
   ]
  },
  {
   "cell_type": "code",
   "execution_count": null,
   "metadata": {
    "ExecuteTime": {
     "end_time": "2021-02-01T17:55:16.085649Z",
     "start_time": "2021-02-01T17:55:16.083088Z"
    }
   },
   "outputs": [],
   "source": [
    "My_host = 'localhost'\n",
    "My_db = 'bd_teste_fontes'\n",
    "My_user = 'gd'\n",
    "My_pw = 'Alpar@123'"
   ]
  },
  {
   "cell_type": "code",
   "execution_count": null,
   "metadata": {
    "ExecuteTime": {
     "end_time": "2021-02-01T17:55:16.631039Z",
     "start_time": "2021-02-01T17:55:16.628258Z"
    }
   },
   "outputs": [],
   "source": [
    "sql_tasks = (\n",
    "\"SELECT * \"\n",
    "\"FROM tb_nx_tasks\"\n",
    ")\n",
    "sql_sla = (\n",
    "\"SELECT * \"\n",
    "\"FROM tb_nx_sla\"\n",
    ")"
   ]
  },
  {
   "cell_type": "code",
   "execution_count": null,
   "metadata": {
    "ExecuteTime": {
     "end_time": "2021-02-01T18:20:14.945027Z",
     "start_time": "2021-02-01T18:19:14.539308Z"
    }
   },
   "outputs": [],
   "source": [
    "try:\n",
    "    connection = mysql.connector.connect(host = My_host, database = My_db, user = My_user, password = My_pw)\n",
    "    \n",
    "    df_tasks = pd.read_sql(sql_tasks, con=connection)\n",
    "    df_sla = pd.read_sql(sql_sla, con=connection)\n",
    "    \n",
    "except mysql.connector.Error as error:\n",
    "    print(\"Failed to read record from MySQL table {}\".format(error))\n",
    "\n",
    "finally:\n",
    "    if (connection.is_connected()):\n",
    "        connection.close()\n",
    "        print(f'{df_tasks.shape[0]} registros lidos em {df_tasks.shape[1]} colunas')\n",
    "        print(f'{df_sla.shape[0]} registros lidos em {df_sla.shape[1]} colunas')\n",
    "        print(\"MySQL connection is closed\")"
   ]
  },
  {
   "cell_type": "code",
   "execution_count": null,
   "metadata": {
    "ExecuteTime": {
     "end_time": "2021-02-01T18:20:33.577026Z",
     "start_time": "2021-02-01T18:20:22.756462Z"
    }
   },
   "outputs": [],
   "source": [
    "# renomeia as colunas\n",
    "lst_colunas_tasks = ['Protocolo', 'Entidade', 'EntidadeCodigo', 'Servico', 'Usuario',\n",
    "                     'Grupo', 'DataHora_Conclusao', 'DataHora_Atendimento',\n",
    "                     'DataHora_Criacao', 'Acao', 'EncaminhadoPara', 'Comentario',\n",
    "                     'Apoio', 'ProcessoEncerrado', 'ProcessoCancelado',\n",
    "                     'MotivoCancelamento', 'Notificacao', 'StatusExterno',\n",
    "                     'Agendamento', 'DataHora_Agendamento', 'Categoria', 'GrupoResponsavel',\n",
    "                     'Prazo']\n",
    "df_tasks.columns = lst_colunas_tasks\n",
    "\n",
    "# lista as colunas que serão usadas no BI\n",
    "lst_colunas_usadas = ['Protocolo', 'Entidade', 'EntidadeCodigo', 'Servico', 'Usuario','Grupo', 'DataHora_Conclusao',\n",
    "                      'DataHora_Criacao', 'Acao', 'EncaminhadoPara', 'ProcessoEncerrado', 'ProcessoCancelado',\n",
    "                      'MotivoCancelamento', 'StatusExterno', 'Categoria', 'GrupoResponsavel','Prazo']\n",
    "\n",
    "# recria o dataset a ser usado\n",
    "df_tasks = df_tasks.loc[:, lst_colunas_usadas]\n",
    "# df_tasks.head()"
   ]
  },
  {
   "cell_type": "markdown",
   "metadata": {},
   "source": [
    "## <font color='black'>trata o dataset sla</font>"
   ]
  },
  {
   "cell_type": "code",
   "execution_count": null,
   "metadata": {
    "ExecuteTime": {
     "end_time": "2021-02-01T18:31:48.366270Z",
     "start_time": "2021-02-01T18:31:48.363838Z"
    }
   },
   "outputs": [],
   "source": [
    "df1 = df_sla.copy()"
   ]
  },
  {
   "cell_type": "code",
   "execution_count": null,
   "metadata": {
    "ExecuteTime": {
     "end_time": "2021-02-01T18:31:48.910649Z",
     "start_time": "2021-02-01T18:31:48.900604Z"
    }
   },
   "outputs": [],
   "source": [
    "df1.head()"
   ]
  },
  {
   "cell_type": "code",
   "execution_count": null,
   "metadata": {
    "ExecuteTime": {
     "end_time": "2021-02-01T18:31:50.263253Z",
     "start_time": "2021-02-01T18:31:50.252421Z"
    }
   },
   "outputs": [],
   "source": [
    "df1.loc[(df1['limiteMinimo'] == 'null'), 'limiteMinimo'] = np.nan\n",
    "df1.loc[(df1['limiteMaximo'] == 'null'), 'limiteMaximo'] = np.nan\n",
    "\n",
    "df1['limiteMinimo'] = df1['limiteMinimo'].astype(float)\n",
    "df1['limiteMaximo'] = df1['limiteMaximo'].astype(float)\n",
    "\n",
    "df1['limiteMinimo'] = df1['limiteMinimo'] / MINUTOS_PARA_DIAS\n",
    "df1['limiteMaximo'] = df1['limiteMaximo'] / MINUTOS_PARA_DIAS\n",
    "\n",
    "df1.loc[(df1['limiteMinimo'].isna()), 'limiteMinimo'] = -9999999.9\n",
    "df1.loc[(df1['limiteMaximo'].isna()), 'limiteMaximo'] = 9999999.9\n",
    "\n",
    "df1['status2'] = df1['status']"
   ]
  },
  {
   "cell_type": "code",
   "execution_count": null,
   "metadata": {
    "ExecuteTime": {
     "end_time": "2021-02-01T22:31:44.876028Z",
     "start_time": "2021-02-01T22:31:44.854847Z"
    }
   },
   "outputs": [],
   "source": [
    "df1"
   ]
  },
  {
   "cell_type": "code",
   "execution_count": null,
   "metadata": {
    "ExecuteTime": {
     "end_time": "2021-02-01T22:49:18.114253Z",
     "start_time": "2021-02-01T22:49:18.091432Z"
    }
   },
   "outputs": [],
   "source": [
    "idx = ['entityCode', 'service', 'status2', 'limiteMaximo']\n",
    "df2 = df1.pivot(columns = 'status', values = 'limiteMinimo', index=idx)\n",
    "df2.reset_index(inplace=True)\n",
    "dic_renome = {'Dentro do prazo' : 'Dentro do Prazo LMin', \n",
    "              'Fora do prazo' : 'Fora do Prazo LMin',\n",
    "              'Perto do prazo' : 'Perto do Prazo LMin'}\n",
    "df2.rename(columns=dic_renome, inplace = True)\n",
    "\n",
    "df2"
   ]
  },
  {
   "cell_type": "code",
   "execution_count": null,
   "metadata": {
    "ExecuteTime": {
     "end_time": "2021-02-01T22:51:39.648715Z",
     "start_time": "2021-02-01T22:51:39.626767Z"
    }
   },
   "outputs": [],
   "source": [
    "# idx = ['entityCode', 'service', 'limiteMaximo', 'Dentro do Prazo LMin']\n",
    "idx = ['entityCode', 'service', 'Dentro do Prazo LMin', 'Fora do Prazo LMin', 'Perto do Prazo LMin']\n",
    "df3 = df2.pivot(columns = 'status2', values = 'limiteMaximo', index=idx)\n",
    "df3.reset_index(inplace=True)\n",
    "dic_renome = {'Dentro do prazo' : 'Dentro do Prazo LMax', \n",
    "              'Fora do prazo' : 'Fora do Prazo LMax',\n",
    "              'Perto do prazo' : 'Perto do Prazo LMax'}\n",
    "df3.rename(columns=dic_renome, inplace = True)\n",
    "\n",
    "df3"
   ]
  },
  {
   "cell_type": "code",
   "execution_count": null,
   "metadata": {
    "ExecuteTime": {
     "end_time": "2021-02-01T14:16:49.322497Z",
     "start_time": "2021-02-01T14:16:49.304330Z"
    }
   },
   "outputs": [],
   "source": [
    "df_sla.dtypes"
   ]
  },
  {
   "cell_type": "markdown",
   "metadata": {},
   "source": [
    "# monta tabelas dimensões"
   ]
  },
  {
   "cell_type": "markdown",
   "metadata": {},
   "source": [
    "## DIM entidade"
   ]
  },
  {
   "cell_type": "code",
   "execution_count": null,
   "metadata": {
    "ExecuteTime": {
     "end_time": "2021-02-01T17:56:28.845351Z",
     "start_time": "2021-02-01T17:56:26.027113Z"
    }
   },
   "outputs": [],
   "source": [
    "# trasnforma a coluna Entidade em uma coluna do tipo \"category'\n",
    "df_tasks['tmpEntidadeEntidadeCodigo'] = (df_tasks['Entidade'] + df_tasks['EntidadeCodigo']).astype('category')\n",
    "\n",
    "# cria uma nova coluna que será a coluna chave primária da dimensão Entidade\n",
    "df_tasks['FK_dim_Entidade'] = df_tasks['tmpEntidadeEntidadeCodigo'].cat.codes.astype('int64')\n",
    "\n",
    "# tira a duplicidade\n",
    "df_dim_Entidade = df_tasks.loc[:, ['FK_dim_Entidade', 'Entidade', 'EntidadeCodigo']].drop_duplicates()\n",
    "df_dim_Entidade.rename(columns={'FK_dim_Entidade': 'PK_dim_Entidade'}, inplace = True)\n",
    "df_dim_Entidade.sort_values('PK_dim_Entidade')"
   ]
  },
  {
   "cell_type": "code",
   "execution_count": null,
   "metadata": {
    "ExecuteTime": {
     "end_time": "2021-02-01T17:56:40.531438Z",
     "start_time": "2021-02-01T17:56:37.969507Z"
    }
   },
   "outputs": [],
   "source": [
    "# exclui a coluna Entidade de df_tasks que será a futura tabela fato\n",
    "df_tasks.drop('Entidade', axis=1, inplace=True)"
   ]
  },
  {
   "cell_type": "markdown",
   "metadata": {},
   "source": [
    "## DIM serviço (junto com categoria de serviço)"
   ]
  },
  {
   "cell_type": "code",
   "execution_count": null,
   "metadata": {
    "ExecuteTime": {
     "end_time": "2021-02-01T17:56:49.755865Z",
     "start_time": "2021-02-01T17:56:44.898799Z"
    }
   },
   "outputs": [],
   "source": [
    "# cria uma coluna temporária junção de 'Categoria' e 'Servico' e transforma em tipo 'category'\n",
    "df_tasks['tmpCategoriaServico'] = (df_tasks['Categoria'] + \n",
    "                                   df_tasks['Servico'] +\n",
    "                                   df_tasks['EntidadeCodigo']).astype('category')\n",
    "\n",
    "# cria uma nova coluna que será a coluna chave primária da dimensão Servico\n",
    "df_tasks['FK_dim_Servico'] = df_tasks['tmpCategoriaServico'].cat.codes.astype('int64')\n",
    "\n",
    "# tira a duplicidade\n",
    "df_dim_Servico = df_tasks.loc[:, ['FK_dim_Servico', 'Servico', 'Categoria', 'EntidadeCodigo']].drop_duplicates()\n",
    "df_dim_Servico.rename(columns={'FK_dim_Servico': 'PK_dim_Servico'}, inplace = True)\n",
    "\n",
    "df_dim_Servico"
   ]
  },
  {
   "cell_type": "code",
   "execution_count": null,
   "metadata": {
    "ExecuteTime": {
     "end_time": "2021-02-01T17:56:57.654884Z",
     "start_time": "2021-02-01T17:56:55.168508Z"
    }
   },
   "outputs": [],
   "source": [
    "# exclui as colunas Categoria, Servico e tmpCategoriaServico de df_tasks que será a futura tabela fato\n",
    "df_tasks.drop(['Categoria','Servico', 'tmpCategoriaServico'], axis=1, inplace=True)"
   ]
  },
  {
   "cell_type": "markdown",
   "metadata": {},
   "source": [
    "## DIM usuário (junto com grupo de usuário)"
   ]
  },
  {
   "cell_type": "code",
   "execution_count": null,
   "metadata": {
    "ExecuteTime": {
     "end_time": "2021-02-01T17:57:45.815856Z",
     "start_time": "2021-02-01T17:57:43.276668Z"
    }
   },
   "outputs": [],
   "source": [
    "# cria uma coluna temporária junção de 'Grupo' e 'Usuario' e transforma em tipo 'category'\n",
    "df_tasks['tmpGrupoUsuario'] = (df_tasks['Grupo'] + df_tasks['Usuario']).astype('category')\n",
    "\n",
    "# cria uma nova coluna que será a coluna chave primária da dimensão Usuario\n",
    "df_tasks['FK_dim_Usuario'] = df_tasks['tmpGrupoUsuario'].cat.codes.astype('int64')\n",
    "\n",
    "# tira a duplicidade\n",
    "df_dim_Usuario = df_tasks.loc[:, ['FK_dim_Usuario', 'Usuario', 'Grupo']].drop_duplicates()\n",
    "df_dim_Usuario.rename(columns={'FK_dim_Usuario': 'PK_dim_Usuario'}, inplace = True)\n",
    "\n",
    "df_dim_Usuario"
   ]
  },
  {
   "cell_type": "code",
   "execution_count": null,
   "metadata": {
    "ExecuteTime": {
     "end_time": "2021-02-01T17:57:54.109176Z",
     "start_time": "2021-02-01T17:57:51.841865Z"
    }
   },
   "outputs": [],
   "source": [
    "# exclui as colunas Grupo, Usuario e tmpGrupoUsuario de df_tasks que será a futura tabela fato\n",
    "df_tasks.drop(['Grupo','Usuario', 'tmpGrupoUsuario'], axis=1, inplace=True)"
   ]
  },
  {
   "cell_type": "code",
   "execution_count": null,
   "metadata": {},
   "outputs": [],
   "source": []
  },
  {
   "cell_type": "code",
   "execution_count": null,
   "metadata": {},
   "outputs": [],
   "source": []
  },
  {
   "cell_type": "code",
   "execution_count": null,
   "metadata": {
    "ExecuteTime": {
     "end_time": "2021-02-01T21:38:15.637959Z",
     "start_time": "2021-02-01T21:38:15.626393Z"
    }
   },
   "outputs": [],
   "source": [
    "df = pd.DataFrame({'foo': ['one', 'one', 'one', 'two', 'two', 'two'],\n",
    "                   'bar': ['A', 'B', 'C', 'A', 'B', 'C'],\n",
    "                   'baz': [1, 2, 3, 4, 5, 6],\n",
    "                   'zoo': ['x', 'y', 'z', 'q', 'w', 't']})\n",
    "print(df.index.name)\n",
    "df"
   ]
  },
  {
   "cell_type": "code",
   "execution_count": null,
   "metadata": {
    "ExecuteTime": {
     "end_time": "2021-02-01T21:43:38.349398Z",
     "start_time": "2021-02-01T21:43:38.336450Z"
    }
   },
   "outputs": [],
   "source": [
    "# df.pivot(index=['foo', 'zoo'], columns='bar', values='baz')\n",
    "dfx = df.pivot(columns='bar', values='zoo', index=['foo', 'baz'])\n",
    "print(dfx.index.name)\n",
    "dfx"
   ]
  },
  {
   "cell_type": "code",
   "execution_count": null,
   "metadata": {},
   "outputs": [],
   "source": [
    "dfx.index"
   ]
  },
  {
   "cell_type": "code",
   "execution_count": null,
   "metadata": {
    "ExecuteTime": {
     "end_time": "2021-02-01T21:36:08.283329Z",
     "start_time": "2021-02-01T21:36:08.270292Z"
    }
   },
   "outputs": [],
   "source": [
    "df = pd.DataFrame({\"A\": [\"foo\", \"foo\", \"foo\", \"foo\", \"foo\",\n",
    "                         \"bar\", \"bar\", \"bar\", \"bar\"],\n",
    "                   \"B\": [\"one\", \"one\", \"one\", \"two\", \"two\",\n",
    "                         \"one\", \"one\", \"two\", \"two\"],\n",
    "                   \"C\": [\"small\", \"large\", \"large\", \"small\",\n",
    "                         \"small\", \"large\", \"small\", \"small\", \"large\"],\n",
    "                   \"D\": [1, 2, 2, 3, 3, 4, 5, 6, 7],\n",
    "                   \"E\": [2, 4, 5, 5, 6, 6, 8, 9, 9]})\n",
    "print(df.index.name)\n",
    "df"
   ]
  },
  {
   "cell_type": "code",
   "execution_count": null,
   "metadata": {
    "ExecuteTime": {
     "end_time": "2021-02-01T21:37:11.787771Z",
     "start_time": "2021-02-01T21:37:11.772449Z"
    }
   },
   "outputs": [],
   "source": [
    "dfx = pd.pivot_table(df, values=['D', 'E'], columns=['C'])\n",
    "print(dfx.index.name)\n",
    "dfx"
   ]
  },
  {
   "cell_type": "code",
   "execution_count": null,
   "metadata": {},
   "outputs": [],
   "source": []
  },
  {
   "cell_type": "code",
   "execution_count": null,
   "metadata": {},
   "outputs": [],
   "source": []
  },
  {
   "cell_type": "code",
   "execution_count": null,
   "metadata": {},
   "outputs": [],
   "source": []
  },
  {
   "cell_type": "code",
   "execution_count": null,
   "metadata": {},
   "outputs": [],
   "source": []
  },
  {
   "cell_type": "code",
   "execution_count": null,
   "metadata": {},
   "outputs": [],
   "source": []
  },
  {
   "cell_type": "code",
   "execution_count": null,
   "metadata": {
    "ExecuteTime": {
     "end_time": "2021-02-01T13:27:41.809995Z",
     "start_time": "2021-02-01T13:27:41.804928Z"
    }
   },
   "outputs": [],
   "source": [
    "df_tasks.dtypes"
   ]
  },
  {
   "cell_type": "code",
   "execution_count": null,
   "metadata": {},
   "outputs": [],
   "source": []
  },
  {
   "cell_type": "code",
   "execution_count": null,
   "metadata": {},
   "outputs": [],
   "source": []
  },
  {
   "cell_type": "code",
   "execution_count": null,
   "metadata": {},
   "outputs": [],
   "source": []
  },
  {
   "cell_type": "code",
   "execution_count": null,
   "metadata": {},
   "outputs": [],
   "source": []
  },
  {
   "cell_type": "code",
   "execution_count": null,
   "metadata": {
    "ExecuteTime": {
     "end_time": "2021-01-26T16:27:12.408572Z",
     "start_time": "2021-01-26T16:27:12.404917Z"
    }
   },
   "outputs": [],
   "source": [
    "def GeraCodDimMet(d, m):\n",
    "    d_dim = {'STRING_DIM': 10, 'BOOLEAN_DIM': 20, 'INTEGER_DIM' :30, 'NUMERIC_DIM': 40}\n",
    "    d_met = {'INTEGER_MET': 1, 'NUMERIC_MET': 2, 'NULL_MET': 3}\n",
    "\n",
    "    v_dim = d_dim[d] if d in d_dim else 0\n",
    "    v_met = d_met[m] if m in d_met else 0\n",
    "    \n",
    "    return v_dim + v_met"
   ]
  },
  {
   "cell_type": "code",
   "execution_count": null,
   "metadata": {
    "ExecuteTime": {
     "end_time": "2021-01-26T16:27:12.641842Z",
     "start_time": "2021-01-26T16:27:12.558702Z"
    }
   },
   "outputs": [],
   "source": [
    "# dataset de métricas - usa somente tipos \"INTEGER\" ou \"NUMERIC\n",
    "df_aux_MET = df_form[(df_form['tipo'] == 'NUMERIC') | (df_form['tipo'] == 'INTEGER')].copy()"
   ]
  },
  {
   "cell_type": "code",
   "execution_count": null,
   "metadata": {
    "ExecuteTime": {
     "end_time": "2021-01-26T16:27:12.753593Z",
     "start_time": "2021-01-26T16:27:12.745548Z"
    }
   },
   "outputs": [],
   "source": [
    "# dataset de dimensões combinado com de métricas - usa todos do form + métricas\n",
    "df_aux_DIM = df_form.copy()\n",
    "df_aux_DIM = df_aux_DIM.merge(df_aux_MET,\n",
    "                              suffixes=(None, '_y'),\n",
    "                              how='inner',\n",
    "                              left_on='servico',\n",
    "                              right_on='servico').sort_values('servico')\n",
    "df_aux_DIM = df_aux_DIM.append(df_form)\n",
    "# df_aux_DIM"
   ]
  },
  {
   "cell_type": "code",
   "execution_count": null,
   "metadata": {},
   "outputs": [],
   "source": [
    "mtx =  [('STRING_DIM',  'INTEGER_MET', 'S', 'S', 'S', 'S'),\n",
    "        ('STRING_DIM',  'NUMERIC_MET', 'S', 'S', 'S', 'S'),\n",
    "        ('STRING_DIM',  'NULL_MET',    'S', 'S', 'N', 'N'),\n",
    "        ('BOOLEAN_DIM', 'INTEGER_MET', 'S', 'N', 'N', 'N'),\n",
    "        ('BOOLEAN_DIM', 'NUMERIC_MET', 'S', 'N', 'N', 'N'),\n",
    "        ('BOOLEAN_DIM', 'NULL_MET',    'S', 'N', 'N', 'N'),\n",
    "        ('INTEGER_DIM', 'INTEGER_MET', 'S', 'S', 'S', 'S'),\n",
    "        ('INTEGER_DIM', 'NUMERIC_MET', 'N', 'N', 'N', 'N'),\n",
    "        ('INTEGER_DIM', 'NULL_MET',    'S', 'S', 'N', 'N'),\n",
    "        ('NUMERIC_DIM', 'INTEGER_MET', 'N', 'N', 'N', 'N'),\n",
    "        ('NUMERIC_DIM', 'NUMERIC_MET', 'N', 'N', 'S', 'S'),\n",
    "        ('NUMERIC_DIM', 'NULL_MET',    'N', 'N', 'N', 'N')\n",
    "       ]\n",
    "df_aux_dec = pd.DataFrame(mtx, columns=['t_dim', 't_met', 'o_count', 'o_distinct', 'o_sum', 'o_average'])\n",
    "df_aux_dec['Cod_Decisao'] = df_aux_dec.apply(lambda x:\n",
    "                                    GeraCodDimMet(x['t_dim'], x['t_met']), axis=1)\n",
    "\n",
    "df_aux_dec"
   ]
  },
  {
   "cell_type": "markdown",
   "metadata": {},
   "source": [
    "## monta Z_dim_DIM"
   ]
  },
  {
   "cell_type": "code",
   "execution_count": null,
   "metadata": {},
   "outputs": [],
   "source": [
    "df_dim_dim = df_aux_DIM['nome'].drop_duplicates().reset_index(drop=True).reset_index()\n",
    "df_dim_dim.columns = ['PK_Z_dim_DIM', 'dimensao']\n",
    "df_dim_dim['PK_Z_dim_DIM'] += 1\n",
    "df_dim_dim.head()\n",
    "# df_dim_dim.shape"
   ]
  },
  {
   "cell_type": "markdown",
   "metadata": {},
   "source": [
    "## monta Z_dim_SERVICO"
   ]
  },
  {
   "cell_type": "code",
   "execution_count": null,
   "metadata": {},
   "outputs": [],
   "source": [
    "df_dim_servico = df_aux_DIM['servico'].drop_duplicates().reset_index(drop=True).reset_index()\n",
    "df_dim_servico.columns = ['PK_Z_dim_SERVICO', 'servico']\n",
    "df_dim_servico['PK_Z_dim_SERVICO'] += 1\n",
    "df_dim_servico.head()\n",
    "# df_dim_servico.shape"
   ]
  },
  {
   "cell_type": "markdown",
   "metadata": {},
   "source": [
    "## monta Z_dim_MET"
   ]
  },
  {
   "cell_type": "code",
   "execution_count": null,
   "metadata": {},
   "outputs": [],
   "source": [
    "df_dim_met = df_aux_DIM['nome_y'].drop_duplicates()\n",
    "df_dim_met = df_dim_met.reset_index(drop=True).reset_index()\n",
    "df_dim_met.columns = ['PK_Z_dim_MET', 'metrica']\n",
    "df_dim_met['PK_Z_dim_MET'] += 1\n",
    "df_dim_met = df_dim_met[~df_dim_met['metrica'].isna()]\n",
    "df_dim_met.head()\n",
    "# df_dim_met.shape"
   ]
  },
  {
   "cell_type": "markdown",
   "metadata": {},
   "source": [
    "## monta Z_dim_OPERACAO"
   ]
  },
  {
   "cell_type": "code",
   "execution_count": null,
   "metadata": {},
   "outputs": [],
   "source": [
    "op = {'PK_Z_dim_OPERACAO': [1,       2,                3,      4],\n",
    "      'operacao':          ['Count', 'Distinct Count', 'Sum', 'Average']\n",
    "     }\n",
    "pd.DataFrame(op)"
   ]
  },
  {
   "cell_type": "markdown",
   "metadata": {},
   "source": [
    "## monta Z_dim_DECISÃO"
   ]
  },
  {
   "cell_type": "code",
   "execution_count": null,
   "metadata": {},
   "outputs": [],
   "source": [
    "df_dim_dec = df_aux_dec[['Cod_Decisao', 't_dim', 't_met']].copy().rename(columns={'Cod_Decisao': 'PK_Z_dim_DECISAO'})\n",
    "df_dim_dec"
   ]
  },
  {
   "cell_type": "markdown",
   "metadata": {},
   "source": [
    "## monta Z_fat_BETA"
   ]
  },
  {
   "cell_type": "code",
   "execution_count": null,
   "metadata": {},
   "outputs": [],
   "source": [
    "# copia o df auxiliar\n",
    "df_fat_B = df_aux_DIM.copy()\n",
    "\n",
    "# faz merge com a dimensão dim\n"
   ]
  },
  {
   "cell_type": "code",
   "execution_count": null,
   "metadata": {},
   "outputs": [],
   "source": [
    "df_fat_B = df_aux_DIM.copy()\n",
    "df_fat_B = df_fat_B.merge(df_dim_dim[['PK_Z_dim_DIM', 'dimensao']],\n",
    "                          how='left',\n",
    "                          left_on='nome',\n",
    "                          right_on='dimensao')\n",
    "df_fat_B = df_fat_B.merge(df_dim_servico[['PK_Z_dim_SERVICO', 'servico']],\n",
    "                          how='left',\n",
    "                          left_on='servico',\n",
    "                          right_on='servico')\n",
    "df_fat_B.head()"
   ]
  },
  {
   "cell_type": "markdown",
   "metadata": {},
   "source": [
    "# grava no MySQL"
   ]
  },
  {
   "cell_type": "code",
   "execution_count": null,
   "metadata": {},
   "outputs": [],
   "source": []
  },
  {
   "cell_type": "code",
   "execution_count": null,
   "metadata": {},
   "outputs": [],
   "source": []
  },
  {
   "cell_type": "markdown",
   "metadata": {},
   "source": [
    "# TESTE"
   ]
  },
  {
   "cell_type": "code",
   "execution_count": null,
   "metadata": {
    "ExecuteTime": {
     "end_time": "2021-02-01T22:03:48.017898Z",
     "start_time": "2021-02-01T22:03:48.008532Z"
    }
   },
   "outputs": [],
   "source": [
    "df = pd.DataFrame(\n",
    "    {\n",
    "        \"fruit\": [\"apple\", \"orange\", \"apple\", \"avocado\", \"orange\"],\n",
    "        \"customer\": [\"ben\", \"alice\", \"ben\", \"josh\", \"steve\"],\n",
    "        \"quantity\": [1, 2, 3, 1, 2],\n",
    "    }\n",
    ")\n",
    "df"
   ]
  },
  {
   "cell_type": "code",
   "execution_count": null,
   "metadata": {
    "ExecuteTime": {
     "end_time": "2021-02-01T22:15:50.133239Z",
     "start_time": "2021-02-01T22:15:50.118811Z"
    }
   },
   "outputs": [],
   "source": [
    "df.pivot(columns=['fruit', 'customer'], values='quantity')"
   ]
  },
  {
   "cell_type": "code",
   "execution_count": null,
   "metadata": {
    "ExecuteTime": {
     "end_time": "2021-02-01T21:59:13.878217Z",
     "start_time": "2021-02-01T21:59:13.859698Z"
    }
   },
   "outputs": [],
   "source": [
    "df.pivot_table(index=\"fruit\", columns=\"customer\", values=\"quantity\", aggfunc=np.sum)\n",
    "# df.pivot_table(index=\"fruit\", columns=\"customer\", values=\"quantity\")"
   ]
  },
  {
   "cell_type": "code",
   "execution_count": null,
   "metadata": {
    "ExecuteTime": {
     "end_time": "2021-02-01T21:59:18.773456Z",
     "start_time": "2021-02-01T21:59:18.758338Z"
    }
   },
   "outputs": [],
   "source": [
    "df.set_index([\"fruit\", \"customer\"])[\"quantity\"].unstack()"
   ]
  },
  {
   "cell_type": "code",
   "execution_count": null,
   "metadata": {},
   "outputs": [],
   "source": []
  },
  {
   "cell_type": "code",
   "execution_count": null,
   "metadata": {},
   "outputs": [],
   "source": []
  },
  {
   "cell_type": "code",
   "execution_count": null,
   "metadata": {},
   "outputs": [],
   "source": []
  },
  {
   "cell_type": "code",
   "execution_count": null,
   "metadata": {},
   "outputs": [],
   "source": []
  },
  {
   "cell_type": "code",
   "execution_count": null,
   "metadata": {},
   "outputs": [],
   "source": []
  }
 ],
 "metadata": {
  "kernelspec": {
   "display_name": "Python 3",
   "language": "python",
   "name": "python3"
  },
  "language_info": {
   "codemirror_mode": {
    "name": "ipython",
    "version": 3
   },
   "file_extension": ".py",
   "mimetype": "text/x-python",
   "name": "python",
   "nbconvert_exporter": "python",
   "pygments_lexer": "ipython3",
   "version": "3.8.5"
  }
 },
 "nbformat": 4,
 "nbformat_minor": 4
}
