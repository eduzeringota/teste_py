{
 "cells": [
  {
   "cell_type": "markdown",
   "metadata": {},
   "source": [
    "# <font color='blue'>ALPAR - Governo Digital - Processo Inteligente</font>"
   ]
  },
  {
   "cell_type": "code",
   "execution_count": null,
   "metadata": {},
   "outputs": [],
   "source": [
    "import pandas as pd\n",
    "import random as rd\n",
    "import copy\n",
    "import csv\n",
    "import json\n",
    "import codecs\n",
    "\n",
    "print(\"pandas versão\", pd.__version__)\n",
    "\n",
    "rd.seek = 111\n",
    "pd.options.display.max_rows = 2000"
   ]
  },
  {
   "cell_type": "code",
   "execution_count": null,
   "metadata": {},
   "outputs": [],
   "source": [
    "def flattenjson( b, delim ):\n",
    "\n",
    "    def gruda(bb):\n",
    "        nome = \"\"\n",
    "        tem = True\n",
    "\n",
    "        while tem:\n",
    "            for i in bb.keys():\n",
    "                nome = nome + i\n",
    "                if isinstance( bb[i], dict ):\n",
    "                    tem = True\n",
    "                    get = gruda(bb[i])\n",
    "        \n",
    "        return nome\n",
    "        \n",
    "    nm = gruda(b)\n",
    "            \n",
    "    return nm"
   ]
  },
  {
   "cell_type": "code",
   "execution_count": null,
   "metadata": {},
   "outputs": [],
   "source": [
    "dct = {\n",
    "        \"k1\": 1,\n",
    "        \"k2\": 2,\n",
    "        \"k3\": 3\n",
    "      }"
   ]
  },
  {
   "cell_type": "code",
   "execution_count": null,
   "metadata": {},
   "outputs": [],
   "source": [
    "def f2(a):\n",
    "    return a * 3"
   ]
  },
  {
   "cell_type": "code",
   "execution_count": null,
   "metadata": {},
   "outputs": [],
   "source": [
    "f2(7)"
   ]
  },
  {
   "cell_type": "code",
   "execution_count": null,
   "metadata": {},
   "outputs": [],
   "source": [
    "def f1 (b):\n",
    "    num = 0\n",
    "    print(b.keys())\n",
    "#     for i in b.keys():\n",
    "#         num = num + 1\n",
    "#         print (str(num) + \" xx \" + i)\n",
    "    return 2"
   ]
  },
  {
   "cell_type": "code",
   "execution_count": null,
   "metadata": {},
   "outputs": [],
   "source": [
    "f1(dct)\n",
    "# flattenjson(dct, \"___\")"
   ]
  },
  {
   "cell_type": "code",
   "execution_count": null,
   "metadata": {},
   "outputs": [],
   "source": [
    "# just open the file...\n",
    "caminho = \"dados do app/\"\n",
    "arquivo = caminho + \"k0.json\"\n",
    "input_file  = open(arquivo, \"r\")"
   ]
  },
  {
   "cell_type": "code",
   "execution_count": null,
   "metadata": {},
   "outputs": [],
   "source": [
    "js = json.load(input_file)\n",
    "js_1 = js"
   ]
  },
  {
   "cell_type": "code",
   "execution_count": null,
   "metadata": {},
   "outputs": [],
   "source": [
    "flattenjson(js, \"__\")"
   ]
  },
  {
   "cell_type": "code",
   "execution_count": null,
   "metadata": {
    "scrolled": true
   },
   "outputs": [],
   "source": [
    "print(js_1.keys())"
   ]
  },
  {
   "cell_type": "code",
   "execution_count": null,
   "metadata": {},
   "outputs": [],
   "source": [
    "js_1 = js\n",
    "\n",
    "dc = {}\n",
    "for i in js_1.keys():\n",
    "    print(i, \"----->\", type(js_1[i]).__name__)\n",
    "    if ( not isinstance( js_1[i], dict ) ) and ( not isinstance( js_1[i], list ) ):\n",
    "        dc[i] = js_1.get(i)\n",
    "print(dc)\n"
   ]
  },
  {
   "cell_type": "code",
   "execution_count": null,
   "metadata": {},
   "outputs": [],
   "source": [
    "my_dict = {\"test\": 1, \"testing\": 2}\n",
    "\n",
    "with open(caminho + 'n1.csv', 'w') as f:  # Just use 'w' mode in 3.x\n",
    "    w = csv.DictWriter(f, dc.keys())\n",
    "    w.writeheader()\n",
    "    w.writerow(dc)"
   ]
  },
  {
   "cell_type": "code",
   "execution_count": null,
   "metadata": {},
   "outputs": [],
   "source": []
  },
  {
   "cell_type": "code",
   "execution_count": null,
   "metadata": {},
   "outputs": [],
   "source": []
  },
  {
   "cell_type": "code",
   "execution_count": null,
   "metadata": {},
   "outputs": [],
   "source": []
  },
  {
   "cell_type": "code",
   "execution_count": null,
   "metadata": {},
   "outputs": [],
   "source": []
  },
  {
   "cell_type": "markdown",
   "metadata": {},
   "source": [
    "# <font color='black'>Simulação de Dataset</font>"
   ]
  },
  {
   "cell_type": "code",
   "execution_count": null,
   "metadata": {},
   "outputs": [],
   "source": [
    "lst = []\n",
    "colunas = [\"Catalogo\", \"Instancia\", \"Nome_Sequencia\", \"Atividade\", \"Seq_Atividade\"]\n",
    "\n",
    "\n",
    "for i_ser in list(serx):\n",
    "    cont_ins = 0\n",
    "#     print(\"instâncias =\", serx[i_ser][\"n\"])\n",
    "    for i_seq in list(serx[i_ser])[1:]:\n",
    "#         print(\"sequência\", i_seq, serx[i_ser][i_seq][\"freq\"])\n",
    "        for i_ins in range(1, int(serx[i_ser][\"n\"] * serx[i_ser][i_seq][\"freq\"] / 100) + 1):\n",
    "            cont_ins = cont_ins + 1\n",
    "#             print(i_ser, cont_ins, i_seq, serx[i_ser][i_seq][\"sq\"], len(serx[i_ser][i_seq][\"sq\"]))\n",
    "            for i_at in range(1, len(serx[i_ser][i_seq][\"sq\"]) + 1):\n",
    "                s = 'at_' + str(serx[i_ser][i_seq][\"sq\"][i_at - 1])\n",
    "                lst.append([i_ser, i_ins, i_seq, s, i_at])\n",
    "#                 print(i_ser, i_ins, i_seq, s, i_at)\n",
    "# lst\n",
    "df = pd.DataFrame(lst, columns = colunas)"
   ]
  },
  {
   "cell_type": "code",
   "execution_count": null,
   "metadata": {},
   "outputs": [],
   "source": [
    "df"
   ]
  },
  {
   "cell_type": "code",
   "execution_count": null,
   "metadata": {},
   "outputs": [],
   "source": [
    "arquivo = '~/TMP/neo_devedores.csv'\n",
    "df.to_csv (r'~/TMP/xxx.csv', sep = ';', index = False, header=True)"
   ]
  },
  {
   "cell_type": "code",
   "execution_count": null,
   "metadata": {},
   "outputs": [],
   "source": [
    "import json\n",
    "data = {'people':[{'name': 'Scott', 'website': 'stackabuse.com', 'from': 'Nebraska'}]}\n",
    "json.dumps(data, indent=2)\n",
    "{\n",
    "    \"people\": [\n",
    "        {\n",
    "            \"website\": \"stackabuse.com\", \n",
    "            \"from\": \"Nebraska\", \n",
    "            \"name\": \"Scott\"\n",
    "        }\n",
    "    ]\n",
    "}"
   ]
  },
  {
   "cell_type": "code",
   "execution_count": null,
   "metadata": {},
   "outputs": [],
   "source": [
    "import json\n",
    "data = {'people':[{'name': 'Scott', 'website': 'stackabuse.com', 'from': 'Nebraska'}]}\n",
    "json.dumps(data)"
   ]
  },
  {
   "cell_type": "code",
   "execution_count": null,
   "metadata": {},
   "outputs": [],
   "source": [
    "dt = {\"Product\":{\"a\":{\"0\", \"Desktop Computer\"},\"b\":\"Tablet\",\"c\":\"iPhone\",\"d\":\"Laptop\"},\"Price\":{\"a\":{\"0\", 700},\"b\":250,\"c\":800,\"d\":1200}}"
   ]
  },
  {
   "cell_type": "code",
   "execution_count": null,
   "metadata": {},
   "outputs": [],
   "source": [
    "df = pd.DataFrame(data)"
   ]
  },
  {
   "cell_type": "code",
   "execution_count": null,
   "metadata": {},
   "outputs": [],
   "source": [
    "df"
   ]
  },
  {
   "cell_type": "markdown",
   "metadata": {},
   "source": [
    "TESTE 2"
   ]
  },
  {
   "cell_type": "code",
   "execution_count": null,
   "metadata": {},
   "outputs": [],
   "source": [
    "import json \n",
    "import csv\n",
    "\n",
    "arquivo = \"basic_digital.json\""
   ]
  },
  {
   "cell_type": "code",
   "execution_count": null,
   "metadata": {},
   "outputs": [],
   "source": [
    "# Opening JSON file and loading the data \n",
    "# into the variable data \n",
    "with open(arquivo) as json_file: \n",
    "    data = json.load(json_file)"
   ]
  },
  {
   "cell_type": "code",
   "execution_count": null,
   "metadata": {},
   "outputs": [],
   "source": [
    "hits_data = data['hits'] "
   ]
  },
  {
   "cell_type": "code",
   "execution_count": null,
   "metadata": {},
   "outputs": [],
   "source": [
    "data_file = open('data_file.csv', 'w') "
   ]
  },
  {
   "cell_type": "code",
   "execution_count": null,
   "metadata": {},
   "outputs": [],
   "source": [
    "csv_writer = csv.writer(data_file) "
   ]
  },
  {
   "cell_type": "code",
   "execution_count": null,
   "metadata": {},
   "outputs": [],
   "source": [
    "hits_data.count()"
   ]
  },
  {
   "cell_type": "code",
   "execution_count": null,
   "metadata": {},
   "outputs": [],
   "source": [
    "count = 0\n",
    "  \n",
    "for hit in hits_data: \n",
    "    if count == 0: \n",
    "  \n",
    "        # Writing headers of CSV file \n",
    "        header = hit.keys() \n",
    "        csv_writer.writerow(header) \n",
    "        count += 1\n",
    "  \n",
    "    # Writing data of CSV file \n",
    "    csv_writer.writerow(hit.values()) \n",
    "  \n",
    "data_file.close()"
   ]
  },
  {
   "cell_type": "code",
   "execution_count": null,
   "metadata": {},
   "outputs": [],
   "source": [
    ">>> df = pd.DataFrame(\n",
    "...     {'A': [1, 2, 3],\n",
    "...      'B': ['a', 'b', 'c'],\n",
    "...      'C': pd.date_range('2016-01-01', freq='d', periods=3),\n",
    "...     }, index=pd.Index(range(3), name='idx'))\n",
    ">>> build_table_schema(df)\n",
    "{'fields': [{'name': 'idx', 'type': 'integer'},\n",
    "{'name': 'A', 'type': 'integer'},\n",
    "{'name': 'B', 'type': 'string'},\n",
    "{'name': 'C', 'type': 'datetime'}],\n",
    "'pandas_version': '0.20.0',\n",
    "'primaryKey': ['idx']}"
   ]
  },
  {
   "cell_type": "code",
   "execution_count": null,
   "metadata": {},
   "outputs": [],
   "source": [
    ">>> df = pd.DataFrame(\n",
    "...     {'A': [1, 2, 3],\n",
    "...      'B': ['a', 'b', 'c'],\n",
    "...      'C': pd.date_range('2016-01-01', freq='d', periods=3),\n",
    "...     }, index=pd.Index(range(3), name='idx'))"
   ]
  },
  {
   "cell_type": "code",
   "execution_count": null,
   "metadata": {},
   "outputs": [],
   "source": [
    "df"
   ]
  },
  {
   "cell_type": "code",
   "execution_count": null,
   "metadata": {},
   "outputs": [],
   "source": []
  }
 ],
 "metadata": {
  "kernelspec": {
   "display_name": "Python 3",
   "language": "python",
   "name": "python3"
  },
  "language_info": {
   "codemirror_mode": {
    "name": "ipython",
    "version": 3
   },
   "file_extension": ".py",
   "mimetype": "text/x-python",
   "name": "python",
   "nbconvert_exporter": "python",
   "pygments_lexer": "ipython3",
   "version": "3.7.6"
  }
 },
 "nbformat": 4,
 "nbformat_minor": 4
}
